{
 "cells": [
  {
   "cell_type": "code",
   "execution_count": 1,
   "metadata": {},
   "outputs": [],
   "source": [
    "from sympy import *\n",
    "import math\n",
    "import numpy as np"
   ]
  },
  {
   "cell_type": "markdown",
   "metadata": {},
   "source": [
    "### 8.1"
   ]
  },
  {
   "cell_type": "code",
   "execution_count": 2,
   "metadata": {},
   "outputs": [],
   "source": [
    "A=0.25*0.25/2"
   ]
  },
  {
   "cell_type": "code",
   "execution_count": 3,
   "metadata": {},
   "outputs": [],
   "source": [
    "def ElementStiffness(bi, bj, bk, ci, cj, ck, A):\n",
    "    kd_1=1/(4*A)*Matrix([[bi**2,bi*bj,bi*bk],\n",
    "                      [bi*bj,bj**2,bj*bk],\n",
    "                      [bi*bk,bj*bk,bk**2]])\n",
    "    kd_2=1/(4*A)*Matrix([[ci**2,ci*cj,ci*ck],\n",
    "                      [ci*cj,cj**2,cj*ck],\n",
    "                      [ci*ck,cj*ck,ck**2]])\n",
    "    return kd_1 + kd_2"
   ]
  },
  {
   "cell_type": "code",
   "execution_count": 4,
   "metadata": {},
   "outputs": [],
   "source": [
    "bi=-0.25\n",
    "bj=0.25\n",
    "bk=0\n",
    "ci=0\n",
    "cj=-0.25\n",
    "ck=0.25"
   ]
  },
  {
   "cell_type": "code",
   "execution_count": 5,
   "metadata": {},
   "outputs": [],
   "source": [
    "kd1=ElementStiffness(bi, bj, bk, ci, cj, ck, A)"
   ]
  },
  {
   "cell_type": "code",
   "execution_count": 6,
   "metadata": {},
   "outputs": [],
   "source": [
    "kd3=kd4=kd1"
   ]
  },
  {
   "cell_type": "code",
   "execution_count": 7,
   "metadata": {},
   "outputs": [],
   "source": [
    "bi=0.25\n",
    "bj=-0.25\n",
    "bk=0\n",
    "ci=0\n",
    "cj=0.25\n",
    "ck=-0.25"
   ]
  },
  {
   "cell_type": "code",
   "execution_count": 8,
   "metadata": {},
   "outputs": [],
   "source": [
    "kd2=ElementStiffness(bi, bj, bk, ci, cj, ck, A)"
   ]
  },
  {
   "cell_type": "code",
   "execution_count": 9,
   "metadata": {},
   "outputs": [
    {
     "data": {
      "text/latex": [
       "$\\displaystyle \\left[\\begin{matrix}0.5 & -0.5 & 0\\\\-0.5 & 1.0 & -0.5\\\\0 & -0.5 & 0.5\\end{matrix}\\right]$"
      ],
      "text/plain": [
       "Matrix([\n",
       "[ 0.5, -0.5,    0],\n",
       "[-0.5,  1.0, -0.5],\n",
       "[   0, -0.5,  0.5]])"
      ]
     },
     "execution_count": 9,
     "metadata": {},
     "output_type": "execute_result"
    }
   ],
   "source": [
    "kd1"
   ]
  },
  {
   "cell_type": "code",
   "execution_count": 10,
   "metadata": {},
   "outputs": [
    {
     "data": {
      "text/latex": [
       "$\\displaystyle \\left[\\begin{matrix}0.5 & -0.5 & 0\\\\-0.5 & 1.0 & -0.5\\\\0 & -0.5 & 0.5\\end{matrix}\\right]$"
      ],
      "text/plain": [
       "Matrix([\n",
       "[ 0.5, -0.5,    0],\n",
       "[-0.5,  1.0, -0.5],\n",
       "[   0, -0.5,  0.5]])"
      ]
     },
     "execution_count": 10,
     "metadata": {},
     "output_type": "execute_result"
    }
   ],
   "source": [
    "kd2"
   ]
  },
  {
   "cell_type": "code",
   "execution_count": 11,
   "metadata": {},
   "outputs": [],
   "source": [
    "inp = [[-0.25, 0.25, 0, 0, -0.25, 0.25, A, 0, 1, 3],\n",
    "        [0.25, -0.25, 0, 0, 0.25, -0.25, A, 4, 3, 1],\n",
    "        [-0.25, 0.25, 0, 0, -0.25, 0.25, A, 1, 2, 4],\n",
    "        [-0.25, 0.25, 0, 0, -0.25, 0.25, A, 3, 4, 5]]"
   ]
  },
  {
   "cell_type": "code",
   "execution_count": 12,
   "metadata": {},
   "outputs": [],
   "source": [
    "def LinearTriangleAssemble(K,k,i,j,m):\n",
    "    K[i,i] = K[i,i] + k[0,0]\n",
    "    K[i,j] = K[i,j] + k[0,1]\n",
    "    K[i,m] = K[i,m] + k[0,2]\n",
    "    K[j,i] = K[j,i] + k[1,0]\n",
    "    K[j,j] = K[j,j] + k[1,1]\n",
    "    K[j,m] = K[j,m] + k[1,2]\n",
    "    K[m,i] = K[m,i] + k[2,0]\n",
    "    K[m,j] = K[m,j] + k[2,1]\n",
    "    K[m,m] = K[m,m] + k[2,2]\n",
    "    return K"
   ]
  },
  {
   "cell_type": "code",
   "execution_count": 13,
   "metadata": {},
   "outputs": [],
   "source": [
    "def ElementForce(C,A):\n",
    "    return C*A/3*Matrix([1,1,1])"
   ]
  },
  {
   "cell_type": "code",
   "execution_count": 14,
   "metadata": {},
   "outputs": [],
   "source": [
    "def ForceAssemble(F,f,i,j,m):\n",
    "    F[i]=F[i]+f[0]\n",
    "    F[j]=F[j]+f[1]\n",
    "    F[m]=F[m]+f[2]\n",
    "    return F"
   ]
  },
  {
   "cell_type": "code",
   "execution_count": 15,
   "metadata": {},
   "outputs": [],
   "source": [
    "def FEA_ф(inp, bc_node, bc_val, C):\n",
    "    K=np.zeros(shape=(len(inp)+2, len(inp)+2))\n",
    "    \n",
    "    F=np.zeros(shape=(len(inp)+2,))\n",
    "    \n",
    "    max_coord=0\n",
    "    for el in inp:\n",
    "        bi, bj, bk, ci, cj, ck, A, i , j, m = el\n",
    "        max_coord=max(max_coord,i,j,m)\n",
    "        k=ElementStiffness( bi, bj, bk, ci, cj, ck, A)\n",
    "        K=LinearTriangleAssemble(K, k, i, j, m)\n",
    "        \n",
    "        f=ElementForce(C,A)\n",
    "        F=ForceAssemble(F,f,i,j,m)\n",
    "        \n",
    "        \n",
    "    bc=np.array([bc_node, \n",
    "                bc_val]).T\n",
    "\n",
    "    nd, nd=K.shape\n",
    "    fdof=np.array([i for i in range(nd)]).T\n",
    "    d=np.zeros(shape=(len(fdof),))\n",
    "    Q=np.zeros(shape=(len(fdof),))\n",
    "\n",
    "\n",
    "    pdof=bc[:,0].astype(int)\n",
    "    dp=bc[:,1]\n",
    "    fdof=np.delete(fdof, pdof, 0)\n",
    "    s=np.linalg.solve(K[fdof,:][:,fdof],(F[fdof].T-np.dot(K[fdof,:][:,pdof],dp.T)).T)\n",
    "    d[pdof]=dp\n",
    "    d[fdof]=s.reshape(-1,)\n",
    "#     Q=np.dot(K,d).T-F    \n",
    "        \n",
    "    return d"
   ]
  },
  {
   "cell_type": "code",
   "execution_count": 16,
   "metadata": {},
   "outputs": [
    {
     "data": {
      "text/plain": [
       "array([217.96875 , 159.84375 ,   0.      , 123.515625,   0.      ,\n",
       "         0.      ])"
      ]
     },
     "execution_count": 16,
     "metadata": {},
     "output_type": "execute_result"
    }
   ],
   "source": [
    "FEA_ф(inp, [2,4,5], [0,0,0], 2790)"
   ]
  },
  {
   "cell_type": "markdown",
   "metadata": {},
   "source": [
    "### 8.4"
   ]
  },
  {
   "cell_type": "code",
   "execution_count": 17,
   "metadata": {},
   "outputs": [],
   "source": [
    "def solution(Xi, Yi, Xj, Yj, Xk, Yk, C = 2790):\n",
    "    A=0.5*np.linalg.det(np.matrix(  \n",
    "                [[1,Xi,Yi],\n",
    "                [1,Xj,Yj],\n",
    "                [1,Xk,Yk]]\n",
    "                                 ))\n",
    "    \n",
    "    bi=Yj-Yk\n",
    "    bj=Yk-Yi\n",
    "    bk=Yi-Yj\n",
    "    ci=Xk-Xj\n",
    "    cj=Xi-Xk\n",
    "    ck=Xj-Xi\n",
    "  \n",
    "    kd_1=1/(4*A)*np.matrix([[bi**2, bi*bj, bi*bk],\n",
    "                            [bi*bj, bj**2, bj*bk],\n",
    "                            [bi*bk, bj*bk, bk**2]])\n",
    "    \n",
    "    kd_2=1/(4*A)*np.matrix([[ci**2, ci*cj, ci*ck],\n",
    "                            [ci*cj, cj**2, cj*ck],\n",
    "                            [ci*ck, cj*ck, ck**2]])\n",
    "    \n",
    "    kd = kd_1 + kd_2    \n",
    "    \n",
    "    f=C*A/3*np.array([1,1,1])\n",
    "    \n",
    "    d=np.linalg.lstsq(kd, f, rcond=None)[0]\n",
    "    \n",
    "    div=1/(2*A)*np.dot(np.matrix([[bi, bj, bk],\n",
    "                      [ci, cj, ck],]), d)\n",
    "    \n",
    "    return div, A/3*sum(d)"
   ]
  },
  {
   "cell_type": "code",
   "execution_count": 18,
   "metadata": {},
   "outputs": [],
   "source": [
    "Xi=0.13\n",
    "Yi=0.01\n",
    "Xj=0.25\n",
    "Yj=0.06\n",
    "Xk=0.13\n",
    "Yk=0.13"
   ]
  },
  {
   "cell_type": "code",
   "execution_count": 19,
   "metadata": {},
   "outputs": [],
   "source": [
    "div, T = solution(Xi, Yi, Xj, Yj, Xk, Yk)"
   ]
  },
  {
   "cell_type": "code",
   "execution_count": 20,
   "metadata": {},
   "outputs": [
    {
     "data": {
      "text/plain": [
       "matrix([[-1.58502894e-14,  2.59096766e-14]])"
      ]
     },
     "execution_count": 20,
     "metadata": {},
     "output_type": "execute_result"
    }
   ],
   "source": [
    "div"
   ]
  },
  {
   "cell_type": "code",
   "execution_count": 21,
   "metadata": {},
   "outputs": [
    {
     "data": {
      "text/plain": [
       "-9.466330862652143e-34"
      ]
     },
     "execution_count": 21,
     "metadata": {},
     "output_type": "execute_result"
    }
   ],
   "source": [
    "T"
   ]
  },
  {
   "cell_type": "code",
   "execution_count": 22,
   "metadata": {},
   "outputs": [],
   "source": [
    "# TODO - the answer is not the same as in the book"
   ]
  },
  {
   "cell_type": "markdown",
   "metadata": {},
   "source": [
    "### 8.6"
   ]
  },
  {
   "cell_type": "code",
   "execution_count": 23,
   "metadata": {},
   "outputs": [],
   "source": [
    "Xi=0.13\n",
    "Yi=0.13\n",
    "Xj=0.25\n",
    "Yj=0.13\n",
    "Xk=0.19\n",
    "Yk=0.19"
   ]
  },
  {
   "cell_type": "code",
   "execution_count": 24,
   "metadata": {},
   "outputs": [],
   "source": [
    "div, T = solution(Xi, Yi, Xj, Yj, Xk, Yk)"
   ]
  },
  {
   "cell_type": "code",
   "execution_count": 25,
   "metadata": {},
   "outputs": [
    {
     "data": {
      "text/plain": [
       "matrix([[-2.57283461e-15,  1.63220625e-14]])"
      ]
     },
     "execution_count": 25,
     "metadata": {},
     "output_type": "execute_result"
    }
   ],
   "source": [
    "div"
   ]
  },
  {
   "cell_type": "code",
   "execution_count": 26,
   "metadata": {},
   "outputs": [
    {
     "data": {
      "text/plain": [
       "-2.366582715663035e-34"
      ]
     },
     "execution_count": 26,
     "metadata": {},
     "output_type": "execute_result"
    }
   ],
   "source": [
    "T"
   ]
  },
  {
   "cell_type": "code",
   "execution_count": 27,
   "metadata": {},
   "outputs": [],
   "source": [
    "# TODO - the answer is not the same as in the book"
   ]
  },
  {
   "cell_type": "markdown",
   "metadata": {},
   "source": [
    "### 8.10"
   ]
  },
  {
   "cell_type": "code",
   "execution_count": 28,
   "metadata": {},
   "outputs": [],
   "source": [
    "def solution(Xi, Yi, Xj, Ym, C = 2790):\n",
    "    a=(Ym-Yi)/2\n",
    "    b=(Xj-Xi)/2\n",
    "    A=4*a*b\n",
    "  \n",
    "    kd_1=a/(6*b)*np.matrix([[2,-2,-1,1],\n",
    "                          [-2,2,1,-1],\n",
    "                          [-1,1,2,-2],\n",
    "                          [1,-1,-2,2]])\n",
    "    \n",
    "    kd_2=b/(6*a)*np.matrix([[2,1,-1,-2],\n",
    "                           [1,2,-2,-1],\n",
    "                           [-1,-2,2,1],\n",
    "                           [-2,-1,1,2]])\n",
    "    \n",
    "    kd=kd_1+kd_2\n",
    "    \n",
    "    f=C*A/4*np.array([1,1,1,1])\n",
    "\n",
    "    \n",
    "    d=np.linalg.lstsq(kd, f, rcond=None)[0]\n",
    "    t=a\n",
    "    s=b\n",
    "    div=1/(2*A)*np.dot(np.matrix([[-(2*a-t),(2*a-t),t,-t],\n",
    "                      [-(2*b-s),-s,s,(2*b-s)],]),d)\n",
    "    \n",
    "    return div, A/4*sum(d)"
   ]
  },
  {
   "cell_type": "code",
   "execution_count": 29,
   "metadata": {},
   "outputs": [],
   "source": [
    "Xi=0.25\n",
    "Yi=0.18\n",
    "Xj=0.31\n",
    "Ym=0.25"
   ]
  },
  {
   "cell_type": "code",
   "execution_count": 30,
   "metadata": {},
   "outputs": [],
   "source": [
    "div, T = solution(Xi, Yi, Xj, Ym)"
   ]
  },
  {
   "cell_type": "code",
   "execution_count": 31,
   "metadata": {},
   "outputs": [
    {
     "data": {
      "text/plain": [
       "matrix([[ 2.84693885e-15, -1.16606724e-14]])"
      ]
     },
     "execution_count": 31,
     "metadata": {},
     "output_type": "execute_result"
    }
   ],
   "source": [
    "div"
   ]
  },
  {
   "cell_type": "code",
   "execution_count": 32,
   "metadata": {},
   "outputs": [
    {
     "data": {
      "text/plain": [
       "4.141519752410313e-34"
      ]
     },
     "execution_count": 32,
     "metadata": {},
     "output_type": "execute_result"
    }
   ],
   "source": [
    "T"
   ]
  },
  {
   "cell_type": "code",
   "execution_count": 33,
   "metadata": {},
   "outputs": [],
   "source": [
    "# TODO - the answer is not the same as in the book"
   ]
  },
  {
   "cell_type": "markdown",
   "metadata": {},
   "source": [
    "### 8.12"
   ]
  },
  {
   "cell_type": "code",
   "execution_count": 34,
   "metadata": {},
   "outputs": [],
   "source": [
    "Xi=0.31\n",
    "Yi=0.13\n",
    "Xj=0.38\n",
    "Ym=0.19"
   ]
  },
  {
   "cell_type": "code",
   "execution_count": 35,
   "metadata": {},
   "outputs": [],
   "source": [
    "div, T = solution(Xi, Yi, Xj, Ym)"
   ]
  },
  {
   "cell_type": "code",
   "execution_count": 36,
   "metadata": {},
   "outputs": [
    {
     "data": {
      "text/plain": [
       "matrix([[-4.84174451e-15,  4.15643334e-16]])"
      ]
     },
     "execution_count": 36,
     "metadata": {},
     "output_type": "execute_result"
    }
   ],
   "source": [
    "div"
   ]
  },
  {
   "cell_type": "code",
   "execution_count": 37,
   "metadata": {},
   "outputs": [
    {
     "data": {
      "text/plain": [
       "2.0707598762051563e-34"
      ]
     },
     "execution_count": 37,
     "metadata": {},
     "output_type": "execute_result"
    }
   ],
   "source": [
    "T"
   ]
  },
  {
   "cell_type": "code",
   "execution_count": 38,
   "metadata": {},
   "outputs": [],
   "source": [
    "# TODO - the answer is not the same as in the book"
   ]
  }
 ],
 "metadata": {
  "kernelspec": {
   "display_name": "Python 3",
   "language": "python",
   "name": "python3"
  },
  "language_info": {
   "codemirror_mode": {
    "name": "ipython",
    "version": 3
   },
   "file_extension": ".py",
   "mimetype": "text/x-python",
   "name": "python",
   "nbconvert_exporter": "python",
   "pygments_lexer": "ipython3",
   "version": "3.7.7"
  }
 },
 "nbformat": 4,
 "nbformat_minor": 4
}
