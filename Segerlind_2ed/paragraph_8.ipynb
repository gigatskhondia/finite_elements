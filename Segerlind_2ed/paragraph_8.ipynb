{
 "cells": [
  {
   "cell_type": "code",
   "execution_count": 1,
   "metadata": {},
   "outputs": [],
   "source": [
    "from sympy import *\n",
    "import math\n",
    "import numpy as np"
   ]
  },
  {
   "cell_type": "markdown",
   "metadata": {},
   "source": [
    "### 8.1"
   ]
  },
  {
   "cell_type": "code",
   "execution_count": 2,
   "metadata": {},
   "outputs": [],
   "source": [
    "A=0.25*0.25/2"
   ]
  },
  {
   "cell_type": "code",
   "execution_count": 3,
   "metadata": {},
   "outputs": [],
   "source": [
    "def ElementStiffness(bi, bj, bk, ci, cj, ck, A):\n",
    "    kd_1=1/(4*A)*Matrix([[bi**2,bi*bj,bi*bk],\n",
    "                      [bi*bj,bj**2,bj*bk],\n",
    "                      [bi*bk,bj*bk,bk**2]])\n",
    "    kd_2=1/(4*A)*Matrix([[ci**2,ci*cj,ci*ck],\n",
    "                      [ci*cj,cj**2,cj*ck],\n",
    "                      [ci*ck,cj*ck,ck**2]])\n",
    "    return kd_1 + kd_2"
   ]
  },
  {
   "cell_type": "code",
   "execution_count": 4,
   "metadata": {},
   "outputs": [],
   "source": [
    "bi=-0.25\n",
    "bj=0.25\n",
    "bk=0\n",
    "ci=0\n",
    "cj=-0.25\n",
    "ck=0.25"
   ]
  },
  {
   "cell_type": "code",
   "execution_count": 5,
   "metadata": {},
   "outputs": [],
   "source": [
    "kd1=ElementStiffness(bi, bj, bk, ci, cj, ck, A)"
   ]
  },
  {
   "cell_type": "code",
   "execution_count": 6,
   "metadata": {},
   "outputs": [],
   "source": [
    "kd3=kd4=kd1"
   ]
  },
  {
   "cell_type": "code",
   "execution_count": 7,
   "metadata": {},
   "outputs": [],
   "source": [
    "bi=0.25\n",
    "bj=-0.25\n",
    "bk=0\n",
    "ci=0\n",
    "cj=0.25\n",
    "ck=-0.25"
   ]
  },
  {
   "cell_type": "code",
   "execution_count": 8,
   "metadata": {},
   "outputs": [],
   "source": [
    "kd2=ElementStiffness(bi, bj, bk, ci, cj, ck, A)"
   ]
  },
  {
   "cell_type": "code",
   "execution_count": 9,
   "metadata": {},
   "outputs": [
    {
     "data": {
      "text/latex": [
       "$\\displaystyle \\left[\\begin{matrix}0.5 & -0.5 & 0\\\\-0.5 & 1.0 & -0.5\\\\0 & -0.5 & 0.5\\end{matrix}\\right]$"
      ],
      "text/plain": [
       "Matrix([\n",
       "[ 0.5, -0.5,    0],\n",
       "[-0.5,  1.0, -0.5],\n",
       "[   0, -0.5,  0.5]])"
      ]
     },
     "execution_count": 9,
     "metadata": {},
     "output_type": "execute_result"
    }
   ],
   "source": [
    "kd1"
   ]
  },
  {
   "cell_type": "code",
   "execution_count": 10,
   "metadata": {},
   "outputs": [
    {
     "data": {
      "text/latex": [
       "$\\displaystyle \\left[\\begin{matrix}0.5 & -0.5 & 0\\\\-0.5 & 1.0 & -0.5\\\\0 & -0.5 & 0.5\\end{matrix}\\right]$"
      ],
      "text/plain": [
       "Matrix([\n",
       "[ 0.5, -0.5,    0],\n",
       "[-0.5,  1.0, -0.5],\n",
       "[   0, -0.5,  0.5]])"
      ]
     },
     "execution_count": 10,
     "metadata": {},
     "output_type": "execute_result"
    }
   ],
   "source": [
    "kd2"
   ]
  },
  {
   "cell_type": "code",
   "execution_count": 11,
   "metadata": {},
   "outputs": [],
   "source": [
    "inp = [[-0.25, 0.25, 0, 0, -0.25, 0.25, A, 0, 1, 3],\n",
    "        [0.25, -0.25, 0, 0, 0.25, -0.25, A, 4, 3, 1],\n",
    "        [-0.25, 0.25, 0, 0, -0.25, 0.25, A, 1, 2, 4],\n",
    "        [-0.25, 0.25, 0, 0, -0.25, 0.25, A, 3, 4, 5]]"
   ]
  },
  {
   "cell_type": "code",
   "execution_count": 12,
   "metadata": {},
   "outputs": [],
   "source": [
    "def LinearTriangleAssemble(K,k,i,j,m):\n",
    "    K[i,i] = K[i,i] + k[0,0]\n",
    "    K[i,j] = K[i,j] + k[0,1]\n",
    "    K[i,m] = K[i,m] + k[0,2]\n",
    "    K[j,i] = K[j,i] + k[1,0]\n",
    "    K[j,j] = K[j,j] + k[1,1]\n",
    "    K[j,m] = K[j,m] + k[1,2]\n",
    "    K[m,i] = K[m,i] + k[2,0]\n",
    "    K[m,j] = K[m,j] + k[2,1]\n",
    "    K[m,m] = K[m,m] + k[2,2]\n",
    "    return K"
   ]
  },
  {
   "cell_type": "code",
   "execution_count": 13,
   "metadata": {},
   "outputs": [],
   "source": [
    "def ElementForce(C,A):\n",
    "    return C*A/3*Matrix([1,1,1])"
   ]
  },
  {
   "cell_type": "code",
   "execution_count": 14,
   "metadata": {},
   "outputs": [],
   "source": [
    "def ForceAssemble(F,f,i,j,m):\n",
    "    F[i]=F[i]+f[0]\n",
    "    F[j]=F[j]+f[1]\n",
    "    F[m]=F[m]+f[2]\n",
    "    return F"
   ]
  },
  {
   "cell_type": "code",
   "execution_count": 15,
   "metadata": {},
   "outputs": [],
   "source": [
    "def FEA_ф(inp, bc_elim, C):\n",
    "    K=np.zeros(shape=(len(inp)+2, len(inp)+2))\n",
    "    \n",
    "    F=np.zeros(shape=(len(inp)+2,))\n",
    "    \n",
    "    max_coord=0\n",
    "    for el in inp:\n",
    "        bi, bj, bk, ci, cj, ck, A, i , j, m = el\n",
    "        max_coord=max(max_coord,i,j,m)\n",
    "        k=ElementStiffness( bi, bj, bk, ci, cj, ck, A)\n",
    "        K=LinearTriangleAssemble(K, k, i, j, m)\n",
    "        \n",
    "        f=ElementForce(C,A)\n",
    "        F=ForceAssemble(F,f,i,j,m)\n",
    "        \n",
    "    K=np.delete(K, bc_elim, 0)\n",
    "    K=np.delete(K, bc_elim, 1)\n",
    "    \n",
    "    F=np.delete(F, bc_elim, 0)\n",
    "    \n",
    "    d=np.linalg.lstsq(K, F, rcond=None)[0]\n",
    "    ans=np.zeros(shape=(max_coord+1,))\n",
    "\n",
    "    j=0\n",
    "    for i in range(len(ans)):\n",
    "        if i not in bc_elim:\n",
    "            ans[i]=d[j]\n",
    "            j+=1\n",
    "            if j>len(d)-1:\n",
    "                break\n",
    "    return ans"
   ]
  },
  {
   "cell_type": "code",
   "execution_count": 16,
   "metadata": {},
   "outputs": [
    {
     "data": {
      "text/plain": [
       "array([217.96875 , 159.84375 ,   0.      , 123.515625,   0.      ,\n",
       "         0.      ])"
      ]
     },
     "execution_count": 16,
     "metadata": {},
     "output_type": "execute_result"
    }
   ],
   "source": [
    "FEA_ф(inp, [2,4,5], 2790)"
   ]
  },
  {
   "cell_type": "markdown",
   "metadata": {},
   "source": [
    "### 8.4"
   ]
  },
  {
   "cell_type": "markdown",
   "metadata": {},
   "source": [
    "### 8.6"
   ]
  },
  {
   "cell_type": "markdown",
   "metadata": {},
   "source": [
    "### 8.10"
   ]
  },
  {
   "cell_type": "markdown",
   "metadata": {},
   "source": [
    "### 8.12"
   ]
  },
  {
   "cell_type": "code",
   "execution_count": null,
   "metadata": {},
   "outputs": [],
   "source": []
  }
 ],
 "metadata": {
  "kernelspec": {
   "display_name": "Python 3",
   "language": "python",
   "name": "python3"
  },
  "language_info": {
   "codemirror_mode": {
    "name": "ipython",
    "version": 3
   },
   "file_extension": ".py",
   "mimetype": "text/x-python",
   "name": "python",
   "nbconvert_exporter": "python",
   "pygments_lexer": "ipython3",
   "version": "3.7.7"
  }
 },
 "nbformat": 4,
 "nbformat_minor": 4
}
