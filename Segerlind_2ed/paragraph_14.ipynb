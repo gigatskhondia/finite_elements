{
 "cells": [
  {
   "cell_type": "code",
   "execution_count": 1,
   "metadata": {},
   "outputs": [],
   "source": [
    "from sympy import *\n",
    "import math\n",
    "import numpy as np"
   ]
  },
  {
   "cell_type": "markdown",
   "metadata": {},
   "source": [
    "### 14.1"
   ]
  },
  {
   "cell_type": "code",
   "execution_count": 2,
   "metadata": {},
   "outputs": [],
   "source": [
    "D=4\n",
    "lambda_=12\n",
    "q=5\n",
    "A=1\n",
    "dt=1\n",
    "L=2"
   ]
  },
  {
   "cell_type": "code",
   "execution_count": 3,
   "metadata": {},
   "outputs": [],
   "source": [
    "def elementTimeStiffness(lambda_, L):\n",
    "    return lambda_*L/2*np.matrix([[1, 0], [0, 1]])"
   ]
  },
  {
   "cell_type": "code",
   "execution_count": 4,
   "metadata": {},
   "outputs": [],
   "source": [
    "def elementStiffness(D, L):\n",
    "    return D/L*np.matrix([[1, -1], [-1, 1]])"
   ]
  },
  {
   "cell_type": "code",
   "execution_count": 5,
   "metadata": {},
   "outputs": [],
   "source": [
    "e = 2\n",
    "n = e+1"
   ]
  },
  {
   "cell_type": "code",
   "execution_count": 6,
   "metadata": {},
   "outputs": [],
   "source": [
    "elem=[]    \n",
    "for i in range(e):\n",
    "    P=[i,i+1]\n",
    "    elem.append(P)\n",
    "elem=np.array(elem) "
   ]
  },
  {
   "cell_type": "code",
   "execution_count": 7,
   "metadata": {},
   "outputs": [],
   "source": [
    "K=np.zeros((n,n))   \n",
    "F=np.zeros((n,1))  \n",
    "C=np.zeros((n,n)) \n",
    "\n",
    "for i in range(e):\n",
    "    node1 = elem[i,0]\n",
    "    node2 = elem[i,1]\n",
    "    Ke = elementStiffness(D, L)\n",
    "    Ce = elementTimeStiffness(lambda_, L)\n",
    "    K[node1:node2+1,node1:node2+1] = K[node1:node2+1,node1:node2+1] + Ke\n",
    "    C[node1:node2+1,node1:node2+1] = C[node1:node2+1,node1:node2+1] + Ce\n",
    "\n",
    "F[0] = F[0] + q\n",
    "   \n",
    "C1=C+dt/2*K\n",
    "C2=C-dt/2*K\n",
    "C3=dt/2\n",
    "\n",
    "Fa=Fb=F\n",
    "\n",
    "ans=np.linalg.lstsq(C1, C3*(Fa+Fb), rcond=None)[0]"
   ]
  },
  {
   "cell_type": "code",
   "execution_count": 8,
   "metadata": {},
   "outputs": [
    {
     "data": {
      "text/plain": [
       "array([[0.38576007],\n",
       "       [0.01488095],\n",
       "       [0.00114469]])"
      ]
     },
     "execution_count": 8,
     "metadata": {},
     "output_type": "execute_result"
    }
   ],
   "source": [
    "ans"
   ]
  },
  {
   "cell_type": "code",
   "execution_count": 9,
   "metadata": {},
   "outputs": [],
   "source": [
    "ans2 = np.linalg.lstsq(C1, np.dot(C2, ans)+C3*(Fa+Fb), rcond=None)[0]"
   ]
  },
  {
   "cell_type": "code",
   "execution_count": 10,
   "metadata": {},
   "outputs": [
    {
     "data": {
      "text/plain": [
       "array([[0.71642414],\n",
       "       [0.05527211],\n",
       "       [0.00636497]])"
      ]
     },
     "execution_count": 10,
     "metadata": {},
     "output_type": "execute_result"
    }
   ],
   "source": [
    "ans2"
   ]
  },
  {
   "cell_type": "code",
   "execution_count": 11,
   "metadata": {},
   "outputs": [],
   "source": [
    "### 14.4"
   ]
  },
  {
   "cell_type": "code",
   "execution_count": 12,
   "metadata": {},
   "outputs": [],
   "source": [
    "### 14.6"
   ]
  },
  {
   "cell_type": "code",
   "execution_count": 13,
   "metadata": {},
   "outputs": [],
   "source": [
    "### 14.8"
   ]
  },
  {
   "cell_type": "code",
   "execution_count": 14,
   "metadata": {},
   "outputs": [],
   "source": [
    "### 14.10"
   ]
  },
  {
   "cell_type": "code",
   "execution_count": 15,
   "metadata": {},
   "outputs": [],
   "source": [
    "### 14.12"
   ]
  }
 ],
 "metadata": {
  "kernelspec": {
   "display_name": "Python 3",
   "language": "python",
   "name": "python3"
  },
  "language_info": {
   "codemirror_mode": {
    "name": "ipython",
    "version": 3
   },
   "file_extension": ".py",
   "mimetype": "text/x-python",
   "name": "python",
   "nbconvert_exporter": "python",
   "pygments_lexer": "ipython3",
   "version": "3.7.7"
  }
 },
 "nbformat": 4,
 "nbformat_minor": 4
}
