{
 "cells": [
  {
   "cell_type": "code",
   "execution_count": 1,
   "metadata": {},
   "outputs": [],
   "source": [
    "from sympy import *\n",
    "import math\n",
    "import numpy as np"
   ]
  },
  {
   "cell_type": "markdown",
   "metadata": {},
   "source": [
    "### 14.1"
   ]
  },
  {
   "cell_type": "code",
   "execution_count": 2,
   "metadata": {},
   "outputs": [],
   "source": [
    "D=4\n",
    "lambda_=12\n",
    "q=5\n",
    "dt=1\n",
    "L=2"
   ]
  },
  {
   "cell_type": "code",
   "execution_count": 3,
   "metadata": {},
   "outputs": [],
   "source": [
    "def elementTimeStiffness(lambda_, L):\n",
    "    return lambda_*L/2*np.matrix([[1, 0], [0, 1]])"
   ]
  },
  {
   "cell_type": "code",
   "execution_count": 4,
   "metadata": {},
   "outputs": [],
   "source": [
    "def elementStiffness(D, L):\n",
    "    return D/L*np.matrix([[1, -1], [-1, 1]])"
   ]
  },
  {
   "cell_type": "code",
   "execution_count": 5,
   "metadata": {},
   "outputs": [],
   "source": [
    "e = 2\n",
    "n = e+1"
   ]
  },
  {
   "cell_type": "code",
   "execution_count": 6,
   "metadata": {},
   "outputs": [],
   "source": [
    "elem=[]    \n",
    "for i in range(e):\n",
    "    P_=[i,i+1]\n",
    "    elem.append(P_)\n",
    "elem=np.array(elem) "
   ]
  },
  {
   "cell_type": "code",
   "execution_count": 7,
   "metadata": {},
   "outputs": [],
   "source": [
    "K=np.zeros((n,n))   \n",
    "F=np.zeros((n,1))  \n",
    "C=np.zeros((n,n)) \n",
    "\n",
    "for i in range(e):\n",
    "    node1 = elem[i,0]\n",
    "    node2 = elem[i,1]\n",
    "    Ke = elementStiffness(D, L)\n",
    "    Ce = elementTimeStiffness(lambda_, L)\n",
    "    K[node1:node2+1,node1:node2+1] = K[node1:node2+1,node1:node2+1] + Ke\n",
    "    C[node1:node2+1,node1:node2+1] = C[node1:node2+1,node1:node2+1] + Ce\n",
    "\n",
    "F[0] = F[0] + q\n",
    "   \n",
    "A=C+dt/2*K\n",
    "P=C-dt/2*K\n",
    "Co=dt/2\n",
    "\n",
    "Fa=Fb=F\n",
    "\n",
    "ans=np.linalg.lstsq(A, Co*(Fa+Fb), rcond=None)[0]"
   ]
  },
  {
   "cell_type": "code",
   "execution_count": 8,
   "metadata": {},
   "outputs": [
    {
     "data": {
      "text/plain": [
       "array([[0.38576007],\n",
       "       [0.01488095],\n",
       "       [0.00114469]])"
      ]
     },
     "execution_count": 8,
     "metadata": {},
     "output_type": "execute_result"
    }
   ],
   "source": [
    "ans"
   ]
  },
  {
   "cell_type": "code",
   "execution_count": 9,
   "metadata": {},
   "outputs": [],
   "source": [
    "ans2 = np.linalg.lstsq(A, np.dot(P, ans)+Co*(Fa+Fb), rcond=None)[0]"
   ]
  },
  {
   "cell_type": "code",
   "execution_count": 10,
   "metadata": {},
   "outputs": [
    {
     "data": {
      "text/plain": [
       "array([[0.71642414],\n",
       "       [0.05527211],\n",
       "       [0.00636497]])"
      ]
     },
     "execution_count": 10,
     "metadata": {},
     "output_type": "execute_result"
    }
   ],
   "source": [
    "ans2"
   ]
  },
  {
   "cell_type": "markdown",
   "metadata": {},
   "source": [
    "### 14.4"
   ]
  },
  {
   "cell_type": "code",
   "execution_count": 11,
   "metadata": {},
   "outputs": [],
   "source": [
    "D=2\n",
    "lambda_=6\n",
    "dt=1\n",
    "L=2"
   ]
  },
  {
   "cell_type": "code",
   "execution_count": 12,
   "metadata": {},
   "outputs": [],
   "source": [
    "e = 4\n",
    "n = e+1"
   ]
  },
  {
   "cell_type": "code",
   "execution_count": 13,
   "metadata": {},
   "outputs": [],
   "source": [
    "def elementTimeStiffnessC(lambda_, L):\n",
    "    return lambda_*L/6*np.matrix([[2, 1], \n",
    "                                  [1, 2]])"
   ]
  },
  {
   "cell_type": "code",
   "execution_count": 14,
   "metadata": {},
   "outputs": [],
   "source": [
    "elem=[]    \n",
    "for i in range(e):\n",
    "    P_=[i,i+1]\n",
    "    elem.append(P_)\n",
    "elem=np.array(elem) "
   ]
  },
  {
   "cell_type": "code",
   "execution_count": 15,
   "metadata": {},
   "outputs": [],
   "source": [
    "K=np.zeros((n,n))   \n",
    "C=np.zeros((n,n)) \n",
    "F=np.zeros((n,1)) \n",
    "\n",
    "for i in range(e):\n",
    "    node1 = elem[i,0]\n",
    "    node2 = elem[i,1]\n",
    "    Ke = elementStiffness(D, L)\n",
    "    Ce = elementTimeStiffnessC(lambda_, L)\n",
    "    K[node1:node2+1,node1:node2+1] = K[node1:node2+1,node1:node2+1] + Ke\n",
    "    C[node1:node2+1,node1:node2+1] = C[node1:node2+1,node1:node2+1] + Ce\n",
    "\n",
    "    \n",
    "bc=np.array([[0,4], [10,10]]).T\n",
    "\n",
    "nd, nd=K.shape\n",
    "fdof=np.array([i for i in range(nd)]).T\n",
    "d=np.zeros(shape=(len(fdof),))\n",
    "\n",
    "pdof=bc[:,0].astype(int)\n",
    "dp=bc[:,1]\n",
    "fdof=np.delete(fdof, pdof, 0) "
   ]
  },
  {
   "cell_type": "code",
   "execution_count": 16,
   "metadata": {},
   "outputs": [],
   "source": [
    "A=C+2*dt/3*K\n",
    "P=C-dt/3*K"
   ]
  },
  {
   "cell_type": "code",
   "execution_count": 17,
   "metadata": {},
   "outputs": [
    {
     "data": {
      "text/plain": [
       "array([[9.33333333, 1.33333333, 0.        ],\n",
       "       [1.33333333, 9.33333333, 1.33333333],\n",
       "       [0.        , 1.33333333, 9.33333333]])"
      ]
     },
     "execution_count": 17,
     "metadata": {},
     "output_type": "execute_result"
    }
   ],
   "source": [
    "A[fdof,:][:,fdof]"
   ]
  },
  {
   "cell_type": "code",
   "execution_count": 18,
   "metadata": {},
   "outputs": [
    {
     "data": {
      "text/plain": [
       "array([[7.33333333, 2.33333333, 0.        ],\n",
       "       [2.33333333, 7.33333333, 2.33333333],\n",
       "       [0.        , 2.33333333, 7.33333333]])"
      ]
     },
     "execution_count": 18,
     "metadata": {},
     "output_type": "execute_result"
    }
   ],
   "source": [
    "P[fdof,:][:,fdof]"
   ]
  },
  {
   "cell_type": "code",
   "execution_count": 19,
   "metadata": {},
   "outputs": [],
   "source": [
    "Fa=Fb=(F[fdof].T-np.dot(K[fdof,:][:,pdof],dp.T)).T"
   ]
  },
  {
   "cell_type": "code",
   "execution_count": 20,
   "metadata": {},
   "outputs": [
    {
     "data": {
      "text/plain": [
       "array([[10.],\n",
       "       [ 0.],\n",
       "       [10.]])"
      ]
     },
     "execution_count": 20,
     "metadata": {},
     "output_type": "execute_result"
    }
   ],
   "source": [
    "dt/3*(Fa+2*Fb)"
   ]
  },
  {
   "cell_type": "code",
   "execution_count": 21,
   "metadata": {},
   "outputs": [],
   "source": [
    "# TODO - the answer is not the same as in the book"
   ]
  },
  {
   "cell_type": "markdown",
   "metadata": {},
   "source": [
    "### 14.6"
   ]
  },
  {
   "cell_type": "code",
   "execution_count": 22,
   "metadata": {},
   "outputs": [],
   "source": [
    "D=2\n",
    "lambda_=6\n",
    "dt=1\n",
    "L=2"
   ]
  },
  {
   "cell_type": "code",
   "execution_count": 23,
   "metadata": {},
   "outputs": [],
   "source": [
    "e = 4\n",
    "n = e+1"
   ]
  },
  {
   "cell_type": "code",
   "execution_count": 24,
   "metadata": {},
   "outputs": [],
   "source": [
    "elem=[]    \n",
    "for i in range(e):\n",
    "    P_=[i,i+1]\n",
    "    elem.append(P_)\n",
    "elem=np.array(elem) "
   ]
  },
  {
   "cell_type": "code",
   "execution_count": 25,
   "metadata": {},
   "outputs": [],
   "source": [
    "K=np.zeros((n,n))   \n",
    "C=np.zeros((n,n)) \n",
    "F=np.zeros((n,1)) \n",
    "\n",
    "for i in range(e):\n",
    "    node1 = elem[i,0]\n",
    "    node2 = elem[i,1]\n",
    "    Ke = elementStiffness(D, L)\n",
    "    Ce = elementTimeStiffness(lambda_, L)\n",
    "    K[node1:node2+1,node1:node2+1] = K[node1:node2+1,node1:node2+1] + Ke\n",
    "    C[node1:node2+1,node1:node2+1] = C[node1:node2+1,node1:node2+1] + Ce\n",
    "\n",
    "    \n",
    "bc=np.array([[0,4], [10,10]]).T\n",
    "\n",
    "nd, nd=K.shape\n",
    "fdof=np.array([i for i in range(nd)]).T\n",
    "d=np.zeros(shape=(len(fdof),))\n",
    "\n",
    "pdof=bc[:,0].astype(int)\n",
    "dp=bc[:,1]\n",
    "fdof=np.delete(fdof, pdof, 0) "
   ]
  },
  {
   "cell_type": "code",
   "execution_count": 26,
   "metadata": {},
   "outputs": [],
   "source": [
    "A=C\n",
    "P=C-dt*K"
   ]
  },
  {
   "cell_type": "code",
   "execution_count": 27,
   "metadata": {},
   "outputs": [],
   "source": [
    "C1=A[fdof,:][:,fdof]"
   ]
  },
  {
   "cell_type": "code",
   "execution_count": 28,
   "metadata": {},
   "outputs": [],
   "source": [
    "C2=P[fdof,:][:,fdof]"
   ]
  },
  {
   "cell_type": "code",
   "execution_count": 29,
   "metadata": {},
   "outputs": [],
   "source": [
    "Fa=Fb=(F[fdof].T-np.dot(K[fdof,:][:,pdof],dp.T)).T"
   ]
  },
  {
   "cell_type": "code",
   "execution_count": 30,
   "metadata": {},
   "outputs": [],
   "source": [
    "C3=dt*Fa"
   ]
  },
  {
   "cell_type": "code",
   "execution_count": 31,
   "metadata": {},
   "outputs": [],
   "source": [
    "ans = np.linalg.lstsq(C1, np.dot(C2, np.array([50,50,50]).reshape(3,1))+C3, rcond=None)[0]"
   ]
  },
  {
   "cell_type": "code",
   "execution_count": 32,
   "metadata": {},
   "outputs": [
    {
     "data": {
      "text/plain": [
       "array([[46.66666667],\n",
       "       [50.        ],\n",
       "       [46.66666667]])"
      ]
     },
     "execution_count": 32,
     "metadata": {},
     "output_type": "execute_result"
    }
   ],
   "source": [
    "ans"
   ]
  },
  {
   "cell_type": "code",
   "execution_count": 33,
   "metadata": {},
   "outputs": [],
   "source": [
    "ans2 = np.linalg.lstsq(C1, np.dot(C2, ans)+C3, rcond=None)[0]"
   ]
  },
  {
   "cell_type": "code",
   "execution_count": 34,
   "metadata": {},
   "outputs": [
    {
     "data": {
      "text/plain": [
       "array([[43.88888889],\n",
       "       [49.44444444],\n",
       "       [43.88888889]])"
      ]
     },
     "execution_count": 34,
     "metadata": {},
     "output_type": "execute_result"
    }
   ],
   "source": [
    "ans2"
   ]
  },
  {
   "cell_type": "markdown",
   "metadata": {},
   "source": [
    "### 14.8"
   ]
  },
  {
   "cell_type": "code",
   "execution_count": 35,
   "metadata": {},
   "outputs": [],
   "source": [
    "D=3\n",
    "lambda_=4\n",
    "dt=1\n",
    "L=3"
   ]
  },
  {
   "cell_type": "code",
   "execution_count": 36,
   "metadata": {},
   "outputs": [],
   "source": [
    "e = 4\n",
    "n = e+1"
   ]
  },
  {
   "cell_type": "code",
   "execution_count": 37,
   "metadata": {},
   "outputs": [],
   "source": [
    "elem=[]    \n",
    "for i in range(e):\n",
    "    P_=[i,i+1]\n",
    "    elem.append(P_)\n",
    "elem=np.array(elem) "
   ]
  },
  {
   "cell_type": "code",
   "execution_count": 38,
   "metadata": {},
   "outputs": [],
   "source": [
    "K=np.zeros((n,n))   \n",
    "C=np.zeros((n,n)) \n",
    "F=np.zeros((n,1)) \n",
    "\n",
    "for i in range(e):\n",
    "    node1 = elem[i,0]\n",
    "    node2 = elem[i,1]\n",
    "    Ke = elementStiffness(D, L)\n",
    "    Ce = elementTimeStiffnessC(lambda_, L)\n",
    "    K[node1:node2+1,node1:node2+1] = K[node1:node2+1,node1:node2+1] + Ke\n",
    "    C[node1:node2+1,node1:node2+1] = C[node1:node2+1,node1:node2+1] + Ce\n",
    "\n",
    "    \n",
    "bc=np.array([[0], [5]]).T\n",
    "\n",
    "nd, nd=K.shape\n",
    "fdof=np.array([i for i in range(nd)]).T\n",
    "d=np.zeros(shape=(len(fdof),))\n",
    "\n",
    "pdof=bc[:,0].astype(int)\n",
    "dp=bc[:,1]\n",
    "fdof=np.delete(fdof, pdof, 0) "
   ]
  },
  {
   "cell_type": "code",
   "execution_count": 39,
   "metadata": {},
   "outputs": [],
   "source": [
    "A=C\n",
    "P=C-dt*K"
   ]
  },
  {
   "cell_type": "code",
   "execution_count": 40,
   "metadata": {},
   "outputs": [
    {
     "data": {
      "text/plain": [
       "array([[8., 2., 0., 0.],\n",
       "       [2., 8., 2., 0.],\n",
       "       [0., 2., 8., 2.],\n",
       "       [0., 0., 2., 4.]])"
      ]
     },
     "execution_count": 40,
     "metadata": {},
     "output_type": "execute_result"
    }
   ],
   "source": [
    "A[fdof,:][:,fdof]"
   ]
  },
  {
   "cell_type": "code",
   "execution_count": 41,
   "metadata": {},
   "outputs": [
    {
     "data": {
      "text/plain": [
       "array([[6., 3., 0., 0.],\n",
       "       [3., 6., 3., 0.],\n",
       "       [0., 3., 6., 3.],\n",
       "       [0., 0., 3., 3.]])"
      ]
     },
     "execution_count": 41,
     "metadata": {},
     "output_type": "execute_result"
    }
   ],
   "source": [
    "P[fdof,:][:,fdof]"
   ]
  },
  {
   "cell_type": "code",
   "execution_count": 42,
   "metadata": {},
   "outputs": [],
   "source": [
    "Fa=(F[fdof].T-np.dot(K[fdof,:][:,pdof],dp.T)).T"
   ]
  },
  {
   "cell_type": "code",
   "execution_count": 43,
   "metadata": {},
   "outputs": [
    {
     "data": {
      "text/plain": [
       "array([[5.],\n",
       "       [0.],\n",
       "       [0.],\n",
       "       [0.]])"
      ]
     },
     "execution_count": 43,
     "metadata": {},
     "output_type": "execute_result"
    }
   ],
   "source": [
    "dt*Fa"
   ]
  },
  {
   "cell_type": "markdown",
   "metadata": {},
   "source": [
    "### 14.10"
   ]
  },
  {
   "cell_type": "code",
   "execution_count": 44,
   "metadata": {},
   "outputs": [],
   "source": [
    "D=3\n",
    "lambda_=4\n",
    "dt=1\n",
    "L=3"
   ]
  },
  {
   "cell_type": "code",
   "execution_count": 45,
   "metadata": {},
   "outputs": [],
   "source": [
    "e = 4\n",
    "n = e+1"
   ]
  },
  {
   "cell_type": "code",
   "execution_count": 46,
   "metadata": {},
   "outputs": [],
   "source": [
    "elem=[]    \n",
    "for i in range(e):\n",
    "    P_=[i,i+1]\n",
    "    elem.append(P_)\n",
    "elem=np.array(elem) "
   ]
  },
  {
   "cell_type": "code",
   "execution_count": 47,
   "metadata": {},
   "outputs": [],
   "source": [
    "K=np.zeros((n,n))   \n",
    "C=np.zeros((n,n)) \n",
    "F=np.zeros((n,1)) \n",
    "\n",
    "for i in range(e):\n",
    "    node1 = elem[i,0]\n",
    "    node2 = elem[i,1]\n",
    "    Ke = elementStiffness(D, L)\n",
    "    Ce = elementTimeStiffness(lambda_, L)\n",
    "    K[node1:node2+1,node1:node2+1] = K[node1:node2+1,node1:node2+1] + Ke\n",
    "    C[node1:node2+1,node1:node2+1] = C[node1:node2+1,node1:node2+1] + Ce\n",
    "\n",
    "    \n",
    "bc=np.array([[0], [5]]).T\n",
    "\n",
    "nd, nd=K.shape\n",
    "fdof=np.array([i for i in range(nd)]).T\n",
    "d=np.zeros(shape=(len(fdof),))\n",
    "\n",
    "pdof=bc[:,0].astype(int)\n",
    "dp=bc[:,1]\n",
    "fdof=np.delete(fdof, pdof, 0) "
   ]
  },
  {
   "cell_type": "code",
   "execution_count": 48,
   "metadata": {},
   "outputs": [],
   "source": [
    "A=C\n",
    "P=C-dt*K"
   ]
  },
  {
   "cell_type": "code",
   "execution_count": 49,
   "metadata": {},
   "outputs": [],
   "source": [
    "C1=A[fdof,:][:,fdof]"
   ]
  },
  {
   "cell_type": "code",
   "execution_count": 50,
   "metadata": {},
   "outputs": [],
   "source": [
    "C2=P[fdof,:][:,fdof]"
   ]
  },
  {
   "cell_type": "code",
   "execution_count": 51,
   "metadata": {},
   "outputs": [],
   "source": [
    "Fa=(F[fdof].T-np.dot(K[fdof,:][:,pdof],dp.T)).T"
   ]
  },
  {
   "cell_type": "code",
   "execution_count": 52,
   "metadata": {},
   "outputs": [],
   "source": [
    "C3=dt*Fa"
   ]
  },
  {
   "cell_type": "code",
   "execution_count": 53,
   "metadata": {},
   "outputs": [],
   "source": [
    "ans = np.linalg.lstsq(C1, np.dot(C2, np.array([30,30,30,30]).reshape(4,1))+C3, rcond=None)[0]"
   ]
  },
  {
   "cell_type": "code",
   "execution_count": 54,
   "metadata": {},
   "outputs": [
    {
     "data": {
      "text/plain": [
       "array([[27.91666667],\n",
       "       [30.        ],\n",
       "       [30.        ],\n",
       "       [30.        ]])"
      ]
     },
     "execution_count": 54,
     "metadata": {},
     "output_type": "execute_result"
    }
   ],
   "source": [
    "ans"
   ]
  },
  {
   "cell_type": "code",
   "execution_count": 55,
   "metadata": {},
   "outputs": [],
   "source": [
    "ans2 = np.linalg.lstsq(C1, np.dot(C2, ans)+C3, rcond=None)[0]"
   ]
  },
  {
   "cell_type": "code",
   "execution_count": 56,
   "metadata": {},
   "outputs": [
    {
     "data": {
      "text/plain": [
       "array([[26.18055556],\n",
       "       [29.82638889],\n",
       "       [30.        ],\n",
       "       [30.        ]])"
      ]
     },
     "execution_count": 56,
     "metadata": {},
     "output_type": "execute_result"
    }
   ],
   "source": [
    "ans2"
   ]
  },
  {
   "cell_type": "code",
   "execution_count": 57,
   "metadata": {},
   "outputs": [],
   "source": [
    "# TODO - the answer is not the same as in the book"
   ]
  },
  {
   "cell_type": "markdown",
   "metadata": {},
   "source": [
    "### 14.12"
   ]
  },
  {
   "cell_type": "code",
   "execution_count": 58,
   "metadata": {},
   "outputs": [],
   "source": [
    "D=4\n",
    "lambda_=12\n",
    "q=5\n",
    "dt=1\n",
    "L=2"
   ]
  },
  {
   "cell_type": "code",
   "execution_count": 59,
   "metadata": {},
   "outputs": [],
   "source": [
    "e = 2\n",
    "n = e+1"
   ]
  },
  {
   "cell_type": "code",
   "execution_count": 60,
   "metadata": {},
   "outputs": [],
   "source": [
    "elem=[]    \n",
    "for i in range(e):\n",
    "    P_=[i,i+1]\n",
    "    elem.append(P_)\n",
    "elem=np.array(elem) "
   ]
  },
  {
   "cell_type": "code",
   "execution_count": 61,
   "metadata": {},
   "outputs": [],
   "source": [
    "K=np.zeros((n,n))   \n",
    "F=np.zeros((n,1))  \n",
    "C=np.zeros((n,n)) \n",
    "\n",
    "for i in range(e):\n",
    "    node1 = elem[i,0]\n",
    "    node2 = elem[i,1]\n",
    "    Ke = elementStiffness(D, L)\n",
    "    Ce = elementTimeStiffness(lambda_, L)\n",
    "    K[node1:node2+1,node1:node2+1] = K[node1:node2+1,node1:node2+1] + Ke\n",
    "    C[node1:node2+1,node1:node2+1] = C[node1:node2+1,node1:node2+1] + Ce\n",
    "\n",
    "F[0] = F[0] + q\n",
    "   \n",
    "    \n",
    "A=C+2*dt/3*K\n",
    "P=C-dt/3*K\n",
    "\n",
    "\n",
    "\n",
    "bc=np.array([[0], [10]]).T\n",
    "\n",
    "nd, nd=K.shape\n",
    "fdof=np.array([i for i in range(nd)]).T\n",
    "d=np.zeros(shape=(len(fdof),))\n",
    "\n",
    "pdof=bc[:,0].astype(int)\n",
    "dp=bc[:,1]\n",
    "fdof=np.delete(fdof, pdof, 0) \n",
    "\n",
    "\n",
    "\n",
    "C1=A[fdof,:][:,fdof]\n",
    "C2=P[fdof,:][:,fdof]\n",
    "Fa=Fb=(F[fdof].T-np.dot(K[fdof,:][:,pdof],dp.T)).T\n",
    "Co=dt/3*(Fa+2*Fb)\n",
    "\n",
    "ans=np.linalg.lstsq(C1, Co, rcond=None)[0]"
   ]
  },
  {
   "cell_type": "code",
   "execution_count": 62,
   "metadata": {},
   "outputs": [
    {
     "data": {
      "text/plain": [
       "array([[0.75376884],\n",
       "       [0.07537688]])"
      ]
     },
     "execution_count": 62,
     "metadata": {},
     "output_type": "execute_result"
    }
   ],
   "source": [
    "ans"
   ]
  },
  {
   "cell_type": "code",
   "execution_count": 63,
   "metadata": {},
   "outputs": [],
   "source": [
    "ans2 = np.linalg.lstsq(C1, np.dot(C2, ans)+Co, rcond=None)[0]"
   ]
  },
  {
   "cell_type": "code",
   "execution_count": 64,
   "metadata": {},
   "outputs": [
    {
     "data": {
      "text/plain": [
       "array([[1.40469938],\n",
       "       [0.24222873]])"
      ]
     },
     "execution_count": 64,
     "metadata": {},
     "output_type": "execute_result"
    }
   ],
   "source": [
    "ans2"
   ]
  },
  {
   "cell_type": "code",
   "execution_count": 65,
   "metadata": {},
   "outputs": [],
   "source": [
    "# [10, 1.40469938, 0.24222873]"
   ]
  },
  {
   "cell_type": "code",
   "execution_count": 66,
   "metadata": {},
   "outputs": [
    {
     "data": {
      "text/plain": [
       "array([[1.97372528],\n",
       "       [0.47350192]])"
      ]
     },
     "execution_count": 66,
     "metadata": {},
     "output_type": "execute_result"
    }
   ],
   "source": [
    "np.linalg.lstsq(C1, np.dot(C2, ans2)+Co, rcond=None)[0]"
   ]
  }
 ],
 "metadata": {
  "kernelspec": {
   "display_name": "Python 3",
   "language": "python",
   "name": "python3"
  },
  "language_info": {
   "codemirror_mode": {
    "name": "ipython",
    "version": 3
   },
   "file_extension": ".py",
   "mimetype": "text/x-python",
   "name": "python",
   "nbconvert_exporter": "python",
   "pygments_lexer": "ipython3",
   "version": "3.7.7"
  }
 },
 "nbformat": 4,
 "nbformat_minor": 4
}
