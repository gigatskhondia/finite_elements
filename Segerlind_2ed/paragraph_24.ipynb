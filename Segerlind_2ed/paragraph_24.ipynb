{
 "cells": [
  {
   "cell_type": "code",
   "execution_count": 1,
   "metadata": {},
   "outputs": [],
   "source": [
    "from sympy import *\n",
    "import math\n",
    "import numpy as np"
   ]
  },
  {
   "cell_type": "markdown",
   "metadata": {},
   "source": [
    "### 24.1"
   ]
  },
  {
   "cell_type": "code",
   "execution_count": 2,
   "metadata": {},
   "outputs": [],
   "source": [
    "Ri=1\n",
    "Zi=1\n",
    "Rj=3\n",
    "Zj=1\n",
    "Rk=3\n",
    "Zk=4"
   ]
  },
  {
   "cell_type": "code",
   "execution_count": 3,
   "metadata": {},
   "outputs": [],
   "source": [
    "def B(Xi, Yi, Xj, Yj, Xk, Yk, x, y):\n",
    "    A=0.5*np.linalg.det(np.array([[1,Xi,Yi], [1,Xj,Yj], [1,Xk,Yk]]))\n",
    "    ai=Xj*Yk-Xk*Yj\n",
    "    aj=Xk*Yi-Xi*Yk\n",
    "    ak=Xi*Yj-Xj*Yi\n",
    "    bi=Yj-Yk\n",
    "    bj=Yk-Yi\n",
    "    bk=Yi-Yj\n",
    "    ci=Xk-Xj\n",
    "    cj=Xi-Xk\n",
    "    ck=Xj-Xi\n",
    "    Ni=(ai+bi*x+ci*y)/(2*A)\n",
    "    Nj=(aj+bj*x+cj*y)/(2*A)\n",
    "    Nk=(ak+bk*x+ck*y)/(2*A)\n",
    "    return 1/(2*A)*np.matrix([[bi,0,bj,0,bk,0],\n",
    "                      [2*A*Ni/x,0,2*A*Nj/x,0,2*A*Nk/x,0],\n",
    "                      [0,ci,0,cj,0,ck],\n",
    "                      [ci,bi,cj,bj,ck,bk]])"
   ]
  },
  {
   "cell_type": "code",
   "execution_count": 4,
   "metadata": {},
   "outputs": [],
   "source": [
    "r=(Ri+Rj+Rk)/3\n",
    "z=(Zi+Zj+Zk)/3"
   ]
  },
  {
   "cell_type": "code",
   "execution_count": 5,
   "metadata": {},
   "outputs": [
    {
     "data": {
      "text/plain": [
       "matrix([[-0.5       ,  0.        ,  0.5       ,  0.        ,  0.        ,\n",
       "          0.        ],\n",
       "        [ 0.14285714,  0.        ,  0.14285714,  0.        ,  0.14285714,\n",
       "          0.        ],\n",
       "        [ 0.        ,  0.        ,  0.        , -0.33333333,  0.        ,\n",
       "          0.33333333],\n",
       "        [ 0.        , -0.5       , -0.33333333,  0.5       ,  0.33333333,\n",
       "          0.        ]])"
      ]
     },
     "execution_count": 5,
     "metadata": {},
     "output_type": "execute_result"
    }
   ],
   "source": [
    "B(Ri, Zi, Rj, Zj, Rk, Zk, r, z)"
   ]
  },
  {
   "cell_type": "markdown",
   "metadata": {},
   "source": [
    "### 24.3"
   ]
  },
  {
   "cell_type": "code",
   "execution_count": 6,
   "metadata": {},
   "outputs": [],
   "source": [
    "Ri=2\n",
    "Zi=4\n",
    "Rj=4\n",
    "Zj=4\n",
    "Rk=3\n",
    "Zk=6"
   ]
  },
  {
   "cell_type": "code",
   "execution_count": 7,
   "metadata": {},
   "outputs": [],
   "source": [
    "r=(Ri+Rj+Rk)/3\n",
    "z=(Zi+Zj+Zk)/3"
   ]
  },
  {
   "cell_type": "code",
   "execution_count": 8,
   "metadata": {},
   "outputs": [
    {
     "data": {
      "text/plain": [
       "matrix([[-0.5       ,  0.        ,  0.5       ,  0.        ,  0.        ,\n",
       "          0.        ],\n",
       "        [ 0.11111111,  0.        ,  0.11111111,  0.        ,  0.11111111,\n",
       "          0.        ],\n",
       "        [ 0.        , -0.25      ,  0.        , -0.25      ,  0.        ,\n",
       "          0.5       ],\n",
       "        [-0.25      , -0.5       , -0.25      ,  0.5       ,  0.5       ,\n",
       "          0.        ]])"
      ]
     },
     "execution_count": 8,
     "metadata": {},
     "output_type": "execute_result"
    }
   ],
   "source": [
    "B(Ri, Zi, Rj, Zj, Rk, Zk, r, z)"
   ]
  },
  {
   "cell_type": "code",
   "execution_count": 9,
   "metadata": {},
   "outputs": [],
   "source": [
    "# TODO - the answer is not the same as in the book (by a bit)"
   ]
  },
  {
   "cell_type": "markdown",
   "metadata": {},
   "source": [
    "### 24.7"
   ]
  },
  {
   "cell_type": "code",
   "execution_count": 10,
   "metadata": {},
   "outputs": [],
   "source": [
    "alp=10e-6"
   ]
  },
  {
   "cell_type": "code",
   "execution_count": 11,
   "metadata": {},
   "outputs": [],
   "source": [
    "dT=15"
   ]
  },
  {
   "cell_type": "code",
   "execution_count": 12,
   "metadata": {},
   "outputs": [],
   "source": [
    "E=20e6"
   ]
  },
  {
   "cell_type": "code",
   "execution_count": 13,
   "metadata": {},
   "outputs": [],
   "source": [
    "mu=1/4"
   ]
  },
  {
   "cell_type": "code",
   "execution_count": 14,
   "metadata": {},
   "outputs": [],
   "source": [
    "Ri=6\n",
    "Zi=7\n",
    "Rj=8\n",
    "Zj=7\n",
    "Rk=9\n",
    "Zk=10"
   ]
  },
  {
   "cell_type": "code",
   "execution_count": 15,
   "metadata": {},
   "outputs": [],
   "source": [
    "d=(1-mu)/(1-2*mu)"
   ]
  },
  {
   "cell_type": "code",
   "execution_count": 16,
   "metadata": {},
   "outputs": [],
   "source": [
    "b=mu/(1-2*mu)"
   ]
  },
  {
   "cell_type": "code",
   "execution_count": 17,
   "metadata": {},
   "outputs": [],
   "source": [
    "D=E/(1+mu)*np.matrix([[d,b,b,0],[b,d,b,0],[b,b,d,0],[0,0,0,1/2]])"
   ]
  },
  {
   "cell_type": "code",
   "execution_count": 18,
   "metadata": {},
   "outputs": [],
   "source": [
    "r=(Ri+Rj+Rk)/3\n",
    "z=(Zi+Zj+Zk)/3"
   ]
  },
  {
   "cell_type": "code",
   "execution_count": 19,
   "metadata": {},
   "outputs": [],
   "source": [
    "ep=np.matrix([[alp*dT,alp*dT,alp*dT,0]])"
   ]
  },
  {
   "cell_type": "code",
   "execution_count": 20,
   "metadata": {},
   "outputs": [],
   "source": [
    "A=0.5*np.linalg.det(np.array([[1,Ri,Zi], [1,Rj,Zj], [1,Rk,Zk]]))"
   ]
  },
  {
   "cell_type": "code",
   "execution_count": 21,
   "metadata": {},
   "outputs": [
    {
     "data": {
      "text/plain": [
       "matrix([[-395840.67435231],\n",
       "        [ 144513.26206513],\n",
       "        [ 471238.89803847],\n",
       "        [-433539.78619539],\n",
       "        [  37699.11184308],\n",
       "        [ 289026.52413026]])"
      ]
     },
     "execution_count": 21,
     "metadata": {},
     "output_type": "execute_result"
    }
   ],
   "source": [
    "2*np.pi*r*A*np.dot(np.dot(B(Ri, Zi, Rj, Zj, Rk, Zk, r, z).T, D), ep.T)"
   ]
  },
  {
   "cell_type": "code",
   "execution_count": 22,
   "metadata": {},
   "outputs": [],
   "source": [
    "# TODO - the answer is not the same as in the book"
   ]
  },
  {
   "cell_type": "markdown",
   "metadata": {},
   "source": [
    "### 24.8"
   ]
  },
  {
   "cell_type": "code",
   "execution_count": 23,
   "metadata": {},
   "outputs": [],
   "source": [
    "Ri=2\n",
    "Zi=4\n",
    "Rj=4\n",
    "Zj=4\n",
    "Rk=3\n",
    "Zk=6"
   ]
  },
  {
   "cell_type": "code",
   "execution_count": 24,
   "metadata": {},
   "outputs": [],
   "source": [
    "r=(Ri+Rj+Rk)/3\n",
    "z=(Zi+Zj+Zk)/3"
   ]
  },
  {
   "cell_type": "code",
   "execution_count": 25,
   "metadata": {},
   "outputs": [],
   "source": [
    "Z=10\n",
    "R=0"
   ]
  },
  {
   "cell_type": "code",
   "execution_count": 26,
   "metadata": {},
   "outputs": [],
   "source": [
    "A=0.5*np.linalg.det(np.array([[1,Ri,Zi], [1,Rj,Zj], [1,Rk,Zk]]))"
   ]
  },
  {
   "cell_type": "code",
   "execution_count": 27,
   "metadata": {},
   "outputs": [
    {
     "data": {
      "text/plain": [
       "matrix([[  0.        ],\n",
       "        [115.19173063],\n",
       "        [  0.        ],\n",
       "        [136.13568166],\n",
       "        [  0.        ],\n",
       "        [125.66370614]])"
      ]
     },
     "execution_count": 27,
     "metadata": {},
     "output_type": "execute_result"
    }
   ],
   "source": [
    "2*np.pi*A/12*np.matrix([[(Ri+3*r)*R],\n",
    "                        [(Ri+3*r)*Z],\n",
    "                        [(Rj+3*r)*R],\n",
    "                        [(Rj+3*r)*Z],\n",
    "                        [(Rk+3*r)*R],\n",
    "                        [(Rk+3*r)*Z]])"
   ]
  },
  {
   "cell_type": "markdown",
   "metadata": {},
   "source": [
    "### 24.11"
   ]
  },
  {
   "cell_type": "code",
   "execution_count": 28,
   "metadata": {},
   "outputs": [],
   "source": [
    "R2=5\n",
    "R3=9\n",
    "R4=13"
   ]
  },
  {
   "cell_type": "code",
   "execution_count": 29,
   "metadata": {},
   "outputs": [],
   "source": [
    "pz=-300"
   ]
  },
  {
   "cell_type": "code",
   "execution_count": 30,
   "metadata": {},
   "outputs": [],
   "source": [
    "L=5"
   ]
  },
  {
   "cell_type": "code",
   "execution_count": 31,
   "metadata": {},
   "outputs": [],
   "source": [
    "P2=2*np.pi*L/6*(2*R2+R3)*pz\n",
    "P3_1=2*np.pi*L/6*(R2+2*R3)*pz\n",
    "P3_2=2*np.pi*L/6*(2*R3+R4)*pz\n",
    "P4=2*np.pi*L/6*(R3+2*R4)*pz"
   ]
  },
  {
   "cell_type": "code",
   "execution_count": 32,
   "metadata": {},
   "outputs": [
    {
     "data": {
      "text/plain": [
       "(-29845.130209103037, -84823.00164692441, -54977.871437821384)"
      ]
     },
     "execution_count": 32,
     "metadata": {},
     "output_type": "execute_result"
    }
   ],
   "source": [
    "P2, P3_1+P3_2, P4"
   ]
  },
  {
   "cell_type": "markdown",
   "metadata": {},
   "source": [
    "### 24.12"
   ]
  },
  {
   "cell_type": "code",
   "execution_count": 33,
   "metadata": {},
   "outputs": [],
   "source": [
    "pi = Symbol('pi')"
   ]
  },
  {
   "cell_type": "code",
   "execution_count": 34,
   "metadata": {},
   "outputs": [],
   "source": [
    "L_ = Symbol('L_')"
   ]
  },
  {
   "cell_type": "code",
   "execution_count": 35,
   "metadata": {},
   "outputs": [],
   "source": [
    "p0 = Symbol('p0')"
   ]
  },
  {
   "cell_type": "code",
   "execution_count": 36,
   "metadata": {},
   "outputs": [],
   "source": [
    "l=Symbol('l')"
   ]
  },
  {
   "cell_type": "code",
   "execution_count": 37,
   "metadata": {},
   "outputs": [],
   "source": [
    "pr = 0"
   ]
  },
  {
   "cell_type": "code",
   "execution_count": 38,
   "metadata": {},
   "outputs": [],
   "source": [
    "pz = p0*l"
   ]
  },
  {
   "cell_type": "code",
   "execution_count": 39,
   "metadata": {},
   "outputs": [],
   "source": [
    "L1=0\n",
    "L2=Symbol('L2')\n",
    "L3=Symbol('L3')\n",
    "R_i=Symbol('R_i')\n",
    "R_j=Symbol('R_j')\n",
    "R_k=Symbol('R_k')"
   ]
  },
  {
   "cell_type": "code",
   "execution_count": 40,
   "metadata": {},
   "outputs": [],
   "source": [
    "def L(a,b,c):\n",
    "    return math.factorial(a)*math.factorial(b)*math.factorial(c)/math.factorial(a+b+c+2)"
   ]
  },
  {
   "cell_type": "code",
   "execution_count": 41,
   "metadata": {},
   "outputs": [],
   "source": [
    "r=R_i*L1+R_j*L2+R_k*L3"
   ]
  },
  {
   "cell_type": "code",
   "execution_count": 42,
   "metadata": {},
   "outputs": [],
   "source": [
    "N=Matrix([[0,0,r*L2,0,r*L3,0],[0,0,0,r*L2,0,r*L3]])"
   ]
  },
  {
   "cell_type": "code",
   "execution_count": 43,
   "metadata": {
    "scrolled": true
   },
   "outputs": [
    {
     "data": {
      "text/plain": [
       "array([[0],\n",
       "       [0],\n",
       "       [0],\n",
       "       [L2*l*p0*(L2*R_j + L3*R_k)],\n",
       "       [0],\n",
       "       [L3*l*p0*(L2*R_j + L3*R_k)]], dtype=object)"
      ]
     },
     "execution_count": 43,
     "metadata": {},
     "output_type": "execute_result"
    }
   ],
   "source": [
    "np.dot(N.T,  Matrix([pr,pz]))"
   ]
  },
  {
   "cell_type": "code",
   "execution_count": 44,
   "metadata": {},
   "outputs": [
    {
     "data": {
      "text/latex": [
       "$\\displaystyle \\left[\\begin{matrix}0\\\\0\\\\0\\\\2 L_{} \\pi \\left(\\frac{L_{2}^{2} R_{j} p_{0}}{2} + \\frac{L_{2} L_{3} R_{k} p_{0}}{2}\\right)\\\\0\\\\2 L_{} \\pi \\left(\\frac{L_{2} L_{3} R_{j} p_{0}}{2} + \\frac{L_{3}^{2} R_{k} p_{0}}{2}\\right)\\end{matrix}\\right]$"
      ],
      "text/plain": [
       "Matrix([\n",
       "[                                        0],\n",
       "[                                        0],\n",
       "[                                        0],\n",
       "[2*L_*pi*(L2**2*R_j*p0/2 + L2*L3*R_k*p0/2)],\n",
       "[                                        0],\n",
       "[2*L_*pi*(L2*L3*R_j*p0/2 + L3**2*R_k*p0/2)]])"
      ]
     },
     "execution_count": 44,
     "metadata": {},
     "output_type": "execute_result"
    }
   ],
   "source": [
    "2*pi*L_*integrate(Matrix(np.dot(N.T,  Matrix([pr,pz]))), (l, 0, 1))"
   ]
  },
  {
   "cell_type": "code",
   "execution_count": 45,
   "metadata": {},
   "outputs": [
    {
     "data": {
      "text/plain": [
       "(0.08333333333333333, 0.041666666666666664, 0.08333333333333333)"
      ]
     },
     "execution_count": 45,
     "metadata": {},
     "output_type": "execute_result"
    }
   ],
   "source": [
    "L(0,2,0), L(0,1,1), L(0,0,2)"
   ]
  },
  {
   "cell_type": "code",
   "execution_count": 46,
   "metadata": {},
   "outputs": [],
   "source": [
    "# not sure about this task\n",
    "# TODO - the answer is not the same as in the book"
   ]
  },
  {
   "cell_type": "markdown",
   "metadata": {},
   "source": [
    "### 24.15"
   ]
  },
  {
   "cell_type": "code",
   "execution_count": 47,
   "metadata": {},
   "outputs": [],
   "source": [
    "dT=0\n",
    "alp=10e-6\n",
    "E=20e6\n",
    "mu=1/4"
   ]
  },
  {
   "cell_type": "code",
   "execution_count": 48,
   "metadata": {},
   "outputs": [],
   "source": [
    "Ri=6\n",
    "Zi=7\n",
    "Rj=8\n",
    "Zj=7\n",
    "Rk=9\n",
    "Zk=10"
   ]
  },
  {
   "cell_type": "code",
   "execution_count": 49,
   "metadata": {},
   "outputs": [],
   "source": [
    "d=(1-mu)/(1-2*mu)"
   ]
  },
  {
   "cell_type": "code",
   "execution_count": 50,
   "metadata": {},
   "outputs": [],
   "source": [
    "b=mu/(1-2*mu)"
   ]
  },
  {
   "cell_type": "code",
   "execution_count": 51,
   "metadata": {},
   "outputs": [],
   "source": [
    "D=E/(1+mu)*np.matrix([[d,b,b,0],[b,d,b,0],[b,b,d,0],[0,0,0,1/2]])"
   ]
  },
  {
   "cell_type": "code",
   "execution_count": 52,
   "metadata": {},
   "outputs": [],
   "source": [
    "r=(Ri+Rj+Rk)/3\n",
    "z=(Zi+Zj+Zk)/3"
   ]
  },
  {
   "cell_type": "code",
   "execution_count": 53,
   "metadata": {},
   "outputs": [],
   "source": [
    "B_=B(Ri, Zi, Rj, Zj, Rk, Zk, r, z)"
   ]
  },
  {
   "cell_type": "code",
   "execution_count": 54,
   "metadata": {},
   "outputs": [],
   "source": [
    "U=np.matrix([[0.005,0,0.003,0.002,0.006,0.001]])"
   ]
  },
  {
   "cell_type": "code",
   "execution_count": 55,
   "metadata": {},
   "outputs": [
    {
     "data": {
      "text/plain": [
       "matrix([[-24463.76811594],\n",
       "        [  1275.36231884],\n",
       "        [-19130.43478261],\n",
       "        [ 18666.66666667]])"
      ]
     },
     "execution_count": 55,
     "metadata": {},
     "output_type": "execute_result"
    }
   ],
   "source": [
    "np.dot(np.dot(D,B_),U.T)"
   ]
  }
 ],
 "metadata": {
  "kernelspec": {
   "display_name": "Python 3",
   "language": "python",
   "name": "python3"
  },
  "language_info": {
   "codemirror_mode": {
    "name": "ipython",
    "version": 3
   },
   "file_extension": ".py",
   "mimetype": "text/x-python",
   "name": "python",
   "nbconvert_exporter": "python",
   "pygments_lexer": "ipython3",
   "version": "3.7.7"
  }
 },
 "nbformat": 4,
 "nbformat_minor": 4
}
