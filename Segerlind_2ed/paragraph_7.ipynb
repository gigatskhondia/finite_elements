{
 "cells": [
  {
   "cell_type": "code",
   "execution_count": 1,
   "metadata": {},
   "outputs": [],
   "source": [
    "from sympy import *\n",
    "import math\n",
    "import numpy as np"
   ]
  },
  {
   "cell_type": "markdown",
   "metadata": {},
   "source": [
    "### 7.1"
   ]
  },
  {
   "cell_type": "markdown",
   "metadata": {},
   "source": [
    "#### a)"
   ]
  },
  {
   "cell_type": "code",
   "execution_count": 2,
   "metadata": {},
   "outputs": [],
   "source": [
    "s=Symbol('s')\n",
    "t=Symbol('t')\n",
    "Q=Symbol('Q')\n",
    "a=Symbol('a')\n",
    "b=Symbol('b')"
   ]
  },
  {
   "cell_type": "code",
   "execution_count": 3,
   "metadata": {},
   "outputs": [],
   "source": [
    "Ni=1-s/(2*b)-t/(2*a)+s*t/(4*a*b)"
   ]
  },
  {
   "cell_type": "code",
   "execution_count": 4,
   "metadata": {},
   "outputs": [
    {
     "data": {
      "text/latex": [
       "$\\displaystyle Q a b$"
      ],
      "text/plain": [
       "Q*a*b"
      ]
     },
     "execution_count": 4,
     "metadata": {},
     "output_type": "execute_result"
    }
   ],
   "source": [
    "Q*integrate(Ni, (s,0,2*b),(t,0,2*a))"
   ]
  },
  {
   "cell_type": "code",
   "execution_count": 5,
   "metadata": {},
   "outputs": [],
   "source": [
    "# Q*A/4"
   ]
  },
  {
   "cell_type": "markdown",
   "metadata": {},
   "source": [
    "### 7.2"
   ]
  },
  {
   "cell_type": "markdown",
   "metadata": {},
   "source": [
    "#### a)"
   ]
  },
  {
   "cell_type": "code",
   "execution_count": 6,
   "metadata": {},
   "outputs": [],
   "source": [
    "G=Symbol('G')"
   ]
  },
  {
   "cell_type": "code",
   "execution_count": 7,
   "metadata": {},
   "outputs": [],
   "source": [
    "Nj=s/(2*b)-s*t/(4*a*b)"
   ]
  },
  {
   "cell_type": "code",
   "execution_count": 8,
   "metadata": {},
   "outputs": [
    {
     "data": {
      "text/latex": [
       "$\\displaystyle \\frac{2 G a b}{9}$"
      ],
      "text/plain": [
       "2*G*a*b/9"
      ]
     },
     "execution_count": 8,
     "metadata": {},
     "output_type": "execute_result"
    }
   ],
   "source": [
    "G*integrate(Ni*Nj, (s,0,2*b),(t,0,2*a))"
   ]
  },
  {
   "cell_type": "code",
   "execution_count": 9,
   "metadata": {},
   "outputs": [],
   "source": [
    "# 2*G*A/36"
   ]
  },
  {
   "cell_type": "markdown",
   "metadata": {},
   "source": [
    "### 7.4"
   ]
  },
  {
   "cell_type": "code",
   "execution_count": 10,
   "metadata": {},
   "outputs": [],
   "source": [
    "Q_i=Symbol('Q_i')\n",
    "Q_j=Symbol('Q_j')\n",
    "Q_k=Symbol('Q_k')\n",
    "L_i=Symbol('L_i')\n",
    "L_j=Symbol('L_j')\n",
    "L_k=Symbol('L_k')"
   ]
  },
  {
   "cell_type": "code",
   "execution_count": 11,
   "metadata": {},
   "outputs": [],
   "source": [
    "Ni=L_i"
   ]
  },
  {
   "cell_type": "code",
   "execution_count": 12,
   "metadata": {},
   "outputs": [],
   "source": [
    "Nj=L_j"
   ]
  },
  {
   "cell_type": "code",
   "execution_count": 13,
   "metadata": {},
   "outputs": [],
   "source": [
    "Nk=L_k"
   ]
  },
  {
   "cell_type": "code",
   "execution_count": 14,
   "metadata": {},
   "outputs": [],
   "source": [
    "Q=Ni*Q_i+Nj*Q_j+Nk*Q_k"
   ]
  },
  {
   "cell_type": "code",
   "execution_count": 15,
   "metadata": {},
   "outputs": [],
   "source": [
    "N= Matrix([Ni,Nj,Nk])"
   ]
  },
  {
   "cell_type": "code",
   "execution_count": 16,
   "metadata": {},
   "outputs": [
    {
     "data": {
      "text/latex": [
       "$\\displaystyle \\left[\\begin{matrix}L_{i} \\left(L_{i} Q_{i} + L_{j} Q_{j} + L_{k} Q_{k}\\right)\\\\L_{j} \\left(L_{i} Q_{i} + L_{j} Q_{j} + L_{k} Q_{k}\\right)\\\\L_{k} \\left(L_{i} Q_{i} + L_{j} Q_{j} + L_{k} Q_{k}\\right)\\end{matrix}\\right]$"
      ],
      "text/plain": [
       "Matrix([\n",
       "[L_i*(L_i*Q_i + L_j*Q_j + L_k*Q_k)],\n",
       "[L_j*(L_i*Q_i + L_j*Q_j + L_k*Q_k)],\n",
       "[L_k*(L_i*Q_i + L_j*Q_j + L_k*Q_k)]])"
      ]
     },
     "execution_count": 16,
     "metadata": {},
     "output_type": "execute_result"
    }
   ],
   "source": [
    "Q*N"
   ]
  },
  {
   "cell_type": "code",
   "execution_count": 17,
   "metadata": {},
   "outputs": [],
   "source": [
    "A=Symbol('A')"
   ]
  },
  {
   "cell_type": "code",
   "execution_count": 18,
   "metadata": {},
   "outputs": [],
   "source": [
    "def integral(a,b,c,A):\n",
    "    return 2*A*math.factorial(a)*math.factorial(b)*math.factorial(c)/math.factorial(a+b+c+2)"
   ]
  },
  {
   "cell_type": "code",
   "execution_count": 19,
   "metadata": {},
   "outputs": [
    {
     "data": {
      "text/plain": [
       "[A*Q_i/6 + A*Q_j/12 + A*Q_k/12,\n",
       " A*Q_i/12 + A*Q_j/6 + A*Q_k/12,\n",
       " A*Q_i/12 + A*Q_j/12 + A*Q_k/6]"
      ]
     },
     "execution_count": 19,
     "metadata": {},
     "output_type": "execute_result"
    }
   ],
   "source": [
    "[integral(2,0,0,A)*Q_i+integral(1,1,0,A)*Q_j+integral(1,0,1,A)*Q_k,\n",
    "    integral(1,1,0,A)*Q_i+integral(0,2,0,A)*Q_j+integral(0,1,1,A)*Q_k,\n",
    "    integral(1,0,1,A)*Q_i+integral(0,1,1,A)*Q_j+integral(0,0,2,A)*Q_k]"
   ]
  },
  {
   "cell_type": "markdown",
   "metadata": {},
   "source": [
    "### 7.9"
   ]
  },
  {
   "cell_type": "markdown",
   "metadata": {},
   "source": [
    "#### a)"
   ]
  },
  {
   "cell_type": "code",
   "execution_count": 20,
   "metadata": {},
   "outputs": [],
   "source": [
    "Xi=0.13\n",
    "Yi=0.01\n",
    "Xj=0.25\n",
    "Yj=0.06\n",
    "Xk=0.13\n",
    "Yk=0.13"
   ]
  },
  {
   "cell_type": "code",
   "execution_count": 21,
   "metadata": {},
   "outputs": [],
   "source": [
    "bi=Yj-Yk\n",
    "bj=Yk-Yi\n",
    "bk=Yi-Yj\n",
    "ci=Xk-Xj\n",
    "cj=Xi-Xk\n",
    "ck=Xj-Xi"
   ]
  },
  {
   "cell_type": "code",
   "execution_count": 22,
   "metadata": {},
   "outputs": [],
   "source": [
    "Dx=Dy=1"
   ]
  },
  {
   "cell_type": "code",
   "execution_count": 23,
   "metadata": {},
   "outputs": [],
   "source": [
    "G=4"
   ]
  },
  {
   "cell_type": "code",
   "execution_count": 24,
   "metadata": {},
   "outputs": [],
   "source": [
    "Q=5"
   ]
  },
  {
   "cell_type": "code",
   "execution_count": 25,
   "metadata": {},
   "outputs": [],
   "source": [
    "A=0.5*np.linalg.det(\n",
    "    np.matrix([[1,Xi,Yi],\n",
    "              [1,Xj,Yj],\n",
    "              [1,Xk,Yk]]))"
   ]
  },
  {
   "cell_type": "code",
   "execution_count": 26,
   "metadata": {},
   "outputs": [
    {
     "data": {
      "text/plain": [
       "0.007200000000000001"
      ]
     },
     "execution_count": 26,
     "metadata": {},
     "output_type": "execute_result"
    }
   ],
   "source": [
    "A"
   ]
  },
  {
   "cell_type": "code",
   "execution_count": 27,
   "metadata": {},
   "outputs": [],
   "source": [
    "kd_1=Dx/(4*A)*Matrix([[bi**2,bi*bj,bi*bk],\n",
    "                      [bi*bj,bj**2,bj*bk],\n",
    "                      [bi*bk,bj*bk,bk**2]])\n",
    "kd_2=Dy/(4*A)*Matrix([[ci**2,ci*cj,ci*ck],\n",
    "                      [ci*cj,cj**2,cj*ck],\n",
    "                      [ci*ck,cj*ck,ck**2]])"
   ]
  },
  {
   "cell_type": "code",
   "execution_count": 28,
   "metadata": {},
   "outputs": [],
   "source": [
    "kd=kd_1+kd_2"
   ]
  },
  {
   "cell_type": "code",
   "execution_count": 29,
   "metadata": {},
   "outputs": [
    {
     "data": {
      "text/latex": [
       "$\\displaystyle \\left[\\begin{matrix}0.670138888888889 & -0.291666666666667 & -0.378472222222222\\\\-0.291666666666667 & 0.5 & -0.208333333333333\\\\-0.378472222222222 & -0.208333333333333 & 0.586805555555556\\end{matrix}\\right]$"
      ],
      "text/plain": [
       "Matrix([\n",
       "[ 0.670138888888889, -0.291666666666667, -0.378472222222222],\n",
       "[-0.291666666666667,                0.5, -0.208333333333333],\n",
       "[-0.378472222222222, -0.208333333333333,  0.586805555555556]])"
      ]
     },
     "execution_count": 29,
     "metadata": {},
     "output_type": "execute_result"
    }
   ],
   "source": [
    "kd"
   ]
  },
  {
   "cell_type": "code",
   "execution_count": 30,
   "metadata": {},
   "outputs": [],
   "source": [
    "kg=G*A/12*Matrix([[2,1,1],\n",
    "                  [1,2,1],\n",
    "                  [1,1,2]])"
   ]
  },
  {
   "cell_type": "code",
   "execution_count": 31,
   "metadata": {},
   "outputs": [
    {
     "data": {
      "text/latex": [
       "$\\displaystyle \\left[\\begin{matrix}0.0048 & 0.0024 & 0.0024\\\\0.0024 & 0.0048 & 0.0024\\\\0.0024 & 0.0024 & 0.0048\\end{matrix}\\right]$"
      ],
      "text/plain": [
       "Matrix([\n",
       "[0.0048, 0.0024, 0.0024],\n",
       "[0.0024, 0.0048, 0.0024],\n",
       "[0.0024, 0.0024, 0.0048]])"
      ]
     },
     "execution_count": 31,
     "metadata": {},
     "output_type": "execute_result"
    }
   ],
   "source": [
    "kg"
   ]
  },
  {
   "cell_type": "code",
   "execution_count": 32,
   "metadata": {},
   "outputs": [],
   "source": [
    "k=kd+kg"
   ]
  },
  {
   "cell_type": "code",
   "execution_count": 33,
   "metadata": {},
   "outputs": [
    {
     "data": {
      "text/latex": [
       "$\\displaystyle \\left[\\begin{matrix}0.674938888888889 & -0.289266666666667 & -0.376072222222222\\\\-0.289266666666667 & 0.5048 & -0.205933333333333\\\\-0.376072222222222 & -0.205933333333333 & 0.591605555555556\\end{matrix}\\right]$"
      ],
      "text/plain": [
       "Matrix([\n",
       "[ 0.674938888888889, -0.289266666666667, -0.376072222222222],\n",
       "[-0.289266666666667,             0.5048, -0.205933333333333],\n",
       "[-0.376072222222222, -0.205933333333333,  0.591605555555556]])"
      ]
     },
     "execution_count": 33,
     "metadata": {},
     "output_type": "execute_result"
    }
   ],
   "source": [
    "k"
   ]
  },
  {
   "cell_type": "code",
   "execution_count": 34,
   "metadata": {},
   "outputs": [],
   "source": [
    "f=Q*A/3*Matrix([1,1,1])"
   ]
  },
  {
   "cell_type": "code",
   "execution_count": 35,
   "metadata": {},
   "outputs": [
    {
     "data": {
      "text/latex": [
       "$\\displaystyle \\left[\\begin{matrix}0.012\\\\0.012\\\\0.012\\end{matrix}\\right]$"
      ],
      "text/plain": [
       "Matrix([\n",
       "[0.012],\n",
       "[0.012],\n",
       "[0.012]])"
      ]
     },
     "execution_count": 35,
     "metadata": {},
     "output_type": "execute_result"
    }
   ],
   "source": [
    "f"
   ]
  },
  {
   "cell_type": "code",
   "execution_count": 36,
   "metadata": {},
   "outputs": [],
   "source": [
    "# TODO - the answer is not the same as in the book"
   ]
  },
  {
   "cell_type": "markdown",
   "metadata": {},
   "source": [
    "### 7.10"
   ]
  },
  {
   "cell_type": "markdown",
   "metadata": {},
   "source": [
    "#### b)"
   ]
  },
  {
   "cell_type": "code",
   "execution_count": 37,
   "metadata": {},
   "outputs": [],
   "source": [
    "Dx=Dy=0.5"
   ]
  },
  {
   "cell_type": "code",
   "execution_count": 38,
   "metadata": {},
   "outputs": [],
   "source": [
    "G=10"
   ]
  },
  {
   "cell_type": "code",
   "execution_count": 39,
   "metadata": {},
   "outputs": [],
   "source": [
    "Q=40"
   ]
  },
  {
   "cell_type": "code",
   "execution_count": 40,
   "metadata": {},
   "outputs": [],
   "source": [
    "Xi=0.25"
   ]
  },
  {
   "cell_type": "code",
   "execution_count": 41,
   "metadata": {},
   "outputs": [],
   "source": [
    "Yi=0.18"
   ]
  },
  {
   "cell_type": "code",
   "execution_count": 42,
   "metadata": {},
   "outputs": [],
   "source": [
    "Xj=0.31"
   ]
  },
  {
   "cell_type": "code",
   "execution_count": 43,
   "metadata": {},
   "outputs": [],
   "source": [
    "Ym=0.25"
   ]
  },
  {
   "cell_type": "code",
   "execution_count": 44,
   "metadata": {},
   "outputs": [],
   "source": [
    "A=(Xj-Xi)*(Ym-Yi)"
   ]
  },
  {
   "cell_type": "code",
   "execution_count": 45,
   "metadata": {},
   "outputs": [],
   "source": [
    "kg=G*A/36*np.matrix([[4,2,1,2],\n",
    "                  [2,4,2,1],\n",
    "                  [1,2,4,2],\n",
    "                  [2,1,2,4]])"
   ]
  },
  {
   "cell_type": "code",
   "execution_count": 46,
   "metadata": {},
   "outputs": [
    {
     "data": {
      "text/plain": [
       "matrix([[0.00466667, 0.00233333, 0.00116667, 0.00233333],\n",
       "        [0.00233333, 0.00466667, 0.00233333, 0.00116667],\n",
       "        [0.00116667, 0.00233333, 0.00466667, 0.00233333],\n",
       "        [0.00233333, 0.00116667, 0.00233333, 0.00466667]])"
      ]
     },
     "execution_count": 46,
     "metadata": {},
     "output_type": "execute_result"
    }
   ],
   "source": [
    "kg"
   ]
  },
  {
   "cell_type": "code",
   "execution_count": 47,
   "metadata": {},
   "outputs": [],
   "source": [
    "kd_1=Dx*(Ym-Yi)/(6*(Xj-Xi))*np.matrix([  [2,-2,-1,1],\n",
    "                                      [-2,2,1,-1],\n",
    "                                      [-1,1,2,-2],\n",
    "                                      [1,-1,-2,2]])"
   ]
  },
  {
   "cell_type": "code",
   "execution_count": 48,
   "metadata": {},
   "outputs": [],
   "source": [
    "kd_2=Dy*(Xj-Xi)/(6*(Ym-Yi))*np.matrix([  [2,1,-1,-2],\n",
    "                                      [1,2,-2,-1],\n",
    "                                      [-1,-2,2,1],\n",
    "                                      [-2,-1,1,2]])"
   ]
  },
  {
   "cell_type": "code",
   "execution_count": 49,
   "metadata": {},
   "outputs": [],
   "source": [
    "k=kg+kd_1+kd_2"
   ]
  },
  {
   "cell_type": "code",
   "execution_count": 50,
   "metadata": {},
   "outputs": [
    {
     "data": {
      "text/plain": [
       "matrix([[ 0.34196825, -0.12068254, -0.16748413, -0.04330159],\n",
       "        [-0.12068254,  0.34196825, -0.04330159, -0.16748413],\n",
       "        [-0.16748413, -0.04330159,  0.34196825, -0.12068254],\n",
       "        [-0.04330159, -0.16748413, -0.12068254,  0.34196825]])"
      ]
     },
     "execution_count": 50,
     "metadata": {},
     "output_type": "execute_result"
    }
   ],
   "source": [
    "k"
   ]
  },
  {
   "cell_type": "code",
   "execution_count": 51,
   "metadata": {},
   "outputs": [],
   "source": [
    "f=Q*A/4*np.array([1,1,1,1])"
   ]
  },
  {
   "cell_type": "code",
   "execution_count": 52,
   "metadata": {},
   "outputs": [
    {
     "data": {
      "text/plain": [
       "array([0.042, 0.042, 0.042, 0.042])"
      ]
     },
     "execution_count": 52,
     "metadata": {},
     "output_type": "execute_result"
    }
   ],
   "source": [
    "f"
   ]
  }
 ],
 "metadata": {
  "kernelspec": {
   "display_name": "Python 3",
   "language": "python",
   "name": "python3"
  },
  "language_info": {
   "codemirror_mode": {
    "name": "ipython",
    "version": 3
   },
   "file_extension": ".py",
   "mimetype": "text/x-python",
   "name": "python",
   "nbconvert_exporter": "python",
   "pygments_lexer": "ipython3",
   "version": "3.7.7"
  }
 },
 "nbformat": 4,
 "nbformat_minor": 4
}
