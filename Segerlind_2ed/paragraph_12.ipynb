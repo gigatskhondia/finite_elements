{
 "cells": [
  {
   "cell_type": "code",
   "execution_count": 1,
   "metadata": {},
   "outputs": [],
   "source": [
    "from sympy import *\n",
    "import math\n",
    "import numpy as np"
   ]
  },
  {
   "cell_type": "markdown",
   "metadata": {},
   "source": [
    "### 12.1"
   ]
  },
  {
   "cell_type": "code",
   "execution_count": 2,
   "metadata": {},
   "outputs": [],
   "source": [
    "Z = Symbol('Z')"
   ]
  },
  {
   "cell_type": "code",
   "execution_count": 3,
   "metadata": {},
   "outputs": [],
   "source": [
    "k=Matrix([[1,-1],[-1,1]])-Z*Matrix([[2,1],[1,2]])"
   ]
  },
  {
   "cell_type": "code",
   "execution_count": 4,
   "metadata": {},
   "outputs": [
    {
     "data": {
      "text/latex": [
       "$\\displaystyle \\left[\\begin{matrix}1 - 2 Z & - Z - 1\\\\- Z - 1 & 1 - 2 Z\\end{matrix}\\right]$"
      ],
      "text/plain": [
       "Matrix([\n",
       "[1 - 2*Z,  -Z - 1],\n",
       "[ -Z - 1, 1 - 2*Z]])"
      ]
     },
     "execution_count": 4,
     "metadata": {},
     "output_type": "execute_result"
    }
   ],
   "source": [
    "k"
   ]
  },
  {
   "cell_type": "code",
   "execution_count": 5,
   "metadata": {},
   "outputs": [
    {
     "data": {
      "text/plain": [
       "[0, 2]"
      ]
     },
     "execution_count": 5,
     "metadata": {},
     "output_type": "execute_result"
    }
   ],
   "source": [
    "solve(det(k),Z)"
   ]
  },
  {
   "cell_type": "markdown",
   "metadata": {},
   "source": [
    "### 12.2"
   ]
  },
  {
   "cell_type": "code",
   "execution_count": 6,
   "metadata": {},
   "outputs": [],
   "source": [
    "def elementStiffness(Z):\n",
    "    return Matrix([[1,-1],[-1,1]])-Z*Matrix([[2,1],[1,2]])"
   ]
  },
  {
   "cell_type": "code",
   "execution_count": 7,
   "metadata": {},
   "outputs": [],
   "source": [
    "Z = Symbol('Z')"
   ]
  },
  {
   "cell_type": "code",
   "execution_count": 8,
   "metadata": {},
   "outputs": [],
   "source": [
    "e = 3\n",
    "n = e+1\n",
    "\n",
    "elem=[]    \n",
    "for i in range(e):\n",
    "    P=[i,i+1]\n",
    "    elem.append(P)\n",
    "elem=np.array(elem)\n",
    "\n",
    "K=zeros(n,n) \n",
    "for i in range(e):\n",
    "    node1 = elem[i,0]\n",
    "    node2 = elem[i,1]\n",
    "    k=elementStiffness(Z)\n",
    "    K[node1:node2+1,node1:node2+1] = K[node1:node2+1,node1:node2+1] + k"
   ]
  },
  {
   "cell_type": "code",
   "execution_count": 9,
   "metadata": {},
   "outputs": [
    {
     "data": {
      "text/plain": [
       "[0, 1/5, 1, 2]"
      ]
     },
     "execution_count": 9,
     "metadata": {},
     "output_type": "execute_result"
    }
   ],
   "source": [
    "solve(det(K),Z)"
   ]
  },
  {
   "cell_type": "markdown",
   "metadata": {},
   "source": [
    "### 12.8"
   ]
  },
  {
   "cell_type": "code",
   "execution_count": 10,
   "metadata": {},
   "outputs": [],
   "source": [
    "# 1/L*Matrix([[1,-1],[-1,1]])- P/(6*E*I)*L*Matrix([[2,1],[1,2]])"
   ]
  },
  {
   "cell_type": "code",
   "execution_count": 11,
   "metadata": {},
   "outputs": [],
   "source": [
    "# Z=(P*H**2)/(96*E*I)"
   ]
  },
  {
   "cell_type": "code",
   "execution_count": 12,
   "metadata": {},
   "outputs": [],
   "source": [
    "e = 4\n",
    "n = e+1\n",
    "\n",
    "elem=[]    \n",
    "for i in range(e):\n",
    "    P=[i,i+1]\n",
    "    elem.append(P)\n",
    "elem=np.array(elem)\n",
    "\n",
    "K=zeros(n,n) \n",
    "for i in range(e):\n",
    "    node1 = elem[i,0]\n",
    "    node2 = elem[i,1]\n",
    "    k=elementStiffness(Z)\n",
    "    K[node1:node2+1,node1:node2+1] = K[node1:node2+1,node1:node2+1] + k"
   ]
  },
  {
   "cell_type": "code",
   "execution_count": 13,
   "metadata": {},
   "outputs": [],
   "source": [
    "ans=solve(det(K).evalf(),Z)"
   ]
  },
  {
   "cell_type": "code",
   "execution_count": 14,
   "metadata": {},
   "outputs": [
    {
     "data": {
      "text/plain": [
       "[0.0, 0.108194187554388, 0.500000000000000, 1.32037724101704, 2.00000000000000]"
      ]
     },
     "execution_count": 14,
     "metadata": {},
     "output_type": "execute_result"
    }
   ],
   "source": [
    "ans"
   ]
  },
  {
   "cell_type": "code",
   "execution_count": 15,
   "metadata": {},
   "outputs": [],
   "source": [
    "# A=lambdify(Z, K, \"numpy\")(0)"
   ]
  },
  {
   "cell_type": "code",
   "execution_count": 16,
   "metadata": {},
   "outputs": [],
   "source": [
    "def P(Z,H,E,I):\n",
    "    return Z/H**2*96*E*I"
   ]
  },
  {
   "cell_type": "code",
   "execution_count": 17,
   "metadata": {},
   "outputs": [],
   "source": [
    "H = Symbol('H')\n",
    "E = Symbol('E')\n",
    "I = Symbol('I')"
   ]
  },
  {
   "cell_type": "code",
   "execution_count": 18,
   "metadata": {},
   "outputs": [
    {
     "name": "stdout",
     "output_type": "stream",
     "text": [
      "0\n",
      "10.3866420052212*E*I/H**2\n",
      "48.0*E*I/H**2\n",
      "126.756215137636*E*I/H**2\n",
      "192.0*E*I/H**2\n"
     ]
    }
   ],
   "source": [
    "for i in ans:\n",
    "    print(P(i,H,E,I))"
   ]
  }
 ],
 "metadata": {
  "kernelspec": {
   "display_name": "Python 3",
   "language": "python",
   "name": "python3"
  },
  "language_info": {
   "codemirror_mode": {
    "name": "ipython",
    "version": 3
   },
   "file_extension": ".py",
   "mimetype": "text/x-python",
   "name": "python",
   "nbconvert_exporter": "python",
   "pygments_lexer": "ipython3",
   "version": "3.7.7"
  }
 },
 "nbformat": 4,
 "nbformat_minor": 4
}
