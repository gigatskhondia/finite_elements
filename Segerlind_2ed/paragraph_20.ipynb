{
 "cells": [
  {
   "cell_type": "code",
   "execution_count": 1,
   "metadata": {},
   "outputs": [],
   "source": [
    "from sympy import *\n",
    "import math\n",
    "import numpy as np"
   ]
  },
  {
   "cell_type": "markdown",
   "metadata": {},
   "source": [
    "### 20.1"
   ]
  },
  {
   "cell_type": "code",
   "execution_count": 2,
   "metadata": {},
   "outputs": [],
   "source": [
    "def PlaneBeamElementLength(x1,y1,x2,y2):\n",
    "    return math.sqrt((x2-x1)*(x2-x1) + (y2-y1)*(y2-y1))"
   ]
  },
  {
   "cell_type": "code",
   "execution_count": 3,
   "metadata": {},
   "outputs": [],
   "source": [
    "def PlaneBeamElementStiffness(E,I,L):\n",
    "    return (E*I)/(L**3)*np.array([[12, 6*L, -12, 6*L],\n",
    "                                [6*L,4*L**2, -6*L, 2*L**2],\n",
    "                                [-12, -6*L, 12, -6*L],\n",
    "                                [6*L, 2*L**2,  -6*L,4*L**2]]) "
   ]
  },
  {
   "cell_type": "code",
   "execution_count": 4,
   "metadata": {},
   "outputs": [],
   "source": [
    "def PlaneBeamAssemble(K,k,i,j):\n",
    "    # K - np.array\n",
    "    # k - np.array\n",
    "    K[2*i,2*i] = K[2*i,2*i] + k[0,0]\n",
    "    K[2*i,2*i+1] = K[2*i,2*i+1] + k[0,1] \n",
    "    K[2*i,2*j] = K[2*i,2*j] + k[0,2] \n",
    "    K[2*i,2*j+1] = K[2*i,2*j+1] + k[0,3]\n",
    "    K[2*i+1,2*i] = K[2*i+1,2*i] + k[1,0]\n",
    "    K[2*i+1,2*i+1] = K[2*i+1,2*i+1] + k[1,1] \n",
    "    K[2*i+1,2*j] = K[2*i+1,2*j] + k[1,2] \n",
    "    K[2*i+1,2*j+1] = K[2*i+1,2*j+1] + k[1,3] \n",
    "    K[2*j,2*i] = K[2*j,2*i] + k[2,0] \n",
    "    K[2*j,2*i+1] = K[2*j,2*i+1] + k[2,1]\n",
    "    K[2*j,2*j] = K[2*j,2*j] + k[2,2]\n",
    "    K[2*j,2*j+1] = K[2*j,2*j+1] + k[2,3] \n",
    "    K[2*j+1,2*i] = K[2*j+1,2*i] + k[3,0] \n",
    "    K[2*j+1,2*i+1] = K[2*j+1,2*i+1] + k[3,1]\n",
    "    K[2*j+1,2*j] = K[2*j+1,2*j] + k[3,2] \n",
    "    K[2*j+1,2*j+1] = K[2*j+1,2*j+1] + k[3,3]\n",
    "        \n",
    "    return K"
   ]
  },
  {
   "cell_type": "code",
   "execution_count": 5,
   "metadata": {},
   "outputs": [],
   "source": [
    "def FEA_u(coord, elcon, bc_node, bc_val, global_force,  I, E):\n",
    "    K=np.zeros(shape=(2*np.max(elcon)+2,2*np.max(elcon)+2))\n",
    "    for el in elcon:\n",
    "        L=PlaneBeamElementLength(coord[el[0]][0],coord[el[0]][1],coord[el[1]][0],coord[el[1]][1])\n",
    "        k=PlaneBeamElementStiffness(E, I, L)\n",
    "        K=PlaneBeamAssemble(K,k,el[0],el[1])\n",
    "    \n",
    "    F = global_force\n",
    "    \n",
    "    bc=np.array([bc_node, \n",
    "                bc_val]).T\n",
    "    nd, nd=K.shape\n",
    "    fdof=np.array([i for i in range(nd)]).T\n",
    "    d=np.zeros(shape=(len(fdof),))\n",
    "    Q=np.zeros(shape=(len(fdof),))\n",
    "\n",
    "    pdof=bc[:,0].astype(int)\n",
    "    dp=bc[:,1]\n",
    "    fdof=np.delete(fdof, pdof, 0)\n",
    "    s=np.linalg.lstsq(K[fdof,:][:,fdof],\n",
    "                      (F[fdof].T-np.dot(K[fdof,:][:,pdof],dp.T)).T, rcond=None)[0] \n",
    "    d[pdof]=dp\n",
    "    d[fdof]=s.reshape(-1,)\n",
    "    \n",
    "#     Q=np.dot(K,d).T-F \n",
    "    \n",
    "    return d"
   ]
  },
  {
   "cell_type": "code",
   "execution_count": 6,
   "metadata": {},
   "outputs": [],
   "source": [
    "I=8000\n",
    "E=20e6"
   ]
  },
  {
   "cell_type": "code",
   "execution_count": 7,
   "metadata": {},
   "outputs": [],
   "source": [
    "coord=np.array([0,0,\n",
    "                400,0,\n",
    "               1200,0]).reshape(3,2)"
   ]
  },
  {
   "cell_type": "code",
   "execution_count": 8,
   "metadata": {},
   "outputs": [],
   "source": [
    "elcon=np.array([[0, 1],\n",
    "                [1, 2]])"
   ]
  },
  {
   "cell_type": "code",
   "execution_count": 9,
   "metadata": {},
   "outputs": [],
   "source": [
    "bc_node = [0,4]"
   ]
  },
  {
   "cell_type": "code",
   "execution_count": 10,
   "metadata": {},
   "outputs": [],
   "source": [
    "bc_val=[ 0., 0.]"
   ]
  },
  {
   "cell_type": "code",
   "execution_count": 11,
   "metadata": {},
   "outputs": [],
   "source": [
    "global_force=np.array([0,0,\n",
    "                      -50000,0,\n",
    "                       0, 0])"
   ]
  },
  {
   "cell_type": "code",
   "execution_count": 12,
   "metadata": {},
   "outputs": [
    {
     "data": {
      "text/plain": [
       "array([ 0.        , -0.02777778, -8.88888889, -0.01111111,  0.        ,\n",
       "        0.02222222])"
      ]
     },
     "execution_count": 12,
     "metadata": {},
     "output_type": "execute_result"
    }
   ],
   "source": [
    "FEA_u(coord, elcon, bc_node, bc_val, global_force, I, E)"
   ]
  },
  {
   "cell_type": "markdown",
   "metadata": {},
   "source": [
    "### 20.2"
   ]
  },
  {
   "cell_type": "code",
   "execution_count": 13,
   "metadata": {},
   "outputs": [],
   "source": [
    "coord=np.array([0,0,\n",
    "                400,0,\n",
    "               1200,0]).reshape(3,2)"
   ]
  },
  {
   "cell_type": "code",
   "execution_count": 14,
   "metadata": {},
   "outputs": [],
   "source": [
    "elcon=np.array([[0, 1],\n",
    "                [1, 2]])"
   ]
  },
  {
   "cell_type": "code",
   "execution_count": 15,
   "metadata": {},
   "outputs": [],
   "source": [
    "bc_node = [0, 1, 4,5]"
   ]
  },
  {
   "cell_type": "code",
   "execution_count": 16,
   "metadata": {},
   "outputs": [],
   "source": [
    "bc_val=[0., 0., 0.,0]"
   ]
  },
  {
   "cell_type": "code",
   "execution_count": 17,
   "metadata": {},
   "outputs": [],
   "source": [
    "global_force=np.array([0,0,\n",
    "                       -50000,0,\n",
    "                       0, 0])"
   ]
  },
  {
   "cell_type": "code",
   "execution_count": 18,
   "metadata": {},
   "outputs": [
    {
     "data": {
      "text/plain": [
       "array([ 0.        ,  0.        , -1.97530864, -0.0037037 ,  0.        ,\n",
       "        0.        ])"
      ]
     },
     "execution_count": 18,
     "metadata": {},
     "output_type": "execute_result"
    }
   ],
   "source": [
    "FEA_u(coord, elcon, bc_node, bc_val, global_force, I, E)"
   ]
  },
  {
   "cell_type": "markdown",
   "metadata": {},
   "source": [
    "### 20.4"
   ]
  },
  {
   "cell_type": "code",
   "execution_count": 19,
   "metadata": {},
   "outputs": [],
   "source": [
    "coord=np.array([0,0,\n",
    "                500,0]).reshape(2,2)"
   ]
  },
  {
   "cell_type": "code",
   "execution_count": 20,
   "metadata": {},
   "outputs": [],
   "source": [
    "elcon=np.array([[0, 1]])"
   ]
  },
  {
   "cell_type": "code",
   "execution_count": 21,
   "metadata": {},
   "outputs": [],
   "source": [
    "bc_node = [0, 1]"
   ]
  },
  {
   "cell_type": "code",
   "execution_count": 22,
   "metadata": {},
   "outputs": [],
   "source": [
    "bc_val=[0., 0.]"
   ]
  },
  {
   "cell_type": "code",
   "execution_count": 23,
   "metadata": {},
   "outputs": [],
   "source": [
    "global_force=np.array([0,0,\n",
    "                       -50000,0])"
   ]
  },
  {
   "cell_type": "code",
   "execution_count": 24,
   "metadata": {},
   "outputs": [
    {
     "data": {
      "text/plain": [
       "array([  0.        ,   0.        , -13.02083333,  -0.0390625 ])"
      ]
     },
     "execution_count": 24,
     "metadata": {},
     "output_type": "execute_result"
    }
   ],
   "source": [
    "FEA_u(coord, elcon, bc_node, bc_val, global_force, I, E)"
   ]
  },
  {
   "cell_type": "markdown",
   "metadata": {},
   "source": [
    "### 20.8"
   ]
  },
  {
   "cell_type": "code",
   "execution_count": 25,
   "metadata": {},
   "outputs": [],
   "source": [
    "coord=np.array([0,0,\n",
    "                500,0,\n",
    "                1000,0]).reshape(3,2)"
   ]
  },
  {
   "cell_type": "code",
   "execution_count": 26,
   "metadata": {},
   "outputs": [],
   "source": [
    "elcon=np.array([[0, 1],\n",
    "                [1,2]])"
   ]
  },
  {
   "cell_type": "code",
   "execution_count": 27,
   "metadata": {},
   "outputs": [],
   "source": [
    "bc_node = [0, 1, 4]"
   ]
  },
  {
   "cell_type": "code",
   "execution_count": 28,
   "metadata": {},
   "outputs": [],
   "source": [
    "bc_val=[0., 0., 0.]"
   ]
  },
  {
   "cell_type": "code",
   "execution_count": 29,
   "metadata": {},
   "outputs": [],
   "source": [
    "global_force=np.array([0,0,\n",
    "                       -50000,0,\n",
    "                      0,0])"
   ]
  },
  {
   "cell_type": "code",
   "execution_count": 30,
   "metadata": {},
   "outputs": [
    {
     "data": {
      "text/plain": [
       "array([ 0.00000000e+00,  0.00000000e+00, -2.84830729e+00, -2.44140625e-03,\n",
       "        0.00000000e+00,  9.76562500e-03])"
      ]
     },
     "execution_count": 30,
     "metadata": {},
     "output_type": "execute_result"
    }
   ],
   "source": [
    "FEA_u(coord, elcon, bc_node, bc_val, global_force, I, E)"
   ]
  },
  {
   "cell_type": "markdown",
   "metadata": {},
   "source": [
    "### 20.12"
   ]
  },
  {
   "cell_type": "code",
   "execution_count": 31,
   "metadata": {},
   "outputs": [],
   "source": [
    "coord=np.array([0,0,\n",
    "                600,0,\n",
    "                1200,0]).reshape(3,2)"
   ]
  },
  {
   "cell_type": "code",
   "execution_count": 32,
   "metadata": {},
   "outputs": [],
   "source": [
    "elcon=np.array([[0, 1],\n",
    "                [1,2]])"
   ]
  },
  {
   "cell_type": "code",
   "execution_count": 33,
   "metadata": {},
   "outputs": [],
   "source": [
    "bc_node = [0, 1, 4]"
   ]
  },
  {
   "cell_type": "code",
   "execution_count": 34,
   "metadata": {},
   "outputs": [],
   "source": [
    "bc_val=[0., 0., 0.]"
   ]
  },
  {
   "cell_type": "code",
   "execution_count": 35,
   "metadata": {},
   "outputs": [],
   "source": [
    "global_force=np.array([0,0,\n",
    "                       0,-25000,\n",
    "                      0,0])"
   ]
  },
  {
   "cell_type": "code",
   "execution_count": 36,
   "metadata": {},
   "outputs": [
    {
     "data": {
      "text/plain": [
       "array([ 0.00000000e+00,  0.00000000e+00, -1.75781250e-03, -1.46484375e-05,\n",
       "        0.00000000e+00,  1.17187500e-05])"
      ]
     },
     "execution_count": 36,
     "metadata": {},
     "output_type": "execute_result"
    }
   ],
   "source": [
    "FEA_u(coord, elcon, bc_node, bc_val, global_force, I, E)"
   ]
  },
  {
   "cell_type": "markdown",
   "metadata": {},
   "source": [
    "### 20.13"
   ]
  },
  {
   "cell_type": "code",
   "execution_count": 37,
   "metadata": {},
   "outputs": [],
   "source": [
    "x=Symbol('x')\n",
    "L=Symbol('L')"
   ]
  },
  {
   "cell_type": "code",
   "execution_count": 38,
   "metadata": {},
   "outputs": [],
   "source": [
    "B2=diff(x-2*x**2/L+x**3/L**2, x, x)"
   ]
  },
  {
   "cell_type": "code",
   "execution_count": 39,
   "metadata": {},
   "outputs": [],
   "source": [
    "B3=diff(3*x**2/L**2-2*x**3/L**3, x, x)"
   ]
  },
  {
   "cell_type": "code",
   "execution_count": 40,
   "metadata": {},
   "outputs": [
    {
     "data": {
      "text/latex": [
       "$\\displaystyle - \\frac{6}{L^{2}}$"
      ],
      "text/plain": [
       "-6/L**2"
      ]
     },
     "execution_count": 40,
     "metadata": {},
     "output_type": "execute_result"
    }
   ],
   "source": [
    "integrate(B2*B3, (x, 0, L))"
   ]
  }
 ],
 "metadata": {
  "kernelspec": {
   "display_name": "Python 3",
   "language": "python",
   "name": "python3"
  },
  "language_info": {
   "codemirror_mode": {
    "name": "ipython",
    "version": 3
   },
   "file_extension": ".py",
   "mimetype": "text/x-python",
   "name": "python",
   "nbconvert_exporter": "python",
   "pygments_lexer": "ipython3",
   "version": "3.7.7"
  }
 },
 "nbformat": 4,
 "nbformat_minor": 4
}
