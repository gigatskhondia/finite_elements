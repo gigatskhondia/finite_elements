{
 "cells": [
  {
   "cell_type": "code",
   "execution_count": 1,
   "metadata": {},
   "outputs": [],
   "source": [
    "from sympy import *\n",
    "import math\n",
    "import numpy as np"
   ]
  },
  {
   "cell_type": "markdown",
   "metadata": {},
   "source": [
    "### 27.3"
   ]
  },
  {
   "cell_type": "code",
   "execution_count": 2,
   "metadata": {},
   "outputs": [],
   "source": [
    "eta = Symbol('eta')\n",
    "xi = Symbol('xi')\n",
    "\n",
    "X1 = Symbol('X1')\n",
    "Y1 = Symbol('Y1')\n",
    "\n",
    "X2 = Symbol('X2')\n",
    "Y2 = Y1\n",
    "\n",
    "X3 = X2\n",
    "Y3 = Symbol('Y3')\n",
    "\n",
    "X4 = X1\n",
    "Y4 = Y3"
   ]
  },
  {
   "cell_type": "code",
   "execution_count": 3,
   "metadata": {},
   "outputs": [],
   "source": [
    "J = Symbol('J')"
   ]
  },
  {
   "cell_type": "code",
   "execution_count": 4,
   "metadata": {},
   "outputs": [],
   "source": [
    "A = Symbol('A')"
   ]
  },
  {
   "cell_type": "code",
   "execution_count": 5,
   "metadata": {},
   "outputs": [],
   "source": [
    "eq1=Eq(J, det(1/4*Matrix(np.dot(Matrix([[-(1-eta),(1-eta),(1+eta),-(1+eta)],\n",
    "                 [-(1-xi),-(1+xi),(1+xi),(1-xi)]]),\n",
    "                         Matrix([[X1,Y1],[X2,Y2],[X3,Y3],[X4,Y4]])))))"
   ]
  },
  {
   "cell_type": "code",
   "execution_count": 6,
   "metadata": {},
   "outputs": [],
   "source": [
    "eq2=Eq(A, (X2-X1)*(Y3-Y1))"
   ]
  },
  {
   "cell_type": "code",
   "execution_count": 7,
   "metadata": {},
   "outputs": [
    {
     "data": {
      "text/latex": [
       "$\\displaystyle 0.25 A$"
      ],
      "text/plain": [
       "0.25*A"
      ]
     },
     "execution_count": 7,
     "metadata": {},
     "output_type": "execute_result"
    }
   ],
   "source": [
    "solve((eq1,eq2),exclude=[A])[0][J]"
   ]
  },
  {
   "cell_type": "markdown",
   "metadata": {},
   "source": [
    "### 27.4"
   ]
  },
  {
   "cell_type": "markdown",
   "metadata": {},
   "source": [
    "#### (e)"
   ]
  },
  {
   "cell_type": "code",
   "execution_count": 8,
   "metadata": {},
   "outputs": [],
   "source": [
    "L1, L2 = symbols(\"L1 L2\")"
   ]
  },
  {
   "cell_type": "code",
   "execution_count": 9,
   "metadata": {},
   "outputs": [],
   "source": [
    "f=L1*L2**2"
   ]
  },
  {
   "cell_type": "code",
   "execution_count": 10,
   "metadata": {},
   "outputs": [
    {
     "data": {
      "text/latex": [
       "$\\displaystyle 0.0166666666666667$"
      ],
      "text/plain": [
       "0.0166666666666667"
      ]
     },
     "execution_count": 10,
     "metadata": {},
     "output_type": "execute_result"
    }
   ],
   "source": [
    "integrate(f, (L2, 0, 1-L1), (L1, 0, 1)).evalf()"
   ]
  },
  {
   "cell_type": "markdown",
   "metadata": {},
   "source": [
    "### 27.7"
   ]
  },
  {
   "cell_type": "code",
   "execution_count": 11,
   "metadata": {},
   "outputs": [],
   "source": [
    "xi0 = eta0 = 0.577350"
   ]
  },
  {
   "cell_type": "code",
   "execution_count": 12,
   "metadata": {},
   "outputs": [],
   "source": [
    "xi, eta = symbols(\"xi eta\")"
   ]
  },
  {
   "cell_type": "code",
   "execution_count": 13,
   "metadata": {},
   "outputs": [],
   "source": [
    "N1=-1/4*(1-xi)*(1-eta)*(1+xi+eta)\n",
    "N2=1/2*(1-xi**2)*(1-eta)\n",
    "N3=1/4*(1+xi)*(1-eta)*(xi-eta-1)\n",
    "N4=1/2*(1-eta**2)*(1+xi)\n",
    "N5=1/4*(1+xi)*(1+eta)*(xi+eta-1)\n",
    "N6=1/2*(1-xi**2)*(1+eta)\n",
    "N7=-1/4*(1-xi)*(1+eta)*(xi-eta+1)\n",
    "N8=1/2*(1-eta**2)*(1-xi)"
   ]
  },
  {
   "cell_type": "code",
   "execution_count": 14,
   "metadata": {},
   "outputs": [],
   "source": [
    "ans=Matrix([[diff(N1, xi),diff(N2, xi),diff(N3, xi),diff(N4, xi),diff(N5, xi),diff(N6, xi),diff(N7, xi),diff(N8, xi)],\n",
    "         [diff(N1, eta),diff(N2, eta),diff(N3, eta),diff(N4, eta),diff(N5, eta),diff(N6, eta),diff(N7, eta),diff(N8, eta)]])"
   ]
  },
  {
   "cell_type": "code",
   "execution_count": 15,
   "metadata": {},
   "outputs": [
    {
     "data": {
      "text/plain": [
       "array([[ 0.18301273,  0.18301273],\n",
       "       [-0.24401698, -0.33333349],\n",
       "       [ 0.06100424,  0.22767076],\n",
       "       [ 0.33333349, -0.91068302],\n",
       "       [ 0.68301227,  0.68301227],\n",
       "       [-0.91068302,  0.33333349],\n",
       "       [ 0.22767076,  0.06100424],\n",
       "       [-0.33333349, -0.24401698]])"
      ]
     },
     "execution_count": 15,
     "metadata": {},
     "output_type": "execute_result"
    }
   ],
   "source": [
    "lambdify([xi,eta], ans, \"numpy\")(xi0, eta0).T"
   ]
  },
  {
   "cell_type": "code",
   "execution_count": 16,
   "metadata": {},
   "outputs": [],
   "source": [
    "# TODO - the answer is not the same as in the book"
   ]
  },
  {
   "cell_type": "markdown",
   "metadata": {},
   "source": [
    "### 27.10"
   ]
  },
  {
   "cell_type": "code",
   "execution_count": 17,
   "metadata": {},
   "outputs": [],
   "source": [
    "L1_0 = L2_0 = 1/2"
   ]
  },
  {
   "cell_type": "code",
   "execution_count": 18,
   "metadata": {},
   "outputs": [],
   "source": [
    "L1, L2 = symbols(\"L1 L2\")"
   ]
  },
  {
   "cell_type": "code",
   "execution_count": 19,
   "metadata": {},
   "outputs": [],
   "source": [
    "N1=L1*(2*L1-1)\n",
    "N2=4*L1*L2\n",
    "N3=L2*(2*L2-1)\n",
    "N4=4*L2*(1-L1-L2)\n",
    "N5=1-3*(L1+L2)+2*(L1+L2)**2\n",
    "N6=4*L1*(1-L1-L2)"
   ]
  },
  {
   "cell_type": "code",
   "execution_count": 20,
   "metadata": {},
   "outputs": [],
   "source": [
    "ans=Matrix([[diff(N1, L1),diff(N2, L1),diff(N3, L1),diff(N4, L1),diff(N5, L1),diff(N6, L1)],\n",
    "         [diff(N1, L2),diff(N2, L2),diff(N3, L2),diff(N4, L2),diff(N5, L2),diff(N6, L2)]])"
   ]
  },
  {
   "cell_type": "code",
   "execution_count": 21,
   "metadata": {},
   "outputs": [
    {
     "data": {
      "text/plain": [
       "array([[ 1.,  0.],\n",
       "       [ 2.,  2.],\n",
       "       [ 0.,  1.],\n",
       "       [-2., -2.],\n",
       "       [ 1.,  1.],\n",
       "       [-2., -2.]])"
      ]
     },
     "execution_count": 21,
     "metadata": {},
     "output_type": "execute_result"
    }
   ],
   "source": [
    "lambdify([L1,L2], ans, \"numpy\")(L1_0, L2_0).T"
   ]
  },
  {
   "cell_type": "code",
   "execution_count": 22,
   "metadata": {},
   "outputs": [],
   "source": [
    "# TODO - the answer is not the same as in the book"
   ]
  },
  {
   "cell_type": "markdown",
   "metadata": {},
   "source": [
    "### 27.15"
   ]
  },
  {
   "cell_type": "code",
   "execution_count": 23,
   "metadata": {},
   "outputs": [],
   "source": [
    "X1=0\n",
    "Y1=0\n",
    "X3=6\n",
    "Y3=1\n",
    "X5=2\n",
    "Y5=6"
   ]
  },
  {
   "cell_type": "code",
   "execution_count": 24,
   "metadata": {},
   "outputs": [],
   "source": [
    "L1, L2, Q = symbols(\"L1 L2 Q\")"
   ]
  },
  {
   "cell_type": "code",
   "execution_count": 25,
   "metadata": {},
   "outputs": [],
   "source": [
    "N1=L1*(2*L1-1)\n",
    "N2=4*L1*L2\n",
    "N3=L2*(2*L2-1)\n",
    "N4=4*L2*(1-L1-L2)\n",
    "N5=1-3*(L1+L2)+2*(L1+L2)**2\n",
    "N6=4*L1*(1-L1-L2)"
   ]
  },
  {
   "cell_type": "code",
   "execution_count": 26,
   "metadata": {},
   "outputs": [],
   "source": [
    "C1=Matrix([[diff(N1, L1),diff(N2, L1),diff(N3, L1),diff(N4, L1),diff(N5, L1),diff(N6, L1)],\n",
    "         [diff(N1, L2),diff(N2, L2),diff(N3, L2),diff(N4, L2),diff(N5, L2),diff(N6, L2)]])"
   ]
  },
  {
   "cell_type": "code",
   "execution_count": 27,
   "metadata": {},
   "outputs": [],
   "source": [
    "C2=Matrix([[X1,Y1],[(X1+X3)/2,(Y1+Y3)/2],[X3,Y3],[(X3+X5)/2,(Y3+Y5)/2],[X5,Y5],[(X1+X5)/2,(Y1+Y5)/2]])"
   ]
  },
  {
   "cell_type": "code",
   "execution_count": 28,
   "metadata": {},
   "outputs": [],
   "source": [
    "J=Matrix(np.dot(C1,C2))"
   ]
  },
  {
   "cell_type": "code",
   "execution_count": 29,
   "metadata": {},
   "outputs": [],
   "source": [
    "N=Matrix([N1,N2,N3,N4,N5,N6])"
   ]
  },
  {
   "cell_type": "code",
   "execution_count": 30,
   "metadata": {},
   "outputs": [
    {
     "data": {
      "text/latex": [
       "$\\displaystyle \\left[\\begin{matrix}0 & 5.66666666666667 Q & - 1.77635683940025 \\cdot 10^{-15} Q & 5.66666666666667 Q & - 1.77635683940025 \\cdot 10^{-15} Q & 5.66666666666667 Q\\end{matrix}\\right]$"
      ],
      "text/plain": [
       "Matrix([[0, 5.66666666666667*Q, -1.77635683940025e-15*Q, 5.66666666666667*Q, -1.77635683940025e-15*Q, 5.66666666666667*Q]])"
      ]
     },
     "execution_count": 30,
     "metadata": {},
     "output_type": "execute_result"
    }
   ],
   "source": [
    "(Q*N.T*det(J)).integrate((L2, 0, 1-L1),(L1, 0, 1) )"
   ]
  },
  {
   "cell_type": "markdown",
   "metadata": {},
   "source": [
    "### 27.17"
   ]
  },
  {
   "cell_type": "code",
   "execution_count": 31,
   "metadata": {},
   "outputs": [],
   "source": [
    "X1=4\n",
    "Y1=3\n",
    "X2=(12+4)/2\n",
    "Y2=(3+3)/2\n",
    "X3=12\n",
    "Y3=3\n",
    "X4=9.66\n",
    "Y4=8.66\n",
    "X5=4\n",
    "Y5=11\n",
    "X6=(4+4)/2\n",
    "Y6=(3+11)/2"
   ]
  },
  {
   "cell_type": "code",
   "execution_count": 32,
   "metadata": {},
   "outputs": [],
   "source": [
    "L1, L2, Q = symbols(\"L1 L2 Q\")"
   ]
  },
  {
   "cell_type": "code",
   "execution_count": 33,
   "metadata": {},
   "outputs": [],
   "source": [
    "N1=L1*(2*L1-1)\n",
    "N2=4*L1*L2\n",
    "N3=L2*(2*L2-1)\n",
    "N4=4*L2*(1-L1-L2)\n",
    "N5=1-3*(L1+L2)+2*(L1+L2)**2\n",
    "N6=4*L1*(1-L1-L2)"
   ]
  },
  {
   "cell_type": "code",
   "execution_count": 34,
   "metadata": {},
   "outputs": [],
   "source": [
    "C1=Matrix([[diff(N1, L1),diff(N2, L1),diff(N3, L1),diff(N4, L1),diff(N5, L1),diff(N6, L1)],\n",
    "         [diff(N1, L2),diff(N2, L2),diff(N3, L2),diff(N4, L2),diff(N5, L2),diff(N6, L2)]])"
   ]
  },
  {
   "cell_type": "code",
   "execution_count": 35,
   "metadata": {},
   "outputs": [],
   "source": [
    "C2=Matrix([[X1,Y1],[X2,Y2],[X3,Y3],[X4,Y4],[X5,Y5],[X6,Y6]])"
   ]
  },
  {
   "cell_type": "code",
   "execution_count": 36,
   "metadata": {},
   "outputs": [],
   "source": [
    "J=Matrix(np.dot(C1,C2))"
   ]
  },
  {
   "cell_type": "code",
   "execution_count": 37,
   "metadata": {},
   "outputs": [],
   "source": [
    "N=Matrix([N1,N2,N3,N4,N5,N6])"
   ]
  },
  {
   "cell_type": "code",
   "execution_count": 38,
   "metadata": {},
   "outputs": [
    {
     "data": {
      "text/latex": [
       "$\\displaystyle \\left[\\begin{matrix}- 0.885333333333364 Q & 15.9786666666667 Q & 0.442666666666653 Q & 17.7493333333333 Q & 0.442666666666625 Q & 15.9786666666667 Q\\end{matrix}\\right]$"
      ],
      "text/plain": [
       "Matrix([[-0.885333333333364*Q, 15.9786666666667*Q, 0.442666666666653*Q, 17.7493333333333*Q, 0.442666666666625*Q, 15.9786666666667*Q]])"
      ]
     },
     "execution_count": 38,
     "metadata": {},
     "output_type": "execute_result"
    }
   ],
   "source": [
    "(Q*N.T*det(J)).integrate((L2, 0, 1-L1),(L1, 0, 1) )"
   ]
  },
  {
   "cell_type": "code",
   "execution_count": 39,
   "metadata": {},
   "outputs": [],
   "source": [
    "# TODO - the answer is not the same as in the book"
   ]
  },
  {
   "cell_type": "markdown",
   "metadata": {},
   "source": [
    "### 27.18"
   ]
  },
  {
   "cell_type": "code",
   "execution_count": 40,
   "metadata": {},
   "outputs": [],
   "source": [
    "xi, eta, Q = symbols(\"xi eta Q\")"
   ]
  },
  {
   "cell_type": "code",
   "execution_count": 41,
   "metadata": {},
   "outputs": [],
   "source": [
    "N1=-1/4*(1-xi)*(1-eta)*(1+xi+eta)\n",
    "N2=1/2*(1-xi**2)*(1-eta)\n",
    "N3=1/4*(1+xi)*(1-eta)*(xi-eta-1)\n",
    "N4=1/2*(1-eta**2)*(1+xi)\n",
    "N5=1/4*(1+xi)*(1+eta)*(xi+eta-1)\n",
    "N6=1/2*(1-xi**2)*(1+eta)\n",
    "N7=-1/4*(1-xi)*(1+eta)*(xi-eta+1)\n",
    "N8=1/2*(1-eta**2)*(1-xi)"
   ]
  },
  {
   "cell_type": "code",
   "execution_count": 42,
   "metadata": {},
   "outputs": [],
   "source": [
    "X1=3\n",
    "Y1=3\n",
    "X3=14\n",
    "Y3=5\n",
    "X5=14\n",
    "Y5=11\n",
    "X7=3\n",
    "Y7=9\n",
    "X2=(X1+X3)/2\n",
    "Y2=(Y1+Y3)/2\n",
    "X4=(X3+X5)/2\n",
    "Y4=(Y3+Y5)/2\n",
    "X6=(X5+X7)/2\n",
    "Y6=(Y5+Y7)/2\n",
    "X8=(X1+X7)/2\n",
    "Y8=(Y1+Y7)/2"
   ]
  },
  {
   "cell_type": "code",
   "execution_count": 43,
   "metadata": {},
   "outputs": [],
   "source": [
    "C1=Matrix([[diff(N1, xi),diff(N2, xi),diff(N3, xi),diff(N4, xi),diff(N5, xi),diff(N6, xi),diff(N7, xi),diff(N8, xi)],\n",
    "         [diff(N1, eta),diff(N2, eta),diff(N3, eta),diff(N4, eta),diff(N5, eta),diff(N6, eta),diff(N7, eta),diff(N8, eta)]])"
   ]
  },
  {
   "cell_type": "code",
   "execution_count": 44,
   "metadata": {},
   "outputs": [],
   "source": [
    "C2=Matrix([[X1,Y1],[X2,Y2],[X3,Y3],[X4,Y4],[X5,Y5],[X6,Y6],[X7,Y7],[X8,Y8]])"
   ]
  },
  {
   "cell_type": "code",
   "execution_count": 45,
   "metadata": {},
   "outputs": [],
   "source": [
    "J=Matrix(np.dot(C1,C2))"
   ]
  },
  {
   "cell_type": "code",
   "execution_count": 46,
   "metadata": {},
   "outputs": [],
   "source": [
    "N=Matrix([N1,N2,N3,N4,N5,N6,X7,X8])"
   ]
  },
  {
   "cell_type": "code",
   "execution_count": 47,
   "metadata": {},
   "outputs": [
    {
     "data": {
      "text/latex": [
       "$\\displaystyle \\left[\\begin{matrix}- 5.5 Q & 22.0 Q & - 5.5 Q & 22.0 Q & - 5.5 Q & 22.0 Q & 198.0 Q & 198.0 Q\\end{matrix}\\right]$"
      ],
      "text/plain": [
       "Matrix([[-5.5*Q, 22.0*Q, -5.5*Q, 22.0*Q, -5.5*Q, 22.0*Q, 198.0*Q, 198.0*Q]])"
      ]
     },
     "execution_count": 47,
     "metadata": {},
     "output_type": "execute_result"
    }
   ],
   "source": [
    "(Q*N.T*det(J)).integrate((xi, -1, 1),(eta, -1, 1) )"
   ]
  },
  {
   "cell_type": "code",
   "execution_count": 48,
   "metadata": {},
   "outputs": [],
   "source": [
    "# TODO - the answer is not the same as in the book"
   ]
  }
 ],
 "metadata": {
  "kernelspec": {
   "display_name": "Python 3",
   "language": "python",
   "name": "python3"
  },
  "language_info": {
   "codemirror_mode": {
    "name": "ipython",
    "version": 3
   },
   "file_extension": ".py",
   "mimetype": "text/x-python",
   "name": "python",
   "nbconvert_exporter": "python",
   "pygments_lexer": "ipython3",
   "version": "3.7.7"
  }
 },
 "nbformat": 4,
 "nbformat_minor": 4
}
