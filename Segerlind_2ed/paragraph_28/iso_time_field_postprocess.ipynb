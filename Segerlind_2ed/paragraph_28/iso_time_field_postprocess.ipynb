{
 "cells": [
  {
   "cell_type": "code",
   "execution_count": 1,
   "metadata": {},
   "outputs": [
    {
     "name": "stdout",
     "output_type": "stream",
     "text": [
      "mesh from iso_time_field.vtk:\n",
      "  points:  108\n",
      "  cells:   173\n",
      "  bounds:  [(-4.0, 4.0), (-3.9780875819354, 3.9780875821665), (0.0, 0.0)]\n",
      "  scalars: t, node_groups, mat_id\n",
      "  steps:   1\n",
      "plot 0: t(step 0)\n",
      "2023-04-17 14:37:07.329 Python[17601:214157] ApplePersistenceIgnoreState: Existing state will not be touched. New state will be written to /var/folders/q3/h2wsqqfn5rzdq1_0t_1q3sj00000gn/T/org.python.python.savedState\n"
     ]
    }
   ],
   "source": [
    "!sfepy-view iso_time_field.vtk -2"
   ]
  }
 ],
 "metadata": {
  "kernelspec": {
   "display_name": "Python 3",
   "language": "python",
   "name": "python3"
  },
  "language_info": {
   "codemirror_mode": {
    "name": "ipython",
    "version": 3
   },
   "file_extension": ".py",
   "mimetype": "text/x-python",
   "name": "python",
   "nbconvert_exporter": "python",
   "pygments_lexer": "ipython3",
   "version": "3.7.7"
  }
 },
 "nbformat": 4,
 "nbformat_minor": 4
}
