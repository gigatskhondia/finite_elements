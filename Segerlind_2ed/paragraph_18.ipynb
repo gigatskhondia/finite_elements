{
 "cells": [
  {
   "cell_type": "code",
   "execution_count": 1,
   "metadata": {},
   "outputs": [],
   "source": [
    "from sympy import *\n",
    "import math\n",
    "import numpy as np"
   ]
  },
  {
   "cell_type": "markdown",
   "metadata": {},
   "source": [
    "### 18.1"
   ]
  },
  {
   "cell_type": "code",
   "execution_count": 2,
   "metadata": {},
   "outputs": [],
   "source": [
    "A1=10\n",
    "A2=6\n",
    "dT=0\n",
    "L1=50\n",
    "L2=75\n",
    "E=20*1e6\n",
    "alp=11*1e-6\n",
    "P1=P3=0\n",
    "P2=15_000"
   ]
  },
  {
   "cell_type": "code",
   "execution_count": 3,
   "metadata": {},
   "outputs": [],
   "source": [
    "def ElementStiffness(A,E,L):\n",
    "    return A*E/L*np.matrix([[1,-1],[-1,1]])"
   ]
  },
  {
   "cell_type": "code",
   "execution_count": 4,
   "metadata": {},
   "outputs": [],
   "source": [
    "def ElementThermalForce(A,E,alp,dT):\n",
    "    return np.array([-A*E*alp*dT,\n",
    "                       A*E*alp*dT])"
   ]
  },
  {
   "cell_type": "code",
   "execution_count": 5,
   "metadata": {},
   "outputs": [],
   "source": [
    "def FEA_u(inp, bc_node, bc_val, P):\n",
    "    e=len(inp)\n",
    "    n=e+1\n",
    "    \n",
    "    elem=[]    \n",
    "    for i in range(e):\n",
    "        H=[i,i+1]\n",
    "        elem.append(H)\n",
    "    elem=np.array(elem)\n",
    "\n",
    "    K=np.zeros(shape=(n, n))\n",
    "    \n",
    "    F=np.zeros(shape=(n,))\n",
    "    \n",
    "    for i in range(e):\n",
    "        node1 = elem[i,0]\n",
    "        node2 = elem[i,1]\n",
    "        A, E, L, alp, dT = inp[i]\n",
    "        k=ElementStiffness(A,E,L)\n",
    "        K[node1:node2+1,node1:node2+1] = K[node1:node2+1,node1:node2+1] + k\n",
    "        \n",
    "        f = ElementThermalForce(A,E,alp,dT)\n",
    "        F[node1:node2+1] = F[node1:node2+1] + f\n",
    "\n",
    "    F+=P   \n",
    "    bc=np.array([bc_node, bc_val]).T\n",
    "\n",
    "    nd, nd=K.shape\n",
    "    fdof=np.array([i for i in range(nd)]).T\n",
    "    d=np.zeros(shape=(len(fdof),))\n",
    "    Q=np.zeros(shape=(len(fdof),))\n",
    "\n",
    "\n",
    "    pdof=bc[:,0].astype(int)\n",
    "    dp=bc[:,1]\n",
    "    fdof=np.delete(fdof, pdof, 0)\n",
    "    s=np.linalg.solve(K[fdof,:][:,fdof],(F[fdof].T-np.dot(K[fdof,:][:,pdof],dp.T)).T)\n",
    "    d[pdof]=dp\n",
    "    d[fdof]=s.reshape(-1,)\n",
    "#     Q=np.dot(K,d).T-F    \n",
    "        \n",
    "    return d"
   ]
  },
  {
   "cell_type": "code",
   "execution_count": 6,
   "metadata": {},
   "outputs": [],
   "source": [
    "inp = [[A1, E, L1, alp, dT], [A2, E, L2, alp, dT]]"
   ]
  },
  {
   "cell_type": "code",
   "execution_count": 7,
   "metadata": {},
   "outputs": [
    {
     "data": {
      "text/plain": [
       "array([0.        , 0.00267857, 0.        ])"
      ]
     },
     "execution_count": 7,
     "metadata": {},
     "output_type": "execute_result"
    }
   ],
   "source": [
    "FEA_u(inp, [0,2], [0,0], np.array([P1,P2,P3]))"
   ]
  },
  {
   "cell_type": "markdown",
   "metadata": {},
   "source": [
    "### 18.3"
   ]
  },
  {
   "cell_type": "code",
   "execution_count": 8,
   "metadata": {},
   "outputs": [],
   "source": [
    "A=5\n",
    "dT=10\n",
    "L1=50\n",
    "L2=50\n",
    "L3=50\n",
    "E=20*1e6\n",
    "alp=11*1e-6\n",
    "P2=P3=10_000\n",
    "P1=P4=0"
   ]
  },
  {
   "cell_type": "code",
   "execution_count": 9,
   "metadata": {},
   "outputs": [],
   "source": [
    "inp = [[A, E, L1, alp, dT], [A, E, L2, alp, dT], [A, E, L3, alp, dT]]"
   ]
  },
  {
   "cell_type": "code",
   "execution_count": 10,
   "metadata": {},
   "outputs": [
    {
     "data": {
      "text/plain": [
       "array([0.   , 0.005, 0.005, 0.   ])"
      ]
     },
     "execution_count": 10,
     "metadata": {},
     "output_type": "execute_result"
    }
   ],
   "source": [
    "FEA_u(inp, [0,3], [0,0], np.array([P1,P2,P3,P3]))"
   ]
  }
 ],
 "metadata": {
  "kernelspec": {
   "display_name": "Python 3",
   "language": "python",
   "name": "python3"
  },
  "language_info": {
   "codemirror_mode": {
    "name": "ipython",
    "version": 3
   },
   "file_extension": ".py",
   "mimetype": "text/x-python",
   "name": "python",
   "nbconvert_exporter": "python",
   "pygments_lexer": "ipython3",
   "version": "3.7.7"
  }
 },
 "nbformat": 4,
 "nbformat_minor": 4
}
