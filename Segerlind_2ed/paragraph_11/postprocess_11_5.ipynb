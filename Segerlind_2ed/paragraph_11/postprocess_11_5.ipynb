{
 "cells": [
  {
   "cell_type": "code",
   "execution_count": null,
   "metadata": {},
   "outputs": [
    {
     "name": "stdout",
     "output_type": "stream",
     "text": [
      "mesh from p11_5.vtk:\n",
      "  points:  65\n",
      "  cells:   96\n",
      "  bounds:  [(0.0, 2.0), (0.0, 6.0), (0.0, 0.0)]\n",
      "  scalars: t, node_groups, mat_id\n",
      "  steps:   1\n",
      "/Library/Frameworks/Python.framework/Versions/3.7/lib/python3.7/site-packages/pyvista/core/pointset.py:206: PyVistaDeprecationWarning: You did not specify a value for `inplace` and the default value will be changing to `False` in future versions for point-based meshes (e.g., `PolyData`). Please make sure you are not assuming this to be an inplace operation.\n",
      "  warnings.warn(DEFAULT_INPLACE_WARNING, PyVistaDeprecationWarning)\n",
      "plot 0: t(step 0)\n",
      "2023-02-04 19:45:08.120 Python[20956:229684] ApplePersistenceIgnoreState: Existing state will not be touched. New state will be written to /var/folders/q3/h2wsqqfn5rzdq1_0t_1q3sj00000gn/T/org.python.python.savedState\n"
     ]
    }
   ],
   "source": [
    "!sfepy-view p11_5.vtk -2"
   ]
  },
  {
   "cell_type": "code",
   "execution_count": null,
   "metadata": {},
   "outputs": [],
   "source": []
  }
 ],
 "metadata": {
  "kernelspec": {
   "display_name": "Python 3",
   "language": "python",
   "name": "python3"
  },
  "language_info": {
   "codemirror_mode": {
    "name": "ipython",
    "version": 3
   },
   "file_extension": ".py",
   "mimetype": "text/x-python",
   "name": "python",
   "nbconvert_exporter": "python",
   "pygments_lexer": "ipython3",
   "version": "3.7.7"
  }
 },
 "nbformat": 4,
 "nbformat_minor": 4
}
