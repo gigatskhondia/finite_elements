{
 "cells": [
  {
   "cell_type": "code",
   "execution_count": 1,
   "metadata": {},
   "outputs": [],
   "source": [
    "from sympy import *\n",
    "import math\n",
    "import numpy as np"
   ]
  },
  {
   "cell_type": "markdown",
   "metadata": {},
   "source": [
    "### 11.2"
   ]
  },
  {
   "cell_type": "code",
   "execution_count": 2,
   "metadata": {},
   "outputs": [],
   "source": [
    "h = Symbol('h')\n",
    "A = Symbol('A')\n",
    "ф_f = Symbol('ф_f')"
   ]
  },
  {
   "cell_type": "code",
   "execution_count": 3,
   "metadata": {},
   "outputs": [],
   "source": [
    "km = Matrix([[h*A, 0],\n",
    "           [0,0]])"
   ]
  },
  {
   "cell_type": "code",
   "execution_count": 4,
   "metadata": {},
   "outputs": [
    {
     "data": {
      "text/latex": [
       "$\\displaystyle \\left[\\begin{matrix}A h & 0\\\\0 & 0\\end{matrix}\\right]$"
      ],
      "text/plain": [
       "Matrix([\n",
       "[A*h, 0],\n",
       "[  0, 0]])"
      ]
     },
     "execution_count": 4,
     "metadata": {},
     "output_type": "execute_result"
    }
   ],
   "source": [
    "km"
   ]
  },
  {
   "cell_type": "code",
   "execution_count": 5,
   "metadata": {},
   "outputs": [],
   "source": [
    "fs = Matrix([h*A*ф_f,0])"
   ]
  },
  {
   "cell_type": "code",
   "execution_count": 6,
   "metadata": {},
   "outputs": [
    {
     "data": {
      "text/latex": [
       "$\\displaystyle \\left[\\begin{matrix}A h ф_{f}\\\\0\\end{matrix}\\right]$"
      ],
      "text/plain": [
       "Matrix([\n",
       "[A*h*ф_f],\n",
       "[      0]])"
      ]
     },
     "execution_count": 6,
     "metadata": {},
     "output_type": "execute_result"
    }
   ],
   "source": [
    "fs"
   ]
  },
  {
   "cell_type": "markdown",
   "metadata": {},
   "source": [
    "### 11.3"
   ]
  },
  {
   "cell_type": "code",
   "execution_count": 7,
   "metadata": {},
   "outputs": [],
   "source": [
    "def FinAssemble(K,k,i,j):\n",
    "    K[i,i] = K[i,i] + k[0,0]\n",
    "    K[i,j] = K[i,j] + k[0,1]\n",
    "    K[j,i] = K[j,i] + k[1,0]\n",
    "    K[j,j] = K[j,j] + k[1,1]\n",
    "    return K"
   ]
  },
  {
   "cell_type": "code",
   "execution_count": 8,
   "metadata": {},
   "outputs": [],
   "source": [
    "def ElementForceQ(h,P,L,ф_f):\n",
    "    return h*P*L*ф_f/2*np.array([1,1])"
   ]
  },
  {
   "cell_type": "code",
   "execution_count": 9,
   "metadata": {},
   "outputs": [],
   "source": [
    "def ElementForceS(h,P,L,ф_f,A):\n",
    "    return h*P*L*ф_f/2*np.array([1,1])+h*A*ф_f*np.array([0,1])"
   ]
  },
  {
   "cell_type": "code",
   "execution_count": 10,
   "metadata": {},
   "outputs": [],
   "source": [
    "def ForceAssemble(F,f,i,j):\n",
    "    F[i]=F[i]+f[0]\n",
    "    F[j]=F[j]+f[1]\n",
    "    return F"
   ]
  },
  {
   "cell_type": "code",
   "execution_count": 11,
   "metadata": {},
   "outputs": [],
   "source": [
    "def ElementStiffness(k,A,L,P,h):\n",
    "    return k*A/L*np.matrix([[1,-1], [-1,1]]) + h*P*L/6*np.matrix([[2,1], [1,2]])"
   ]
  },
  {
   "cell_type": "code",
   "execution_count": 12,
   "metadata": {},
   "outputs": [],
   "source": [
    "def ElementStiffnessM(kc,A,L,P,h):\n",
    "    return (kc*A/L*np.matrix([[1,-1], [-1,1]]) \n",
    "            + h*P*L/6*np.matrix([[2,1], [1,2]])\n",
    "            +np.matrix([[0,0], [0,h*A]]))"
   ]
  },
  {
   "cell_type": "code",
   "execution_count": 13,
   "metadata": {},
   "outputs": [],
   "source": [
    "def FEA_ф(inp, bc_node, bc_val):\n",
    "    K=np.zeros(shape=(len(inp)+1, len(inp)+1))\n",
    "    \n",
    "    F=np.zeros(shape=(len(inp)+1,))\n",
    "    \n",
    "    max_coord=0\n",
    "    for t, el in enumerate(inp):\n",
    "        Xi, Xj, kc, A, P, h, ф_f, i, j = el\n",
    "        max_coord=max(max_coord,i,j)\n",
    "        if t==len(inp)-1:\n",
    "            k=ElementStiffnessM(kc,A,Xj-Xi,P,h)\n",
    "            f=ElementForceS(h,P,Xj-Xi,ф_f,A)\n",
    "        else:\n",
    "            k=ElementStiffness(kc,A,Xj-Xi,P,h)\n",
    "            f=ElementForceQ(h,P,Xj-Xi,ф_f)\n",
    "        K=FinAssemble(K, k, i, j)\n",
    "        F=ForceAssemble(F,f,i,j)\n",
    "        \n",
    "#     https://github.com/CALFEM/calfem-matlab/blob/master/fem/solveq.m\n",
    "#     https://www.byggmek.lth.se/fileadmin/byggnadsmekanik/publications/tvsm5000/web5167.pdf p.35  \n",
    "\n",
    "#     F = np.zeros(shape =(6, 1)) \n",
    "#     F[2] = 10\n",
    "     \n",
    "     \n",
    "#     K=np.matrix([[ 25. , -25. , 0. , 0. , 0. , 0. ],\n",
    "#         [-25. , 49.3, -24.3, 0. , 0. , 0. ],\n",
    "#         [ 0. , -24.3, 24.7, -0.4, 0. , 0. ],\n",
    "#         [ 0. , 0. , -0.4, 17.4, -17. , 0. ],\n",
    "#         [ 0. , 0. , 0. , -17. , 24.7, -7.7],\n",
    "#         [ 0. , 0. , 0. , 0. , -7.7, 7.7]])\n",
    "    \n",
    "#     bc = np.array([[0, 5],\n",
    "#            [-17.0, 20.0]]).astype(int).T\n",
    "    \n",
    "    bc=np.array([bc_node, \n",
    "                bc_val]).T\n",
    "\n",
    "    nd, nd=K.shape\n",
    "    fdof=np.array([i for i in range(nd)]).T\n",
    "    d=np.zeros(shape=(len(fdof),))\n",
    "    Q=np.zeros(shape=(len(fdof),))\n",
    "\n",
    "\n",
    "    pdof=bc[:,0].astype(int)\n",
    "    dp=bc[:,1]\n",
    "    fdof=np.delete(fdof, pdof, 0)\n",
    "    s=np.linalg.solve(K[fdof,:][:,fdof],(F[fdof].T-np.dot(K[fdof,:][:,pdof],dp.T)).T)\n",
    "    d[pdof]=dp\n",
    "    d[fdof]=s.reshape(-1,)\n",
    "    Q=np.dot(K,d).T-F\n",
    "    \n",
    "    return d, Q"
   ]
  },
  {
   "cell_type": "code",
   "execution_count": 14,
   "metadata": {},
   "outputs": [],
   "source": [
    "kc=3\n",
    "A=4\n",
    "P=10\n",
    "h=0.1\n",
    "ф_f=20"
   ]
  },
  {
   "cell_type": "code",
   "execution_count": 15,
   "metadata": {},
   "outputs": [],
   "source": [
    "inp = [[0,1,kc,A,P,h,ф_f,0,1],\n",
    "       [1,3,kc,A,P,h,ф_f,1,2],\n",
    "       [3,5,kc,A,P,h,ф_f,2,3],\n",
    "       [5,8,kc,A,P,h,ф_f,3,4]]"
   ]
  },
  {
   "cell_type": "code",
   "execution_count": 16,
   "metadata": {},
   "outputs": [],
   "source": [
    "d,Q = FEA_ф(inp, [0],[80.])"
   ]
  },
  {
   "cell_type": "code",
   "execution_count": 17,
   "metadata": {},
   "outputs": [
    {
     "data": {
      "text/plain": [
       "array([80.        , 65.04539384, 45.74043816, 35.52034301, 30.05948158])"
      ]
     },
     "execution_count": 17,
     "metadata": {},
     "output_type": "execute_result"
    }
   ],
   "source": [
    "d"
   ]
  },
  {
   "cell_type": "code",
   "execution_count": 18,
   "metadata": {},
   "outputs": [
    {
     "data": {
      "text/plain": [
       "array([ 2.06962840e+02,  0.00000000e+00, -1.13686838e-13,  7.10542736e-14,\n",
       "       -1.42108547e-14])"
      ]
     },
     "execution_count": 18,
     "metadata": {},
     "output_type": "execute_result"
    }
   ],
   "source": [
    "Q"
   ]
  },
  {
   "cell_type": "code",
   "execution_count": 19,
   "metadata": {},
   "outputs": [],
   "source": [
    "inp = [[0,2,kc,A,P,h,ф_f,0,1],\n",
    "       [2,4,kc,A,P,h,ф_f,1,2],\n",
    "       [4,6,kc,A,P,h,ф_f,2,3],\n",
    "       [6,8,kc,A,P,h,ф_f,3,4]]"
   ]
  },
  {
   "cell_type": "code",
   "execution_count": 20,
   "metadata": {},
   "outputs": [],
   "source": [
    "d,Q = FEA_ф(inp, [0],[80.])"
   ]
  },
  {
   "cell_type": "code",
   "execution_count": 21,
   "metadata": {},
   "outputs": [
    {
     "data": {
      "text/plain": [
       "array([80.        , 53.94556119, 39.87190868, 32.811871  , 30.27367014])"
      ]
     },
     "execution_count": 21,
     "metadata": {},
     "output_type": "execute_result"
    }
   ],
   "source": [
    "d"
   ]
  },
  {
   "cell_type": "code",
   "execution_count": 22,
   "metadata": {},
   "outputs": [],
   "source": [
    "### 11.5"
   ]
  },
  {
   "cell_type": "code",
   "execution_count": 23,
   "metadata": {},
   "outputs": [],
   "source": [
    "### 11.8"
   ]
  },
  {
   "cell_type": "code",
   "execution_count": 24,
   "metadata": {},
   "outputs": [],
   "source": [
    "### 11.9"
   ]
  },
  {
   "cell_type": "code",
   "execution_count": 25,
   "metadata": {},
   "outputs": [],
   "source": [
    "### 11.11"
   ]
  }
 ],
 "metadata": {
  "kernelspec": {
   "display_name": "Python 3",
   "language": "python",
   "name": "python3"
  },
  "language_info": {
   "codemirror_mode": {
    "name": "ipython",
    "version": 3
   },
   "file_extension": ".py",
   "mimetype": "text/x-python",
   "name": "python",
   "nbconvert_exporter": "python",
   "pygments_lexer": "ipython3",
   "version": "3.7.7"
  }
 },
 "nbformat": 4,
 "nbformat_minor": 4
}
