{
 "cells": [
  {
   "cell_type": "code",
   "execution_count": 1,
   "metadata": {},
   "outputs": [],
   "source": [
    "from sympy import *\n",
    "import math\n",
    "import numpy as np"
   ]
  },
  {
   "cell_type": "markdown",
   "metadata": {},
   "source": [
    "### 11.2"
   ]
  },
  {
   "cell_type": "code",
   "execution_count": 2,
   "metadata": {},
   "outputs": [],
   "source": [
    "h = Symbol('h')\n",
    "A = Symbol('A')\n",
    "ф_f = Symbol('ф_f')"
   ]
  },
  {
   "cell_type": "code",
   "execution_count": 3,
   "metadata": {},
   "outputs": [],
   "source": [
    "km = Matrix([[h*A, 0],\n",
    "           [0,0]])"
   ]
  },
  {
   "cell_type": "code",
   "execution_count": 4,
   "metadata": {},
   "outputs": [
    {
     "data": {
      "text/latex": [
       "$\\displaystyle \\left[\\begin{matrix}A h & 0\\\\0 & 0\\end{matrix}\\right]$"
      ],
      "text/plain": [
       "Matrix([\n",
       "[A*h, 0],\n",
       "[  0, 0]])"
      ]
     },
     "execution_count": 4,
     "metadata": {},
     "output_type": "execute_result"
    }
   ],
   "source": [
    "km"
   ]
  },
  {
   "cell_type": "code",
   "execution_count": 5,
   "metadata": {},
   "outputs": [],
   "source": [
    "fs = Matrix([h*A*ф_f,0])"
   ]
  },
  {
   "cell_type": "code",
   "execution_count": 6,
   "metadata": {},
   "outputs": [
    {
     "data": {
      "text/latex": [
       "$\\displaystyle \\left[\\begin{matrix}A h ф_{f}\\\\0\\end{matrix}\\right]$"
      ],
      "text/plain": [
       "Matrix([\n",
       "[A*h*ф_f],\n",
       "[      0]])"
      ]
     },
     "execution_count": 6,
     "metadata": {},
     "output_type": "execute_result"
    }
   ],
   "source": [
    "fs"
   ]
  },
  {
   "cell_type": "markdown",
   "metadata": {},
   "source": [
    "### 11.3"
   ]
  },
  {
   "cell_type": "code",
   "execution_count": 7,
   "metadata": {},
   "outputs": [],
   "source": [
    "def FinAssemble(K,k,i,j):\n",
    "    K[i,i] = K[i,i] + k[0,0]\n",
    "    K[i,j] = K[i,j] + k[0,1]\n",
    "    K[j,i] = K[j,i] + k[1,0]\n",
    "    K[j,j] = K[j,j] + k[1,1]\n",
    "    return K"
   ]
  },
  {
   "cell_type": "code",
   "execution_count": 8,
   "metadata": {},
   "outputs": [],
   "source": [
    "def ElementForceQ(h,P,L,ф_f):\n",
    "    return h*P*L*ф_f/2*np.array([1,1])"
   ]
  },
  {
   "cell_type": "code",
   "execution_count": 9,
   "metadata": {},
   "outputs": [],
   "source": [
    "def ElementForceS(h,P,L,ф_f,A):\n",
    "    return h*P*L*ф_f/2*np.array([1,1])+h*A*ф_f*np.array([0,1])"
   ]
  },
  {
   "cell_type": "code",
   "execution_count": 10,
   "metadata": {},
   "outputs": [],
   "source": [
    "def ForceAssemble(F,f,i,j):\n",
    "    F[i]=F[i]+f[0]\n",
    "    F[j]=F[j]+f[1]\n",
    "    return F"
   ]
  },
  {
   "cell_type": "code",
   "execution_count": 11,
   "metadata": {},
   "outputs": [],
   "source": [
    "def ElementStiffness(kc,A,L,P,h):\n",
    "    return kc*A/L*np.matrix([[1,-1], [-1,1]]) + h*P*L/6*np.matrix([[2,1], [1,2]])"
   ]
  },
  {
   "cell_type": "code",
   "execution_count": 12,
   "metadata": {},
   "outputs": [],
   "source": [
    "def ElementStiffnessM(kc,A,L,P,h):\n",
    "    return (kc*A/L*np.matrix([[1,-1], [-1,1]]) \n",
    "            + h*P*L/6*np.matrix([[2,1], [1,2]])\n",
    "            +np.matrix([[0,0], \n",
    "                        [0,h*A]]))"
   ]
  },
  {
   "cell_type": "code",
   "execution_count": 13,
   "metadata": {},
   "outputs": [],
   "source": [
    "def FEA_ф(inp, bc_node, bc_val):\n",
    "    K=np.zeros(shape=(len(inp)+1, len(inp)+1))\n",
    "    \n",
    "    F=np.zeros(shape=(len(inp)+1,))\n",
    "    \n",
    "    max_coord=0\n",
    "    for t, el in enumerate(inp):\n",
    "        Xi, Xj, kc, A, P, h, ф_f, i, j = el\n",
    "        max_coord=max(max_coord,i,j)\n",
    "        if t==len(inp)-1:\n",
    "            k=ElementStiffnessM(kc,A,Xj-Xi,P,h)\n",
    "            f=ElementForceS(h,P,Xj-Xi,ф_f,A)\n",
    "        else:\n",
    "            k=ElementStiffness(kc,A,Xj-Xi,P,h)\n",
    "            f=ElementForceQ(h,P,Xj-Xi,ф_f)\n",
    "        K=FinAssemble(K, k, i, j)\n",
    "        F=ForceAssemble(F,f,i,j)\n",
    "        \n",
    "#     https://github.com/CALFEM/calfem-matlab/blob/master/fem/solveq.m\n",
    "#     https://www.byggmek.lth.se/fileadmin/byggnadsmekanik/publications/tvsm5000/web5167.pdf p.35  \n",
    "\n",
    "#     F = np.zeros(shape =(6, 1)) \n",
    "#     F[2] = 10\n",
    "     \n",
    "     \n",
    "#     K=np.matrix([[ 25. , -25. , 0. , 0. , 0. , 0. ],\n",
    "#         [-25. , 49.3, -24.3, 0. , 0. , 0. ],\n",
    "#         [ 0. , -24.3, 24.7, -0.4, 0. , 0. ],\n",
    "#         [ 0. , 0. , -0.4, 17.4, -17. , 0. ],\n",
    "#         [ 0. , 0. , 0. , -17. , 24.7, -7.7],\n",
    "#         [ 0. , 0. , 0. , 0. , -7.7, 7.7]])\n",
    "    \n",
    "#     bc = np.array([[0, 5],\n",
    "#            [-17.0, 20.0]]).astype(int).T\n",
    "    \n",
    "    bc=np.array([bc_node, \n",
    "                bc_val]).T\n",
    "\n",
    "    nd, nd=K.shape\n",
    "    fdof=np.array([i for i in range(nd)]).T\n",
    "    d=np.zeros(shape=(len(fdof),))\n",
    "    Q=np.zeros(shape=(len(fdof),))\n",
    "\n",
    "\n",
    "    pdof=bc[:,0].astype(int)\n",
    "    dp=bc[:,1]\n",
    "    fdof=np.delete(fdof, pdof, 0)\n",
    "    s=np.linalg.solve(K[fdof,:][:,fdof],(F[fdof].T-np.dot(K[fdof,:][:,pdof],dp.T)).T)\n",
    "    d[pdof]=dp\n",
    "    d[fdof]=s.reshape(-1,)\n",
    "    Q=np.dot(K,d).T-F\n",
    "    \n",
    "    return d, Q"
   ]
  },
  {
   "cell_type": "code",
   "execution_count": 14,
   "metadata": {},
   "outputs": [],
   "source": [
    "kc=3\n",
    "A=4\n",
    "P=10\n",
    "h=0.1\n",
    "ф_f=20"
   ]
  },
  {
   "cell_type": "code",
   "execution_count": 15,
   "metadata": {},
   "outputs": [],
   "source": [
    "inp = [[0,1,kc,A,P,h,ф_f,0,1],\n",
    "       [1,3,kc,A,P,h,ф_f,1,2],\n",
    "       [3,5,kc,A,P,h,ф_f,2,3],\n",
    "       [5,8,kc,A,P,h,ф_f,3,4]]"
   ]
  },
  {
   "cell_type": "code",
   "execution_count": 16,
   "metadata": {},
   "outputs": [],
   "source": [
    "d,Q = FEA_ф(inp, [0],[80.])"
   ]
  },
  {
   "cell_type": "code",
   "execution_count": 17,
   "metadata": {},
   "outputs": [
    {
     "data": {
      "text/plain": [
       "array([80.        , 65.04539384, 45.74043816, 35.52034301, 30.05948158])"
      ]
     },
     "execution_count": 17,
     "metadata": {},
     "output_type": "execute_result"
    }
   ],
   "source": [
    "d"
   ]
  },
  {
   "cell_type": "code",
   "execution_count": 18,
   "metadata": {},
   "outputs": [
    {
     "data": {
      "text/plain": [
       "array([ 2.06962840e+02,  0.00000000e+00, -1.13686838e-13,  7.10542736e-14,\n",
       "       -1.42108547e-14])"
      ]
     },
     "execution_count": 18,
     "metadata": {},
     "output_type": "execute_result"
    }
   ],
   "source": [
    "Q"
   ]
  },
  {
   "cell_type": "code",
   "execution_count": 19,
   "metadata": {},
   "outputs": [],
   "source": [
    "inp = [[0,2,kc,A,P,h,ф_f,0,1],\n",
    "       [2,4,kc,A,P,h,ф_f,1,2],\n",
    "       [4,6,kc,A,P,h,ф_f,2,3],\n",
    "       [6,8,kc,A,P,h,ф_f,3,4]]"
   ]
  },
  {
   "cell_type": "code",
   "execution_count": 20,
   "metadata": {},
   "outputs": [],
   "source": [
    "d,Q = FEA_ф(inp, [0],[80.])"
   ]
  },
  {
   "cell_type": "code",
   "execution_count": 21,
   "metadata": {},
   "outputs": [
    {
     "data": {
      "text/plain": [
       "array([80.        , 53.94556119, 39.87190868, 32.811871  , 30.27367014])"
      ]
     },
     "execution_count": 21,
     "metadata": {},
     "output_type": "execute_result"
    }
   ],
   "source": [
    "d"
   ]
  },
  {
   "cell_type": "markdown",
   "metadata": {},
   "source": [
    "### 11.5"
   ]
  },
  {
   "cell_type": "code",
   "execution_count": 22,
   "metadata": {},
   "outputs": [],
   "source": [
    "kc=2\n",
    "D=1\n",
    "A=math.pi*D**2/4\n",
    "P=math.pi*D\n",
    "h=0.2\n",
    "ф_f=10"
   ]
  },
  {
   "cell_type": "code",
   "execution_count": 23,
   "metadata": {},
   "outputs": [],
   "source": [
    "inp = [[0,1,kc,A,P,h,ф_f,0,1],\n",
    "       [1,3,kc,A,P,h,ф_f,1,2],\n",
    "       [3,6,kc,A,P,h,ф_f,2,3]]"
   ]
  },
  {
   "cell_type": "code",
   "execution_count": 24,
   "metadata": {},
   "outputs": [],
   "source": [
    "d,Q = FEA_ф(inp, [0],[50.])"
   ]
  },
  {
   "cell_type": "code",
   "execution_count": 25,
   "metadata": {},
   "outputs": [
    {
     "data": {
      "text/plain": [
       "array([50.        , 30.63667176, 15.11729913, 10.81876786])"
      ]
     },
     "execution_count": 25,
     "metadata": {},
     "output_type": "execute_result"
    }
   ],
   "source": [
    "d"
   ]
  },
  {
   "cell_type": "code",
   "execution_count": 26,
   "metadata": {},
   "outputs": [],
   "source": [
    "# TODO - the answer is not the same as in the book"
   ]
  },
  {
   "cell_type": "markdown",
   "metadata": {},
   "source": [
    "### 11.8"
   ]
  },
  {
   "cell_type": "code",
   "execution_count": 27,
   "metadata": {},
   "outputs": [],
   "source": [
    "kc=0.5"
   ]
  },
  {
   "cell_type": "code",
   "execution_count": 28,
   "metadata": {},
   "outputs": [],
   "source": [
    "ф_f_left=5\n",
    "ф_f_right=20\n",
    "h_left=1.5\n",
    "h_right=0.05"
   ]
  },
  {
   "cell_type": "code",
   "execution_count": 29,
   "metadata": {},
   "outputs": [],
   "source": [
    "A=1"
   ]
  },
  {
   "cell_type": "code",
   "execution_count": 30,
   "metadata": {},
   "outputs": [],
   "source": [
    "L=4"
   ]
  },
  {
   "cell_type": "code",
   "execution_count": 31,
   "metadata": {},
   "outputs": [],
   "source": [
    "K=(kc*A/L*np.matrix([[1,-1], [-1,1]]) \n",
    "   +np.matrix([[h_left*A,0], [0,0]])\n",
    "   +np.matrix([[0,0], [0,h_right*A]]))"
   ]
  },
  {
   "cell_type": "code",
   "execution_count": 32,
   "metadata": {},
   "outputs": [
    {
     "data": {
      "text/plain": [
       "matrix([[ 1.625, -0.125],\n",
       "        [-0.125,  0.175]])"
      ]
     },
     "execution_count": 32,
     "metadata": {},
     "output_type": "execute_result"
    }
   ],
   "source": [
    "K"
   ]
  },
  {
   "cell_type": "code",
   "execution_count": 33,
   "metadata": {},
   "outputs": [],
   "source": [
    "F=h_left*A*ф_f_left*np.array([1,0])+h_right*A*ф_f_right*np.array([0,1])"
   ]
  },
  {
   "cell_type": "code",
   "execution_count": 34,
   "metadata": {},
   "outputs": [
    {
     "data": {
      "text/plain": [
       "array([7.5, 1. ])"
      ]
     },
     "execution_count": 34,
     "metadata": {},
     "output_type": "execute_result"
    }
   ],
   "source": [
    "F"
   ]
  },
  {
   "cell_type": "code",
   "execution_count": 35,
   "metadata": {},
   "outputs": [],
   "source": [
    "bc=np.array([[1], [30]]).T\n",
    "\n",
    "nd, nd=K.shape\n",
    "fdof=np.array([i for i in range(nd)]).T\n",
    "d=np.zeros(shape=(len(fdof),))\n",
    "Q=np.zeros(shape=(len(fdof),))\n",
    "\n",
    "\n",
    "pdof=bc[:,0].astype(int)\n",
    "dp=bc[:,1]\n",
    "fdof=np.delete(fdof, pdof, 0)\n",
    "s=np.linalg.solve(K[fdof,:][:,fdof],(F[fdof].T-np.dot(K[fdof,:][:,pdof],dp.T)).T)\n",
    "d[pdof]=dp\n",
    "d[fdof]=s.reshape(-1,)"
   ]
  },
  {
   "cell_type": "code",
   "execution_count": 36,
   "metadata": {},
   "outputs": [
    {
     "data": {
      "text/plain": [
       "array([ 6.92307692, 30.        ])"
      ]
     },
     "execution_count": 36,
     "metadata": {},
     "output_type": "execute_result"
    }
   ],
   "source": [
    "d"
   ]
  },
  {
   "cell_type": "code",
   "execution_count": 37,
   "metadata": {},
   "outputs": [],
   "source": [
    "# TODO - the answer is not the same as in the book"
   ]
  },
  {
   "cell_type": "markdown",
   "metadata": {},
   "source": [
    "### 11.9"
   ]
  },
  {
   "cell_type": "code",
   "execution_count": 38,
   "metadata": {},
   "outputs": [],
   "source": [
    "# check Segerlind 1st edition for theoretical derivations"
   ]
  },
  {
   "cell_type": "code",
   "execution_count": 39,
   "metadata": {},
   "outputs": [],
   "source": [
    "Xi=6\n",
    "Yi=2\n",
    "Xj=10\n",
    "Yj=1\n",
    "Xk=8\n",
    "Yk=6\n",
    "h=0.2\n",
    "ф_f=20\n",
    "Q=5\n",
    "kx=2\n",
    "ky=2"
   ]
  },
  {
   "cell_type": "code",
   "execution_count": 40,
   "metadata": {},
   "outputs": [],
   "source": [
    "A=0.5*np.linalg.det(np.matrix(  \n",
    "            [[1,Xi,Yi],\n",
    "            [1,Xj,Yj],\n",
    "            [1,Xk,Yk]]))"
   ]
  },
  {
   "cell_type": "code",
   "execution_count": 41,
   "metadata": {},
   "outputs": [],
   "source": [
    "bi=Yj-Yk\n",
    "bj=Yk-Yi\n",
    "bk=Yi-Yj\n",
    "ci=Xk-Xj\n",
    "cj=Xi-Xk\n",
    "ck=Xj-Xi"
   ]
  },
  {
   "cell_type": "code",
   "execution_count": 42,
   "metadata": {},
   "outputs": [],
   "source": [
    "kd_1=kx/(4*A)*np.matrix([[bi**2, bi*bj, bi*bk],\n",
    "                        [bi*bj, bj**2, bj*bk],\n",
    "                        [bi*bk, bj*bk, bk**2]])\n",
    "\n",
    "kd_2=ky/(4*A)*np.matrix([[ci**2, ci*cj, ci*ck],\n",
    "                        [ci*cj, cj**2, cj*ck],\n",
    "                        [ci*ck, cj*ck, ck**2]])"
   ]
  },
  {
   "cell_type": "code",
   "execution_count": 43,
   "metadata": {},
   "outputs": [],
   "source": [
    "kd = kd_1 + kd_2  "
   ]
  },
  {
   "cell_type": "code",
   "execution_count": 44,
   "metadata": {},
   "outputs": [],
   "source": [
    "Lij = math.sqrt((Xi - Xj)**2 + (Yi - Yj)**2)"
   ]
  },
  {
   "cell_type": "code",
   "execution_count": 45,
   "metadata": {},
   "outputs": [],
   "source": [
    "kg = h*Lij/6*np.matrix([[2, 1, 0],\n",
    "                      [1, 2, 0],\n",
    "                      [0, 0, 0]])"
   ]
  },
  {
   "cell_type": "code",
   "execution_count": 46,
   "metadata": {},
   "outputs": [],
   "source": [
    "k=kd+kg"
   ]
  },
  {
   "cell_type": "code",
   "execution_count": 47,
   "metadata": {},
   "outputs": [
    {
     "data": {
      "text/plain": [
       "matrix([[ 1.88598482, -0.75145203, -0.72222222],\n",
       "        [-0.75145203,  1.38598482, -0.22222222],\n",
       "        [-0.72222222, -0.22222222,  0.94444444]])"
      ]
     },
     "execution_count": 47,
     "metadata": {},
     "output_type": "execute_result"
    }
   ],
   "source": [
    "k"
   ]
  },
  {
   "cell_type": "code",
   "execution_count": 48,
   "metadata": {},
   "outputs": [],
   "source": [
    "f=h*ф_f*Lij/2*np.array([1,1,0])+Q/3*np.array([1,1,1])"
   ]
  },
  {
   "cell_type": "code",
   "execution_count": 49,
   "metadata": {},
   "outputs": [
    {
     "data": {
      "text/plain": [
       "array([9.91287792, 9.91287792, 1.66666667])"
      ]
     },
     "execution_count": 49,
     "metadata": {},
     "output_type": "execute_result"
    }
   ],
   "source": [
    "f"
   ]
  },
  {
   "cell_type": "code",
   "execution_count": 50,
   "metadata": {},
   "outputs": [],
   "source": [
    "# TODO - the answer is not the same as in the book (for f)"
   ]
  },
  {
   "cell_type": "code",
   "execution_count": 51,
   "metadata": {},
   "outputs": [],
   "source": [
    "d=np.linalg.lstsq(k, f, rcond=None)[0]"
   ]
  },
  {
   "cell_type": "code",
   "execution_count": 52,
   "metadata": {},
   "outputs": [
    {
     "data": {
      "text/plain": [
       "array([26.25902701, 25.86775424, 27.93166871])"
      ]
     },
     "execution_count": 52,
     "metadata": {},
     "output_type": "execute_result"
    }
   ],
   "source": [
    "d"
   ]
  },
  {
   "cell_type": "markdown",
   "metadata": {},
   "source": [
    "### 11.11"
   ]
  },
  {
   "cell_type": "code",
   "execution_count": 53,
   "metadata": {},
   "outputs": [],
   "source": [
    "# check Segerlind 1st edition for theoretical derivations"
   ]
  },
  {
   "cell_type": "code",
   "execution_count": 54,
   "metadata": {},
   "outputs": [],
   "source": [
    "Xi = -2\n",
    "Yi = -2\n",
    "Xj = 4\n",
    "Yj = 0\n",
    "Xk = 0\n",
    "Yk = 4\n",
    "h = 0.2\n",
    "ф_f = 15\n",
    "kx = 2\n",
    "ky = 2"
   ]
  },
  {
   "cell_type": "code",
   "execution_count": 55,
   "metadata": {},
   "outputs": [],
   "source": [
    "Lki = math.sqrt((Xk - Xi)**2 + (Yk - Yi)**2)\n",
    "# Lij = math.sqrt((Xi - Xj)**2 + (Yi - Yj)**2)\n",
    "# Ljk = math.sqrt((Xj - Xk)**2 + (Yj - Yk)**2)"
   ]
  },
  {
   "cell_type": "code",
   "execution_count": 56,
   "metadata": {},
   "outputs": [],
   "source": [
    "A=0.5*np.linalg.det(np.matrix(  \n",
    "            [[1,Xi,Yi],\n",
    "            [1,Xj,Yj],\n",
    "            [1,Xk,Yk]]))"
   ]
  },
  {
   "cell_type": "code",
   "execution_count": 57,
   "metadata": {},
   "outputs": [
    {
     "data": {
      "text/plain": [
       "16.0"
      ]
     },
     "execution_count": 57,
     "metadata": {},
     "output_type": "execute_result"
    }
   ],
   "source": [
    "A"
   ]
  },
  {
   "cell_type": "code",
   "execution_count": 58,
   "metadata": {},
   "outputs": [],
   "source": [
    "bi=Yj-Yk\n",
    "bj=Yk-Yi\n",
    "bk=Yi-Yj\n",
    "ci=Xk-Xj\n",
    "cj=Xi-Xk\n",
    "ck=Xj-Xi"
   ]
  },
  {
   "cell_type": "code",
   "execution_count": 59,
   "metadata": {},
   "outputs": [],
   "source": [
    "kd_1=kx/(4*A)*np.matrix([[bi**2, bi*bj, bi*bk],\n",
    "                        [bi*bj, bj**2, bj*bk],\n",
    "                        [bi*bk, bj*bk, bk**2]])\n",
    "\n",
    "kd_2=ky/(4*A)*np.matrix([[ci**2, ci*cj, ci*ck],\n",
    "                        [ci*cj, cj**2, cj*ck],\n",
    "                        [ci*ck, cj*ck, ck**2]])"
   ]
  },
  {
   "cell_type": "code",
   "execution_count": 60,
   "metadata": {},
   "outputs": [],
   "source": [
    "kd = kd_1 + kd_2  "
   ]
  },
  {
   "cell_type": "code",
   "execution_count": 61,
   "metadata": {},
   "outputs": [],
   "source": [
    "kg = h*Lki/6*np.matrix([[2, 0, 1],\n",
    "                        [0, 0, 0],\n",
    "                        [1, 0, 2]])"
   ]
  },
  {
   "cell_type": "code",
   "execution_count": 62,
   "metadata": {},
   "outputs": [],
   "source": [
    "k=kd+kg"
   ]
  },
  {
   "cell_type": "code",
   "execution_count": 63,
   "metadata": {},
   "outputs": [
    {
     "data": {
      "text/plain": [
       "matrix([[ 1.42163702, -0.5       , -0.28918149],\n",
       "        [-0.5       ,  1.25      , -0.75      ],\n",
       "        [-0.28918149, -0.75      ,  1.67163702]])"
      ]
     },
     "execution_count": 63,
     "metadata": {},
     "output_type": "execute_result"
    }
   ],
   "source": [
    "k"
   ]
  },
  {
   "cell_type": "code",
   "execution_count": 64,
   "metadata": {},
   "outputs": [],
   "source": [
    "f=h*ф_f*Lki/2*np.array([1,0,1]) "
   ]
  },
  {
   "cell_type": "code",
   "execution_count": 65,
   "metadata": {},
   "outputs": [
    {
     "data": {
      "text/plain": [
       "array([9.48683298, 0.        , 9.48683298])"
      ]
     },
     "execution_count": 65,
     "metadata": {},
     "output_type": "execute_result"
    }
   ],
   "source": [
    "f"
   ]
  },
  {
   "cell_type": "code",
   "execution_count": 66,
   "metadata": {},
   "outputs": [],
   "source": [
    "# TODO - the answer is not the same as in the book "
   ]
  },
  {
   "cell_type": "code",
   "execution_count": 67,
   "metadata": {},
   "outputs": [],
   "source": [
    "d=np.linalg.lstsq(k, f, rcond=None)[0]"
   ]
  },
  {
   "cell_type": "code",
   "execution_count": 68,
   "metadata": {},
   "outputs": [
    {
     "data": {
      "text/plain": [
       "array([15., 15., 15.])"
      ]
     },
     "execution_count": 68,
     "metadata": {},
     "output_type": "execute_result"
    }
   ],
   "source": [
    "d"
   ]
  }
 ],
 "metadata": {
  "kernelspec": {
   "display_name": "Python 3",
   "language": "python",
   "name": "python3"
  },
  "language_info": {
   "codemirror_mode": {
    "name": "ipython",
    "version": 3
   },
   "file_extension": ".py",
   "mimetype": "text/x-python",
   "name": "python",
   "nbconvert_exporter": "python",
   "pygments_lexer": "ipython3",
   "version": "3.7.7"
  }
 },
 "nbformat": 4,
 "nbformat_minor": 4
}
