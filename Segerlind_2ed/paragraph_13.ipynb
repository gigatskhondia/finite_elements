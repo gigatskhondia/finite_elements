{
 "cells": [
  {
   "cell_type": "code",
   "execution_count": 1,
   "metadata": {},
   "outputs": [],
   "source": [
    "from sympy import *\n",
    "import math\n",
    "import numpy as np"
   ]
  },
  {
   "cell_type": "markdown",
   "metadata": {},
   "source": [
    "### 13.7"
   ]
  },
  {
   "cell_type": "code",
   "execution_count": 2,
   "metadata": {},
   "outputs": [],
   "source": [
    "Dr=Dz=2\n",
    "Q=20\n",
    "Ri=2\n",
    "Rj=4\n",
    "Rk=3\n",
    "Zi=0\n",
    "Zj=0\n",
    "Zk=4"
   ]
  },
  {
   "cell_type": "code",
   "execution_count": 3,
   "metadata": {},
   "outputs": [],
   "source": [
    "A=0.5*np.linalg.det(np.matrix(  \n",
    "                [[1,Ri,Zi],\n",
    "                [1,Rj,Zj],\n",
    "                [1,Rk,Zk]]))"
   ]
  },
  {
   "cell_type": "code",
   "execution_count": 4,
   "metadata": {},
   "outputs": [],
   "source": [
    "ai=Rj*Zk-Rk*Zj\n",
    "aj=Rk*Zi-Ri*Zk\n",
    "ak=Ri*Zj-Rj*Zi\n",
    "bi=Zj-Zk\n",
    "bj=Zk-Zi\n",
    "bk=Zi-Zj\n",
    "ci=Rk-Rj\n",
    "cj=Ri-Rk\n",
    "ck=Rj-Ri"
   ]
  },
  {
   "cell_type": "code",
   "execution_count": 5,
   "metadata": {},
   "outputs": [],
   "source": [
    "r=(Ri+Rj+Rk)/3"
   ]
  },
  {
   "cell_type": "code",
   "execution_count": 6,
   "metadata": {},
   "outputs": [],
   "source": [
    "kd_1=(2*math.pi*r*Dr)/(4*A)*Matrix([[bi**2,bi*bj,bi*bk],\n",
    "                      [bi*bj,bj**2,bj*bk],\n",
    "                      [bi*bk,bj*bk,bk**2]])\n",
    "\n",
    "kd_2=(2*math.pi*r*Dz)/(4*A)*Matrix([[ci**2,ci*cj,ci*ck],\n",
    "                      [ci*cj,cj**2,cj*ck],\n",
    "                      [ci*ck,cj*ck,ck**2]])"
   ]
  },
  {
   "cell_type": "code",
   "execution_count": 7,
   "metadata": {},
   "outputs": [],
   "source": [
    "kd=kd_1+kd_2"
   ]
  },
  {
   "cell_type": "code",
   "execution_count": 8,
   "metadata": {},
   "outputs": [
    {
     "data": {
      "text/latex": [
       "$\\displaystyle \\left[\\begin{matrix}40.0553063332699 & -35.3429173528852 & -4.71238898038469\\\\-35.3429173528852 & 40.0553063332699 & -4.71238898038469\\\\-4.71238898038469 & -4.71238898038469 & 9.42477796076938\\end{matrix}\\right]$"
      ],
      "text/plain": [
       "Matrix([\n",
       "[ 40.0553063332699, -35.3429173528852, -4.71238898038469],\n",
       "[-35.3429173528852,  40.0553063332699, -4.71238898038469],\n",
       "[-4.71238898038469, -4.71238898038469,  9.42477796076938]])"
      ]
     },
     "execution_count": 8,
     "metadata": {},
     "output_type": "execute_result"
    }
   ],
   "source": [
    "kd"
   ]
  },
  {
   "cell_type": "code",
   "execution_count": 9,
   "metadata": {},
   "outputs": [],
   "source": [
    "fq=(2*math.pi*Q*A)/12*np.dot(np.matrix([[2,1,1],\n",
    "                      [1,2,1],\n",
    "                      [1,1,2]]),\n",
    "                             np.array([Ri,Rj,Rk]))"
   ]
  },
  {
   "cell_type": "code",
   "execution_count": 10,
   "metadata": {},
   "outputs": [
    {
     "data": {
      "text/plain": [
       "matrix([[460.76692253, 544.54272662, 502.65482457]])"
      ]
     },
     "execution_count": 10,
     "metadata": {},
     "output_type": "execute_result"
    }
   ],
   "source": [
    "fq"
   ]
  },
  {
   "cell_type": "markdown",
   "metadata": {},
   "source": [
    "### 13.9"
   ]
  },
  {
   "cell_type": "code",
   "execution_count": 11,
   "metadata": {},
   "outputs": [],
   "source": [
    "Dr=Dz=2\n",
    "Q=40\n",
    "Ri=8\n",
    "Rj=12\n",
    "Rk=10\n",
    "Zi=6\n",
    "Zj=10\n",
    "Zk=14"
   ]
  },
  {
   "cell_type": "code",
   "execution_count": 12,
   "metadata": {},
   "outputs": [],
   "source": [
    "A=0.5*np.linalg.det(np.matrix(  \n",
    "                [[1,Ri,Zi],\n",
    "                [1,Rj,Zj],\n",
    "                [1,Rk,Zk]]))"
   ]
  },
  {
   "cell_type": "code",
   "execution_count": 13,
   "metadata": {},
   "outputs": [],
   "source": [
    "ai=Rj*Zk-Rk*Zj\n",
    "aj=Rk*Zi-Ri*Zk\n",
    "ak=Ri*Zj-Rj*Zi\n",
    "bi=Zj-Zk\n",
    "bj=Zk-Zi\n",
    "bk=Zi-Zj\n",
    "ci=Rk-Rj\n",
    "cj=Ri-Rk\n",
    "ck=Rj-Ri"
   ]
  },
  {
   "cell_type": "code",
   "execution_count": 14,
   "metadata": {},
   "outputs": [],
   "source": [
    "r=(Ri+Rj+Rk)/3"
   ]
  },
  {
   "cell_type": "code",
   "execution_count": 15,
   "metadata": {},
   "outputs": [],
   "source": [
    "kd_1=(2*math.pi*r*Dr)/(4*A)*Matrix([[bi**2,bi*bj,bi*bk],\n",
    "                      [bi*bj,bj**2,bj*bk],\n",
    "                      [bi*bk,bj*bk,bk**2]])\n",
    "\n",
    "kd_2=(2*math.pi*r*Dz)/(4*A)*Matrix([[ci**2,ci*cj,ci*ck],\n",
    "                      [ci*cj,cj**2,cj*ck],\n",
    "                      [ci*ck,cj*ck,ck**2]])"
   ]
  },
  {
   "cell_type": "code",
   "execution_count": 16,
   "metadata": {},
   "outputs": [],
   "source": [
    "kd=kd_1+kd_2"
   ]
  },
  {
   "cell_type": "code",
   "execution_count": 17,
   "metadata": {},
   "outputs": [
    {
     "data": {
      "text/latex": [
       "$\\displaystyle \\left[\\begin{matrix}52.3598775598299 & -73.3038285837619 & 20.943951023932\\\\-73.3038285837619 & 178.023583703422 & -104.71975511966\\\\20.943951023932 & -104.71975511966 & 83.7758040957278\\end{matrix}\\right]$"
      ],
      "text/plain": [
       "Matrix([\n",
       "[ 52.3598775598299, -73.3038285837619,  20.943951023932],\n",
       "[-73.3038285837619,  178.023583703422, -104.71975511966],\n",
       "[  20.943951023932,  -104.71975511966, 83.7758040957278]])"
      ]
     },
     "execution_count": 17,
     "metadata": {},
     "output_type": "execute_result"
    }
   ],
   "source": [
    "kd"
   ]
  },
  {
   "cell_type": "code",
   "execution_count": 18,
   "metadata": {},
   "outputs": [],
   "source": [
    "fq=(2*math.pi*Q*A)/12*np.dot(np.matrix([[2,1,1],\n",
    "                      [1,2,1],\n",
    "                      [1,1,2]]),\n",
    "                             np.array([Ri,Rj,Rk]))"
   ]
  },
  {
   "cell_type": "code",
   "execution_count": 19,
   "metadata": {},
   "outputs": [
    {
     "data": {
      "text/plain": [
       "matrix([[ 9550.44166691, 10555.75131606, 10053.09649149]])"
      ]
     },
     "execution_count": 19,
     "metadata": {},
     "output_type": "execute_result"
    }
   ],
   "source": [
    "fq"
   ]
  },
  {
   "cell_type": "markdown",
   "metadata": {},
   "source": [
    "### 13.12"
   ]
  },
  {
   "cell_type": "code",
   "execution_count": 20,
   "metadata": {},
   "outputs": [],
   "source": [
    "Ri=2\n",
    "Rj=4\n",
    "Rk=3\n",
    "Zi=0\n",
    "Zj=0\n",
    "Zk=4"
   ]
  },
  {
   "cell_type": "code",
   "execution_count": 21,
   "metadata": {},
   "outputs": [],
   "source": [
    "M=6"
   ]
  },
  {
   "cell_type": "code",
   "execution_count": 22,
   "metadata": {},
   "outputs": [],
   "source": [
    "Lij = math.sqrt((Ri - Rj)**2 + (Zi - Zj)**2)"
   ]
  },
  {
   "cell_type": "code",
   "execution_count": 23,
   "metadata": {},
   "outputs": [],
   "source": [
    "km=(2*math.pi*M*Lij)/12*Matrix([[3*Ri+Rj,Ri+Rj,0],\n",
    "                                [Ri+Rj,Ri+3*Rj,0],\n",
    "                                [0,0,0]])"
   ]
  },
  {
   "cell_type": "code",
   "execution_count": 24,
   "metadata": {},
   "outputs": [
    {
     "data": {
      "text/latex": [
       "$\\displaystyle \\left[\\begin{matrix}62.8318530717959 & 37.6991118430775 & 0\\\\37.6991118430775 & 87.9645943005142 & 0\\\\0 & 0 & 0\\end{matrix}\\right]$"
      ],
      "text/plain": [
       "Matrix([\n",
       "[62.8318530717959, 37.6991118430775, 0],\n",
       "[37.6991118430775, 87.9645943005142, 0],\n",
       "[               0,                0, 0]])"
      ]
     },
     "execution_count": 24,
     "metadata": {},
     "output_type": "execute_result"
    }
   ],
   "source": [
    "km"
   ]
  },
  {
   "cell_type": "markdown",
   "metadata": {},
   "source": [
    "### 13.14"
   ]
  },
  {
   "cell_type": "code",
   "execution_count": 25,
   "metadata": {},
   "outputs": [],
   "source": [
    "Ri=20\n",
    "Rj=20\n",
    "Rk=16\n",
    "Zi=20\n",
    "Zj=24\n",
    "Zk=24"
   ]
  },
  {
   "cell_type": "code",
   "execution_count": 26,
   "metadata": {},
   "outputs": [],
   "source": [
    "M=6"
   ]
  },
  {
   "cell_type": "code",
   "execution_count": 27,
   "metadata": {},
   "outputs": [],
   "source": [
    "Ljk = math.sqrt((Rj - Rk)**2 + (Zj - Zk)**2)"
   ]
  },
  {
   "cell_type": "code",
   "execution_count": 28,
   "metadata": {},
   "outputs": [],
   "source": [
    "km=(2*math.pi*M*Ljk)/12*Matrix([[0,0,0],\n",
    "                                [0,3*Rj+Rk,Rj+Rk],\n",
    "                                [0,Rj+Rk,Rj+3*Rk]])"
   ]
  },
  {
   "cell_type": "code",
   "execution_count": 29,
   "metadata": {},
   "outputs": [
    {
     "data": {
      "text/latex": [
       "$\\displaystyle \\left[\\begin{matrix}0 & 0 & 0\\\\0 & 955.044166691297 & 452.38934211693\\\\0 & 452.38934211693 & 854.513201776424\\end{matrix}\\right]$"
      ],
      "text/plain": [
       "Matrix([\n",
       "[0,                0,                0],\n",
       "[0, 955.044166691297,  452.38934211693],\n",
       "[0,  452.38934211693, 854.513201776424]])"
      ]
     },
     "execution_count": 29,
     "metadata": {},
     "output_type": "execute_result"
    }
   ],
   "source": [
    "km"
   ]
  },
  {
   "cell_type": "code",
   "execution_count": 30,
   "metadata": {},
   "outputs": [],
   "source": [
    "# TODO - the answer is not the same as in the book"
   ]
  }
 ],
 "metadata": {
  "kernelspec": {
   "display_name": "Python 3",
   "language": "python",
   "name": "python3"
  },
  "language_info": {
   "codemirror_mode": {
    "name": "ipython",
    "version": 3
   },
   "file_extension": ".py",
   "mimetype": "text/x-python",
   "name": "python",
   "nbconvert_exporter": "python",
   "pygments_lexer": "ipython3",
   "version": "3.7.7"
  }
 },
 "nbformat": 4,
 "nbformat_minor": 4
}
