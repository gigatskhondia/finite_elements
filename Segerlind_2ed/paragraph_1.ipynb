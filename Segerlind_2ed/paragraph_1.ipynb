{
 "cells": [
  {
   "cell_type": "code",
   "execution_count": 1,
   "metadata": {},
   "outputs": [],
   "source": [
    "from sympy import *"
   ]
  },
  {
   "cell_type": "markdown",
   "metadata": {},
   "source": [
    "### 1.1"
   ]
  },
  {
   "cell_type": "code",
   "execution_count": 2,
   "metadata": {},
   "outputs": [],
   "source": [
    "E = symbols('E', real = True, constant = True)\n",
    "H = symbols('H', real = True, constant = True)\n",
    "I = symbols('I', real = True, constant = True)\n",
    "W = symbols('W', real = True, constant = True)\n",
    "A = symbols('A', real = True, constant = True)"
   ]
  },
  {
   "cell_type": "code",
   "execution_count": 3,
   "metadata": {},
   "outputs": [],
   "source": [
    "x = Symbol('x')"
   ]
  },
  {
   "cell_type": "code",
   "execution_count": 4,
   "metadata": {},
   "outputs": [
    {
     "data": {
      "text/latex": [
       "$\\displaystyle \\frac{\\pi^{2} A^{2} E I}{4 H} + \\frac{2 A H^{3} W}{\\pi^{3}}$"
      ],
      "text/plain": [
       "pi**2*A**2*E*I/(4*H) + 2*A*H**3*W/pi**3"
      ]
     },
     "execution_count": 4,
     "metadata": {},
     "output_type": "execute_result"
    }
   ],
   "source": [
    "integrate(((E*I/2)*(diff(A*sin(pi*x/H), x))**2+(W*x*(H-x)/2)*A*sin(pi*x/H)), (x,0,H))"
   ]
  },
  {
   "cell_type": "code",
   "execution_count": 5,
   "metadata": {},
   "outputs": [
    {
     "data": {
      "text/latex": [
       "$\\displaystyle \\frac{\\pi^{2} A E I}{2 H} + \\frac{2 H^{3} W}{\\pi^{3}}$"
      ],
      "text/plain": [
       "pi**2*A*E*I/(2*H) + 2*H**3*W/pi**3"
      ]
     },
     "execution_count": 5,
     "metadata": {},
     "output_type": "execute_result"
    }
   ],
   "source": [
    "diff((pi**2*𝐴**2*𝐸*𝐼)/(4*𝐻)+(2*𝐴*𝐻**3*𝑊)/(pi**3),A)"
   ]
  },
  {
   "cell_type": "code",
   "execution_count": 6,
   "metadata": {},
   "outputs": [],
   "source": [
    "A = Symbol('A')"
   ]
  },
  {
   "cell_type": "code",
   "execution_count": 7,
   "metadata": {},
   "outputs": [
    {
     "data": {
      "text/plain": [
       "[-4*H**4*W/(pi**5*E*I)]"
      ]
     },
     "execution_count": 7,
     "metadata": {},
     "output_type": "execute_result"
    }
   ],
   "source": [
    "solve((pi**2*𝐴*𝐸*𝐼)/(2*𝐻)+(2*𝐻**3*𝑊)/(pi**3),A)"
   ]
  },
  {
   "cell_type": "markdown",
   "metadata": {},
   "source": [
    "### 1.3"
   ]
  },
  {
   "cell_type": "code",
   "execution_count": 8,
   "metadata": {},
   "outputs": [
    {
     "data": {
      "text/latex": [
       "$\\displaystyle - \\frac{2 \\pi A E I}{H} - \\frac{H^{3} W}{12}$"
      ],
      "text/plain": [
       "-2*pi*A*E*I/H - H**3*W/12"
      ]
     },
     "execution_count": 8,
     "metadata": {},
     "output_type": "execute_result"
    }
   ],
   "source": [
    "integrate((-(E*I)*(A*pi**2/H**2)*sin(pi*x/H)-(W*x*(H-x)/2)), (x,0,H))"
   ]
  },
  {
   "cell_type": "code",
   "execution_count": 9,
   "metadata": {},
   "outputs": [],
   "source": [
    "A = Symbol('A')"
   ]
  },
  {
   "cell_type": "code",
   "execution_count": 10,
   "metadata": {},
   "outputs": [
    {
     "data": {
      "text/plain": [
       "[H**4*W/(24*pi*E*I)]"
      ]
     },
     "execution_count": 10,
     "metadata": {},
     "output_type": "execute_result"
    }
   ],
   "source": [
    "solve(-(2*pi*𝐴*𝐸*𝐼)/(𝐻)+(𝐻**3*𝑊)/12,A)"
   ]
  },
  {
   "cell_type": "code",
   "execution_count": 11,
   "metadata": {},
   "outputs": [
    {
     "data": {
      "text/plain": [
       "0.01326963906581741"
      ]
     },
     "execution_count": 11,
     "metadata": {},
     "output_type": "execute_result"
    }
   ],
   "source": [
    "1/(24*3.14)"
   ]
  },
  {
   "cell_type": "markdown",
   "metadata": {},
   "source": [
    "### 1.6"
   ]
  },
  {
   "cell_type": "code",
   "execution_count": 12,
   "metadata": {},
   "outputs": [],
   "source": [
    "M0 =symbols('M0', real = True, constant = True)"
   ]
  },
  {
   "cell_type": "code",
   "execution_count": 13,
   "metadata": {},
   "outputs": [
    {
     "data": {
      "text/latex": [
       "$\\displaystyle \\frac{\\pi^{2} A^{2} E I}{4 H} + \\frac{A H M_{0}}{\\pi}$"
      ],
      "text/plain": [
       "pi**2*A**2*E*I/(4*H) + A*H*M0/pi"
      ]
     },
     "execution_count": 13,
     "metadata": {},
     "output_type": "execute_result"
    }
   ],
   "source": [
    "integrate(((E*I/2)*(diff(A*sin(pi*x/H), x))**2+((M0*x)/H)*A*sin(pi*x/H)), (x,0,H))"
   ]
  },
  {
   "cell_type": "code",
   "execution_count": 14,
   "metadata": {},
   "outputs": [
    {
     "data": {
      "text/latex": [
       "$\\displaystyle \\frac{\\pi^{2} A E I}{2 H} + \\frac{H M_{0}}{\\pi}$"
      ],
      "text/plain": [
       "pi**2*A*E*I/(2*H) + H*M0/pi"
      ]
     },
     "execution_count": 14,
     "metadata": {},
     "output_type": "execute_result"
    }
   ],
   "source": [
    "diff((pi**2*𝐴**2*𝐸*𝐼)/(4*𝐻)+(𝐴*𝐻*M0)/(pi),A)"
   ]
  },
  {
   "cell_type": "code",
   "execution_count": 15,
   "metadata": {},
   "outputs": [],
   "source": [
    "A = Symbol('A')"
   ]
  },
  {
   "cell_type": "code",
   "execution_count": 16,
   "metadata": {},
   "outputs": [
    {
     "data": {
      "text/plain": [
       "[-2*H**2*M0/(pi**3*E*I)]"
      ]
     },
     "execution_count": 16,
     "metadata": {},
     "output_type": "execute_result"
    }
   ],
   "source": [
    "solve((pi**2*𝐴*𝐸*𝐼)/(2*𝐻)+(𝐻*M0)/pi,A)"
   ]
  },
  {
   "cell_type": "markdown",
   "metadata": {},
   "source": [
    "### 1.9"
   ]
  },
  {
   "cell_type": "code",
   "execution_count": 17,
   "metadata": {},
   "outputs": [
    {
     "data": {
      "text/latex": [
       "$\\displaystyle - \\frac{\\pi^{2} A E I}{2 H} - \\frac{H M_{0}}{\\pi}$"
      ],
      "text/plain": [
       "-pi**2*A*E*I/(2*H) - H*M0/pi"
      ]
     },
     "execution_count": 17,
     "metadata": {},
     "output_type": "execute_result"
    }
   ],
   "source": [
    "integrate(sin(pi*x/H)*((-(E*I)*(A*pi**2/H**2)*sin(pi*x/H)-(M0*x/H))), (x,0,H))"
   ]
  },
  {
   "cell_type": "code",
   "execution_count": 18,
   "metadata": {},
   "outputs": [],
   "source": [
    "A = Symbol('A')"
   ]
  },
  {
   "cell_type": "code",
   "execution_count": 19,
   "metadata": {},
   "outputs": [
    {
     "data": {
      "text/plain": [
       "[-2*H**2*M0/(pi**3*E*I)]"
      ]
     },
     "execution_count": 19,
     "metadata": {},
     "output_type": "execute_result"
    }
   ],
   "source": [
    "solve(-(pi**2*𝐴*𝐸*𝐼)/(2*𝐻)-(𝐻*M0)/pi,A)"
   ]
  },
  {
   "cell_type": "code",
   "execution_count": 20,
   "metadata": {},
   "outputs": [
    {
     "data": {
      "text/plain": [
       "-0.06460126933742096"
      ]
     },
     "execution_count": 20,
     "metadata": {},
     "output_type": "execute_result"
    }
   ],
   "source": [
    "-2/(3.14**3)"
   ]
  },
  {
   "cell_type": "markdown",
   "metadata": {},
   "source": [
    "### 1.11"
   ]
  },
  {
   "cell_type": "code",
   "execution_count": 21,
   "metadata": {},
   "outputs": [],
   "source": [
    "# collocation method"
   ]
  },
  {
   "cell_type": "code",
   "execution_count": 22,
   "metadata": {},
   "outputs": [],
   "source": [
    "P =symbols('P', real = True, constant = True)"
   ]
  },
  {
   "cell_type": "code",
   "execution_count": 23,
   "metadata": {},
   "outputs": [
    {
     "data": {
      "text/latex": [
       "$\\displaystyle - \\frac{\\pi^{2} A E I \\sin{\\left(\\frac{\\pi x}{H} \\right)}}{H^{2}} - \\frac{P x}{2}$"
      ],
      "text/plain": [
       "-pi**2*A*E*I*sin(pi*x/H)/H**2 - P*x/2"
      ]
     },
     "execution_count": 23,
     "metadata": {},
     "output_type": "execute_result"
    }
   ],
   "source": [
    "(-(E*I)*(A*pi**2/H**2)*sin(pi*x/H)-(P*x/2))"
   ]
  },
  {
   "cell_type": "code",
   "execution_count": 24,
   "metadata": {},
   "outputs": [
    {
     "data": {
      "text/plain": [
       "[-H**2*P*x/(2*pi**2*E*I*sin(pi*x/H))]"
      ]
     },
     "execution_count": 24,
     "metadata": {},
     "output_type": "execute_result"
    }
   ],
   "source": [
    "solve((-(E*I)*(A*pi**2/H**2)*sin(pi*x/H)-(P*x/2)),A)"
   ]
  },
  {
   "cell_type": "code",
   "execution_count": 25,
   "metadata": {},
   "outputs": [],
   "source": [
    "x=H/2"
   ]
  },
  {
   "cell_type": "code",
   "execution_count": 26,
   "metadata": {},
   "outputs": [
    {
     "data": {
      "text/latex": [
       "$\\displaystyle - \\frac{H^{3} P}{4 \\pi^{2} E I}$"
      ],
      "text/plain": [
       "-H**3*P/(4*pi**2*E*I)"
      ]
     },
     "execution_count": 26,
     "metadata": {},
     "output_type": "execute_result"
    }
   ],
   "source": [
    "-H**2*P*x/(2*pi**2*E*I*sin(pi*x/H))"
   ]
  },
  {
   "cell_type": "markdown",
   "metadata": {},
   "source": [
    "### 1.14"
   ]
  },
  {
   "cell_type": "code",
   "execution_count": 27,
   "metadata": {},
   "outputs": [],
   "source": [
    "x = Symbol('x')"
   ]
  },
  {
   "cell_type": "code",
   "execution_count": 28,
   "metadata": {},
   "outputs": [],
   "source": [
    "B = Symbol('B')"
   ]
  },
  {
   "cell_type": "code",
   "execution_count": 29,
   "metadata": {},
   "outputs": [],
   "source": [
    "y=A*sin(pi*x/H)+B*sin(3*pi*x/H)"
   ]
  },
  {
   "cell_type": "code",
   "execution_count": 30,
   "metadata": {},
   "outputs": [
    {
     "data": {
      "text/latex": [
       "$\\displaystyle A \\sin{\\left(\\frac{\\pi x}{H} \\right)} + B \\sin{\\left(\\frac{3 \\pi x}{H} \\right)}$"
      ],
      "text/plain": [
       "A*sin(pi*x/H) + B*sin(3*pi*x/H)"
      ]
     },
     "execution_count": 30,
     "metadata": {},
     "output_type": "execute_result"
    }
   ],
   "source": [
    "y"
   ]
  },
  {
   "cell_type": "code",
   "execution_count": 31,
   "metadata": {},
   "outputs": [],
   "source": [
    "П=integrate(((E*I/2)*(diff(y, x))**2+(M0*y)), (x,0,H))"
   ]
  },
  {
   "cell_type": "code",
   "execution_count": 32,
   "metadata": {},
   "outputs": [
    {
     "data": {
      "text/latex": [
       "$\\displaystyle \\frac{E I \\left(\\frac{\\pi^{2} A^{2}}{2 H} + \\frac{9 \\pi^{2} B^{2}}{2 H}\\right)}{2} - M_{0} \\left(- \\frac{A H}{\\pi} - \\frac{B H}{3 \\pi}\\right) + M_{0} \\left(\\frac{A H}{\\pi} + \\frac{B H}{3 \\pi}\\right)$"
      ],
      "text/plain": [
       "E*I*(pi**2*A**2/(2*H) + 9*pi**2*B**2/(2*H))/2 - M0*(-A*H/pi - B*H/(3*pi)) + M0*(A*H/pi + B*H/(3*pi))"
      ]
     },
     "execution_count": 32,
     "metadata": {},
     "output_type": "execute_result"
    }
   ],
   "source": [
    "П"
   ]
  },
  {
   "cell_type": "code",
   "execution_count": 33,
   "metadata": {},
   "outputs": [],
   "source": [
    "dП_A=diff(П,A)"
   ]
  },
  {
   "cell_type": "code",
   "execution_count": 34,
   "metadata": {},
   "outputs": [
    {
     "data": {
      "text/latex": [
       "$\\displaystyle \\frac{\\pi^{2} A E I}{2 H} + \\frac{2 H M_{0}}{\\pi}$"
      ],
      "text/plain": [
       "pi**2*A*E*I/(2*H) + 2*H*M0/pi"
      ]
     },
     "execution_count": 34,
     "metadata": {},
     "output_type": "execute_result"
    }
   ],
   "source": [
    "dП_A"
   ]
  },
  {
   "cell_type": "code",
   "execution_count": 35,
   "metadata": {},
   "outputs": [],
   "source": [
    "dП_B=diff(П,B)"
   ]
  },
  {
   "cell_type": "code",
   "execution_count": 36,
   "metadata": {},
   "outputs": [
    {
     "data": {
      "text/latex": [
       "$\\displaystyle \\frac{9 \\pi^{2} B E I}{2 H} + \\frac{2 H M_{0}}{3 \\pi}$"
      ],
      "text/plain": [
       "9*pi**2*B*E*I/(2*H) + 2*H*M0/(3*pi)"
      ]
     },
     "execution_count": 36,
     "metadata": {},
     "output_type": "execute_result"
    }
   ],
   "source": [
    "dП_B"
   ]
  },
  {
   "cell_type": "code",
   "execution_count": 37,
   "metadata": {},
   "outputs": [
    {
     "data": {
      "text/plain": [
       "[-4*H**2*M0/(pi**3*E*I)]"
      ]
     },
     "execution_count": 37,
     "metadata": {},
     "output_type": "execute_result"
    }
   ],
   "source": [
    "solve(dП_A,A)"
   ]
  },
  {
   "cell_type": "code",
   "execution_count": 38,
   "metadata": {},
   "outputs": [
    {
     "data": {
      "text/plain": [
       "[-4*H**2*M0/(27*pi**3*E*I)]"
      ]
     },
     "execution_count": 38,
     "metadata": {},
     "output_type": "execute_result"
    }
   ],
   "source": [
    "solve(dП_B,B)"
   ]
  },
  {
   "cell_type": "markdown",
   "metadata": {},
   "source": [
    "### 1.16"
   ]
  },
  {
   "cell_type": "code",
   "execution_count": 39,
   "metadata": {},
   "outputs": [],
   "source": [
    "x = Symbol('x')"
   ]
  },
  {
   "cell_type": "code",
   "execution_count": 40,
   "metadata": {},
   "outputs": [
    {
     "data": {
      "text/plain": [
       "[-H**2*M0/(pi**2*E*I*sin(pi*x/H))]"
      ]
     },
     "execution_count": 40,
     "metadata": {},
     "output_type": "execute_result"
    }
   ],
   "source": [
    "solve((-(E*I)*(A*pi**2/H**2)*sin(pi*x/H)-M0),A)"
   ]
  },
  {
   "cell_type": "code",
   "execution_count": 41,
   "metadata": {},
   "outputs": [],
   "source": [
    "sol=solve(-H**2*M0/(pi**2*E*I*sin(pi*x/H))-(-M0*H**2/(8*E*I)),(x/H))"
   ]
  },
  {
   "cell_type": "code",
   "execution_count": 45,
   "metadata": {},
   "outputs": [
    {
     "data": {
      "text/plain": [
       "[(pi - asin(8/pi**2))/pi, asin(8/pi**2)/pi]"
      ]
     },
     "execution_count": 45,
     "metadata": {},
     "output_type": "execute_result"
    }
   ],
   "source": [
    "sol"
   ]
  },
  {
   "cell_type": "code",
   "execution_count": 46,
   "metadata": {},
   "outputs": [],
   "source": [
    "pi = 3.14159"
   ]
  },
  {
   "cell_type": "code",
   "execution_count": 48,
   "metadata": {},
   "outputs": [
    {
     "data": {
      "text/latex": [
       "$\\displaystyle 0.699156737969682$"
      ],
      "text/plain": [
       "0.699156737969682"
      ]
     },
     "execution_count": 48,
     "metadata": {},
     "output_type": "execute_result"
    }
   ],
   "source": [
    "(pi - asin(8/pi**2))/pi"
   ]
  },
  {
   "cell_type": "code",
   "execution_count": 49,
   "metadata": {},
   "outputs": [
    {
     "data": {
      "text/latex": [
       "$\\displaystyle 0.300843262030318$"
      ],
      "text/plain": [
       "0.300843262030318"
      ]
     },
     "execution_count": 49,
     "metadata": {},
     "output_type": "execute_result"
    }
   ],
   "source": [
    "asin(8/pi**2)/pi"
   ]
  },
  {
   "cell_type": "code",
   "execution_count": 50,
   "metadata": {},
   "outputs": [
    {
     "data": {
      "text/latex": [
       "$\\displaystyle 0.300843262030318$"
      ],
      "text/plain": [
       "0.300843262030318"
      ]
     },
     "execution_count": 50,
     "metadata": {},
     "output_type": "execute_result"
    }
   ],
   "source": [
    "1-(pi - asin(8/pi**2))/pi"
   ]
  },
  {
   "cell_type": "code",
   "execution_count": null,
   "metadata": {},
   "outputs": [],
   "source": []
  }
 ],
 "metadata": {
  "kernelspec": {
   "display_name": "Python 3",
   "language": "python",
   "name": "python3"
  },
  "language_info": {
   "codemirror_mode": {
    "name": "ipython",
    "version": 3
   },
   "file_extension": ".py",
   "mimetype": "text/x-python",
   "name": "python",
   "nbconvert_exporter": "python",
   "pygments_lexer": "ipython3",
   "version": "3.7.7"
  }
 },
 "nbformat": 4,
 "nbformat_minor": 4
}
