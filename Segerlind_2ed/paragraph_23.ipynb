{
 "cells": [
  {
   "cell_type": "code",
   "execution_count": 1,
   "metadata": {},
   "outputs": [],
   "source": [
    "from sympy import *\n",
    "import math\n",
    "import numpy as np"
   ]
  },
  {
   "cell_type": "markdown",
   "metadata": {},
   "source": [
    "### 23.1"
   ]
  },
  {
   "cell_type": "code",
   "execution_count": 2,
   "metadata": {},
   "outputs": [],
   "source": [
    "t=2"
   ]
  },
  {
   "cell_type": "code",
   "execution_count": 3,
   "metadata": {},
   "outputs": [],
   "source": [
    "D=1e6*np.matrix([[16,4,0],[4,16,0],[0,0,6]])"
   ]
  },
  {
   "cell_type": "code",
   "execution_count": 4,
   "metadata": {},
   "outputs": [],
   "source": [
    "Xi=2\n",
    "Yi=0\n",
    "Xj=1\n",
    "Yj=1\n",
    "Xk=1\n",
    "Yk=0"
   ]
  },
  {
   "cell_type": "code",
   "execution_count": 5,
   "metadata": {},
   "outputs": [],
   "source": [
    "U11=0.003\n",
    "U12=0\n",
    "U21=0.001\n",
    "U22=-0.0003\n",
    "U31=0.0015\n",
    "U32=0"
   ]
  },
  {
   "cell_type": "code",
   "execution_count": 6,
   "metadata": {},
   "outputs": [],
   "source": [
    "A=0.5*np.linalg.det(np.array([[1,Xi,Yi],\n",
    "              [1,Xj,Yj],\n",
    "              [1,Xk,Yk]]))"
   ]
  },
  {
   "cell_type": "code",
   "execution_count": 7,
   "metadata": {},
   "outputs": [],
   "source": [
    "def B(Xi,Yi,Xj,Yj,Xk,Yk,A):\n",
    "    \n",
    "    bi=Yj-Yk\n",
    "    bj=Yk-Yi\n",
    "    bk=Yi-Yj\n",
    "    ci=Xk-Xj\n",
    "    cj=Xi-Xk\n",
    "    ck=Xj-Xi\n",
    "    return 1/(2*A)*np.matrix([[bi,0,bj,0,bk,0],\n",
    "                              [0,ci,0,cj,0,ck],\n",
    "                              [ci,bi,cj,bj,ck,bk]])"
   ]
  },
  {
   "cell_type": "code",
   "execution_count": 8,
   "metadata": {},
   "outputs": [],
   "source": [
    "B0=B(Xi,Yi,Xj,Yj,Xk,Yk,A)"
   ]
  },
  {
   "cell_type": "code",
   "execution_count": 9,
   "metadata": {},
   "outputs": [],
   "source": [
    "k=np.dot(np.dot(B0.T,D),B0)*t*A"
   ]
  },
  {
   "cell_type": "code",
   "execution_count": 10,
   "metadata": {},
   "outputs": [
    {
     "data": {
      "text/plain": [
       "matrix([[ 16000000.,         0.,         0.,   4000000., -16000000.,\n",
       "          -4000000.],\n",
       "        [        0.,   6000000.,   6000000.,         0.,  -6000000.,\n",
       "          -6000000.],\n",
       "        [        0.,   6000000.,   6000000.,         0.,  -6000000.,\n",
       "          -6000000.],\n",
       "        [  4000000.,         0.,         0.,  16000000.,  -4000000.,\n",
       "         -16000000.],\n",
       "        [-16000000.,  -6000000.,  -6000000.,  -4000000.,  22000000.,\n",
       "          10000000.],\n",
       "        [ -4000000.,  -6000000.,  -6000000., -16000000.,  10000000.,\n",
       "          22000000.]])"
      ]
     },
     "execution_count": 10,
     "metadata": {},
     "output_type": "execute_result"
    }
   ],
   "source": [
    "k"
   ]
  },
  {
   "cell_type": "code",
   "execution_count": 11,
   "metadata": {},
   "outputs": [],
   "source": [
    "U=np.array([U11,U12,U21,U22,U31,U32]).reshape(6,1)"
   ]
  },
  {
   "cell_type": "code",
   "execution_count": 12,
   "metadata": {},
   "outputs": [],
   "source": [
    "S=np.dot(D,np.dot(B0,U))"
   ]
  },
  {
   "cell_type": "code",
   "execution_count": 13,
   "metadata": {},
   "outputs": [
    {
     "data": {
      "text/plain": [
       "matrix([[22800.],\n",
       "        [ 1200.],\n",
       "        [-3000.]])"
      ]
     },
     "execution_count": 13,
     "metadata": {},
     "output_type": "execute_result"
    }
   ],
   "source": [
    "S"
   ]
  },
  {
   "cell_type": "markdown",
   "metadata": {},
   "source": [
    "### 23.3"
   ]
  },
  {
   "cell_type": "code",
   "execution_count": 14,
   "metadata": {},
   "outputs": [],
   "source": [
    "Xi=6.6\n",
    "Yi=3\n",
    "Xj=7.9\n",
    "Yj=4\n",
    "Xk=6\n",
    "Yk=4"
   ]
  },
  {
   "cell_type": "code",
   "execution_count": 15,
   "metadata": {},
   "outputs": [],
   "source": [
    "U11=0.007\n",
    "U12=-0.001\n",
    "U21=0.006\n",
    "U22=-0.0015\n",
    "U31=0.006\n",
    "U32=-0.0018"
   ]
  },
  {
   "cell_type": "code",
   "execution_count": 16,
   "metadata": {},
   "outputs": [],
   "source": [
    "A=0.5*np.linalg.det(np.array([[1,Xi,Yi],\n",
    "              [1,Xj,Yj],\n",
    "              [1,Xk,Yk]]))"
   ]
  },
  {
   "cell_type": "code",
   "execution_count": 17,
   "metadata": {},
   "outputs": [],
   "source": [
    "B0=B(Xi,Yi,Xj,Yj,Xk,Yk,A)"
   ]
  },
  {
   "cell_type": "code",
   "execution_count": 18,
   "metadata": {},
   "outputs": [],
   "source": [
    "k=np.dot(np.dot(B0.T,D),B0)*t*A"
   ]
  },
  {
   "cell_type": "code",
   "execution_count": 19,
   "metadata": {},
   "outputs": [
    {
     "data": {
      "text/plain": [
       "matrix([[ 11400000.        ,         0.        ,  -3600000.        ,\n",
       "          -6000000.        ,  -7800000.00000001,   6000000.        ],\n",
       "        [        0.        ,  30400000.00000001,  -4000000.        ,\n",
       "          -9600000.        ,   4000000.        , -20800000.00000002],\n",
       "        [ -3600000.        ,  -4000000.        ,   9557894.7368421 ,\n",
       "           3157894.7368421 ,  -5957894.7368421 ,    842105.2631579 ],\n",
       "        [ -6000000.        ,  -9600000.        ,   3157894.7368421 ,\n",
       "           6189473.68421052,   2842105.2631579 ,   3410526.31578947],\n",
       "        [ -7800000.00000001,   4000000.        ,  -5957894.7368421 ,\n",
       "           2842105.2631579 ,  13757894.73684211,  -6842105.2631579 ],\n",
       "        [  6000000.        , -20800000.00000001,    842105.2631579 ,\n",
       "           3410526.31578947,  -6842105.2631579 ,  17389473.68421054]])"
      ]
     },
     "execution_count": 19,
     "metadata": {},
     "output_type": "execute_result"
    }
   ],
   "source": [
    "k"
   ]
  },
  {
   "cell_type": "code",
   "execution_count": 20,
   "metadata": {},
   "outputs": [],
   "source": [
    "U=np.array([U11,U12,U21,U22,U31,U32]).reshape(6,1)"
   ]
  },
  {
   "cell_type": "code",
   "execution_count": 21,
   "metadata": {},
   "outputs": [],
   "source": [
    "S=np.dot(D,np.dot(B0,U))"
   ]
  },
  {
   "cell_type": "code",
   "execution_count": 22,
   "metadata": {},
   "outputs": [
    {
     "data": {
      "text/plain": [
       "matrix([[ -2821.05263158],\n",
       "        [-11284.21052632],\n",
       "        [ -5052.63157895]])"
      ]
     },
     "execution_count": 22,
     "metadata": {},
     "output_type": "execute_result"
    }
   ],
   "source": [
    "S"
   ]
  },
  {
   "cell_type": "markdown",
   "metadata": {},
   "source": [
    "### 23.5"
   ]
  },
  {
   "cell_type": "code",
   "execution_count": 23,
   "metadata": {},
   "outputs": [],
   "source": [
    "Xi=11\n",
    "Yi=2\n",
    "Xj=10\n",
    "Yj=1.8\n",
    "Xk=10\n",
    "Yk=1.5"
   ]
  },
  {
   "cell_type": "code",
   "execution_count": 24,
   "metadata": {},
   "outputs": [],
   "source": [
    "U11=0.016\n",
    "U12=-0.0008\n",
    "U21=0.015\n",
    "U22=-0.0006\n",
    "U31=0.014\n",
    "U32=-0.0004"
   ]
  },
  {
   "cell_type": "code",
   "execution_count": 25,
   "metadata": {},
   "outputs": [],
   "source": [
    "A=0.5*np.linalg.det(np.array([[1,Xi,Yi],\n",
    "              [1,Xj,Yj],\n",
    "              [1,Xk,Yk]]))"
   ]
  },
  {
   "cell_type": "code",
   "execution_count": 26,
   "metadata": {},
   "outputs": [],
   "source": [
    "B0=B(Xi,Yi,Xj,Yj,Xk,Yk,A)"
   ]
  },
  {
   "cell_type": "code",
   "execution_count": 27,
   "metadata": {},
   "outputs": [],
   "source": [
    "k=np.dot(np.dot(B0.T,D),B0)*t*A"
   ]
  },
  {
   "cell_type": "code",
   "execution_count": 28,
   "metadata": {},
   "outputs": [
    {
     "data": {
      "text/plain": [
       "matrix([[  4800000.        ,         0.        ,  -8000000.        ,\n",
       "           4000000.        ,   3200000.        ,  -4000000.        ],\n",
       "        [        0.        ,   1800000.        ,   6000000.        ,\n",
       "          -3000000.        ,  -6000000.        ,   1200000.        ],\n",
       "        [ -8000000.        ,   6000000.        ,  33333333.33333333,\n",
       "         -16666666.66666667, -25333333.33333333,  10666666.66666666],\n",
       "        [  4000000.        ,  -3000000.        , -16666666.66666667,\n",
       "          58333333.33333333,  12666666.66666667, -55333333.33333332],\n",
       "        [  3200000.        ,  -6000000.        , -25333333.33333333,\n",
       "          12666666.66666667,  22133333.33333333,  -6666666.66666667],\n",
       "        [ -4000000.        ,   1200000.        ,  10666666.66666666,\n",
       "         -55333333.33333332,  -6666666.66666667,  54133333.33333332]])"
      ]
     },
     "execution_count": 28,
     "metadata": {},
     "output_type": "execute_result"
    }
   ],
   "source": [
    "k"
   ]
  },
  {
   "cell_type": "code",
   "execution_count": 29,
   "metadata": {},
   "outputs": [],
   "source": [
    "U=np.array([U11,U12,U21,U22,U31,U32]).reshape(6,1)"
   ]
  },
  {
   "cell_type": "code",
   "execution_count": 30,
   "metadata": {},
   "outputs": [],
   "source": [
    "S=np.dot(D,np.dot(B0,U))"
   ]
  },
  {
   "cell_type": "code",
   "execution_count": 31,
   "metadata": {},
   "outputs": [
    {
     "data": {
      "text/plain": [
       "matrix([[ 2666.66666667],\n",
       "        [-9333.33333333],\n",
       "        [19600.        ]])"
      ]
     },
     "execution_count": 31,
     "metadata": {},
     "output_type": "execute_result"
    }
   ],
   "source": [
    "S"
   ]
  },
  {
   "cell_type": "code",
   "execution_count": 32,
   "metadata": {},
   "outputs": [],
   "source": [
    "# TODO - the answer is not the same as in the book (by a bit)"
   ]
  },
  {
   "cell_type": "markdown",
   "metadata": {},
   "source": [
    "### 23.8"
   ]
  },
  {
   "cell_type": "code",
   "execution_count": 33,
   "metadata": {},
   "outputs": [],
   "source": [
    "Xi=0\n",
    "Yi=20\n",
    "Xj=10\n",
    "Yj=30\n",
    "Xk=0\n",
    "Yk=30"
   ]
  },
  {
   "cell_type": "code",
   "execution_count": 34,
   "metadata": {},
   "outputs": [],
   "source": [
    "U11=0\n",
    "U12=-0.006\n",
    "U21=-0.0006\n",
    "U22=0.007\n",
    "U31=0\n",
    "U32=-0.0096"
   ]
  },
  {
   "cell_type": "code",
   "execution_count": 35,
   "metadata": {},
   "outputs": [],
   "source": [
    "A=0.5*np.linalg.det(np.array([[1,Xi,Yi],\n",
    "              [1,Xj,Yj],\n",
    "              [1,Xk,Yk]]))"
   ]
  },
  {
   "cell_type": "code",
   "execution_count": 36,
   "metadata": {},
   "outputs": [],
   "source": [
    "B0=B(Xi,Yi,Xj,Yj,Xk,Yk,A)"
   ]
  },
  {
   "cell_type": "code",
   "execution_count": 37,
   "metadata": {},
   "outputs": [],
   "source": [
    "k=np.dot(np.dot(B0.T,D),B0)*t*A"
   ]
  },
  {
   "cell_type": "code",
   "execution_count": 38,
   "metadata": {},
   "outputs": [
    {
     "data": {
      "text/plain": [
       "matrix([[  6000000.        ,         0.        ,         0.        ,\n",
       "          -6000000.        ,  -6000000.        ,   6000000.        ],\n",
       "        [        0.        ,  15999999.99999999,  -4000000.        ,\n",
       "                 0.        ,   4000000.        , -15999999.99999999],\n",
       "        [        0.        ,  -4000000.        ,  15999999.99999999,\n",
       "                 0.        , -15999999.99999999,   4000000.        ],\n",
       "        [ -6000000.        ,         0.        ,         0.        ,\n",
       "           6000000.        ,   6000000.        ,  -6000000.        ],\n",
       "        [ -6000000.        ,   4000000.        , -15999999.99999999,\n",
       "           6000000.        ,  21999999.99999999,  -9999999.99999999],\n",
       "        [  6000000.        , -15999999.99999999,   4000000.        ,\n",
       "          -6000000.        ,  -9999999.99999999,  21999999.99999999]])"
      ]
     },
     "execution_count": 38,
     "metadata": {},
     "output_type": "execute_result"
    }
   ],
   "source": [
    "k"
   ]
  },
  {
   "cell_type": "code",
   "execution_count": 39,
   "metadata": {},
   "outputs": [],
   "source": [
    "U=np.array([U11,U12,U21,U22,U31,U32]).reshape(6,1)"
   ]
  },
  {
   "cell_type": "code",
   "execution_count": 40,
   "metadata": {},
   "outputs": [],
   "source": [
    "S=np.dot(D,np.dot(B0,U))"
   ]
  },
  {
   "cell_type": "code",
   "execution_count": 41,
   "metadata": {},
   "outputs": [
    {
     "data": {
      "text/plain": [
       "matrix([[-2400.],\n",
       "        [-6000.],\n",
       "        [ 9960.]])"
      ]
     },
     "execution_count": 41,
     "metadata": {},
     "output_type": "execute_result"
    }
   ],
   "source": [
    "S"
   ]
  },
  {
   "cell_type": "markdown",
   "metadata": {},
   "source": [
    "### 23.11"
   ]
  },
  {
   "cell_type": "code",
   "execution_count": 42,
   "metadata": {},
   "outputs": [],
   "source": [
    "t = Symbol('t')"
   ]
  },
  {
   "cell_type": "code",
   "execution_count": 43,
   "metadata": {},
   "outputs": [],
   "source": [
    "L = Symbol('L')"
   ]
  },
  {
   "cell_type": "code",
   "execution_count": 44,
   "metadata": {},
   "outputs": [],
   "source": [
    "l = Symbol('l')"
   ]
  },
  {
   "cell_type": "code",
   "execution_count": 45,
   "metadata": {},
   "outputs": [],
   "source": [
    "p0 = Symbol('p0')"
   ]
  },
  {
   "cell_type": "code",
   "execution_count": 46,
   "metadata": {},
   "outputs": [],
   "source": [
    "px = p0*l"
   ]
  },
  {
   "cell_type": "code",
   "execution_count": 47,
   "metadata": {},
   "outputs": [],
   "source": [
    "py = 0"
   ]
  },
  {
   "cell_type": "code",
   "execution_count": 48,
   "metadata": {},
   "outputs": [],
   "source": [
    "I = Matrix([0,0,(1-l)*px,(1-l)*py,l*px,l*py])"
   ]
  },
  {
   "cell_type": "code",
   "execution_count": 49,
   "metadata": {},
   "outputs": [
    {
     "data": {
      "text/latex": [
       "$\\displaystyle \\left[\\begin{matrix}0\\\\0\\\\\\frac{L p_{0} t}{6}\\\\0\\\\\\frac{L p_{0} t}{3}\\\\0\\end{matrix}\\right]$"
      ],
      "text/plain": [
       "Matrix([\n",
       "[       0],\n",
       "[       0],\n",
       "[L*p0*t/6],\n",
       "[       0],\n",
       "[L*p0*t/3],\n",
       "[       0]])"
      ]
     },
     "execution_count": 49,
     "metadata": {},
     "output_type": "execute_result"
    }
   ],
   "source": [
    "L*t*integrate(I, (l, 0, 1))"
   ]
  },
  {
   "cell_type": "code",
   "execution_count": 50,
   "metadata": {},
   "outputs": [],
   "source": [
    "# TODO - the answer is not the same as in the book"
   ]
  }
 ],
 "metadata": {
  "kernelspec": {
   "display_name": "Python 3",
   "language": "python",
   "name": "python3"
  },
  "language_info": {
   "codemirror_mode": {
    "name": "ipython",
    "version": 3
   },
   "file_extension": ".py",
   "mimetype": "text/x-python",
   "name": "python",
   "nbconvert_exporter": "python",
   "pygments_lexer": "ipython3",
   "version": "3.7.7"
  }
 },
 "nbformat": 4,
 "nbformat_minor": 4
}
