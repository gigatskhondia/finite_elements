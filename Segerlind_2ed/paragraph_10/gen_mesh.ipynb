{
 "cells": [
  {
   "cell_type": "code",
   "execution_count": 1,
   "metadata": {},
   "outputs": [],
   "source": [
    "import pygmsh"
   ]
  },
  {
   "cell_type": "code",
   "execution_count": 2,
   "metadata": {},
   "outputs": [],
   "source": [
    "resolution = 100"
   ]
  },
  {
   "cell_type": "code",
   "execution_count": 3,
   "metadata": {},
   "outputs": [],
   "source": [
    "# Initialize empty geometry using the build in kernel in GMSH\n",
    "geometry = pygmsh.geo.Geometry()\n",
    "# Fetch model we would like to add data to\n",
    "model = geometry.__enter__()"
   ]
  },
  {
   "cell_type": "code",
   "execution_count": 4,
   "metadata": {},
   "outputs": [],
   "source": [
    "# Add points with finer resolution on left side\n",
    "points = [model.add_point((0, 0, 0), mesh_size=resolution),\n",
    "          model.add_point((5000, 0, 0), mesh_size=resolution),\n",
    "          model.add_point((5000, 2000, 0), mesh_size=resolution),\n",
    "          model.add_point((3000, 3000, 0), mesh_size=resolution),\n",
    "#           model.add_point((5000, 3000, 0), mesh_size=resolution),\n",
    "          model.add_point((0, 3000, 0), mesh_size=resolution)]\n",
    "\n",
    "# Add lines between all points creating the rectangle\n",
    "channel_lines = [model.add_line(points[i], points[i+1])\n",
    "                 for i in range(-1, len(points)-1)]\n",
    "\n",
    "# Create a line loop and plane surface for meshing\n",
    "channel_loop = model.add_curve_loop(channel_lines)\n",
    "plane_surface = model.add_plane_surface(channel_loop)\n",
    "\n",
    "# Call gmsh kernel before add physical entities\n",
    "model.synchronize()"
   ]
  },
  {
   "cell_type": "code",
   "execution_count": 5,
   "metadata": {},
   "outputs": [],
   "source": [
    "geometry.generate_mesh(dim=2)\n",
    "import gmsh\n",
    "gmsh.write(\"p10_2.mesh\")\n",
    "gmsh.fltk.run()\n",
    "gmsh.clear()\n",
    "geometry.__exit__()"
   ]
  },
  {
   "cell_type": "code",
   "execution_count": 6,
   "metadata": {},
   "outputs": [],
   "source": [
    "def create_mesh(mesh, cell_type, prune_z=False):\n",
    "    cells = mesh.get_cells_type(cell_type)\n",
    "#     cell_data = mesh.get_cell_data(\"gmsh:physical\", cell_type)\n",
    "    points = mesh.points[:,:2] if prune_z else mesh.points\n",
    "    out_mesh = meshio.Mesh(points=points, cells={cell_type: cells})\n",
    "    return out_mesh"
   ]
  },
  {
   "cell_type": "code",
   "execution_count": 7,
   "metadata": {},
   "outputs": [],
   "source": [
    "import meshio\n",
    "mesh_from_file = meshio.read(\"p10_2.mesh\")"
   ]
  },
  {
   "cell_type": "code",
   "execution_count": 8,
   "metadata": {},
   "outputs": [],
   "source": [
    "triangle_mesh = create_mesh(mesh_from_file, \"triangle\", prune_z=True)"
   ]
  },
  {
   "cell_type": "code",
   "execution_count": 9,
   "metadata": {},
   "outputs": [],
   "source": [
    "meshio.write(\"p10_2.mesh\", triangle_mesh)"
   ]
  }
 ],
 "metadata": {
  "kernelspec": {
   "display_name": "Python 3",
   "language": "python",
   "name": "python3"
  },
  "language_info": {
   "codemirror_mode": {
    "name": "ipython",
    "version": 3
   },
   "file_extension": ".py",
   "mimetype": "text/x-python",
   "name": "python",
   "nbconvert_exporter": "python",
   "pygments_lexer": "ipython3",
   "version": "3.7.7"
  }
 },
 "nbformat": 4,
 "nbformat_minor": 4
}
