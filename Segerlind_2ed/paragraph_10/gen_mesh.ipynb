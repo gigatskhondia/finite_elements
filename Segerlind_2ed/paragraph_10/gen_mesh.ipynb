{
 "cells": [
  {
   "cell_type": "code",
   "execution_count": 28,
   "metadata": {},
   "outputs": [],
   "source": [
    "import pygmsh"
   ]
  },
  {
   "cell_type": "code",
   "execution_count": 29,
   "metadata": {},
   "outputs": [],
   "source": [
    "resolution = 100"
   ]
  },
  {
   "cell_type": "code",
   "execution_count": 30,
   "metadata": {},
   "outputs": [],
   "source": [
    "# Initialize empty geometry using the build in kernel in GMSH\n",
    "geometry = pygmsh.geo.Geometry()\n",
    "# Fetch model we would like to add data to\n",
    "model = geometry.__enter__()"
   ]
  },
  {
   "cell_type": "code",
   "execution_count": 31,
   "metadata": {},
   "outputs": [],
   "source": [
    "# Add points with finer resolution on left side\n",
    "points = [model.add_point((0, 0, 0), mesh_size=resolution),\n",
    "          model.add_point((5000, 0, 0), mesh_size=resolution),\n",
    "#           model.add_point((5000, 2000, 0), mesh_size=resolution),\n",
    "#           model.add_point((3000, 3000, 0), mesh_size=resolution),\n",
    "          model.add_point((5000, 3000, 0), mesh_size=resolution),\n",
    "          model.add_point((0, 3000, 0), mesh_size=resolution)]\n",
    "\n",
    "# Add lines between all points creating the rectangle\n",
    "channel_lines = [model.add_line(points[i], points[i+1])\n",
    "                 for i in range(-1, len(points)-1)]\n",
    "\n",
    "# Create a line loop and plane surface for meshing\n",
    "channel_loop = model.add_curve_loop(channel_lines)\n",
    "plane_surface = model.add_plane_surface(channel_loop)\n",
    "\n",
    "# Call gmsh kernel before add physical entities\n",
    "model.synchronize()"
   ]
  },
  {
   "cell_type": "code",
   "execution_count": 32,
   "metadata": {},
   "outputs": [],
   "source": [
    "# def create_mesh(mesh, cell_type, prune_z=False):\n",
    "#     cells = mesh.get_cells_type(cell_type)\n",
    "#     cell_data = mesh.get_cell_data(\"gmsh:physical\", cell_type)\n",
    "#     points = mesh.points[:,:2] if prune_z else mesh.points\n",
    "#     out_mesh = meshio.Mesh(points=points, cells={cell_type: cells}, cell_data={\"name_to_read\":[cell_data]})\n",
    "#     return out_mesh"
   ]
  },
  {
   "cell_type": "code",
   "execution_count": 33,
   "metadata": {},
   "outputs": [],
   "source": [
    "geometry.generate_mesh(dim=2)\n",
    "import gmsh\n",
    "gmsh.write(\"mesh.mesh\")\n",
    "gmsh.fltk.run()\n",
    "gmsh.clear()\n",
    "geometry.__exit__()"
   ]
  },
  {
   "cell_type": "code",
   "execution_count": 34,
   "metadata": {},
   "outputs": [],
   "source": [
    "def create_mesh(mesh, cell_type, prune_z=False):\n",
    "    cells = mesh.get_cells_type(cell_type)\n",
    "#     cell_data = mesh.get_cell_data(\"gmsh:physical\", cell_type)\n",
    "    points = mesh.points[:,:2] if prune_z else mesh.points\n",
    "    out_mesh = meshio.Mesh(points=points, cells={cell_type: cells})\n",
    "    return out_mesh"
   ]
  },
  {
   "cell_type": "code",
   "execution_count": 35,
   "metadata": {},
   "outputs": [],
   "source": [
    "import meshio\n",
    "mesh_from_file = meshio.read(\"mesh.mesh\")"
   ]
  },
  {
   "cell_type": "code",
   "execution_count": 36,
   "metadata": {},
   "outputs": [],
   "source": [
    "triangle_mesh = create_mesh(mesh_from_file, \"triangle\", prune_z=True)"
   ]
  },
  {
   "cell_type": "code",
   "execution_count": 37,
   "metadata": {},
   "outputs": [],
   "source": [
    "meshio.write(\"mesh.mesh\", triangle_mesh)"
   ]
  },
  {
   "cell_type": "code",
   "execution_count": null,
   "metadata": {},
   "outputs": [],
   "source": [
    "# !pip3 install matplotlib --upgrade"
   ]
  },
  {
   "cell_type": "code",
   "execution_count": null,
   "metadata": {},
   "outputs": [],
   "source": [
    "import sfepy"
   ]
  },
  {
   "cell_type": "code",
   "execution_count": null,
   "metadata": {},
   "outputs": [],
   "source": [
    "sfepy.__version__"
   ]
  },
  {
   "cell_type": "code",
   "execution_count": 58,
   "metadata": {},
   "outputs": [
    {
     "name": "stdout",
     "output_type": "stream",
     "text": [
      "mesh from mesh.vtk:\n",
      "  points:  1835\n",
      "  cells:   3508\n",
      "  bounds:  [(0.0, 5000.0), (0.0, 3000.0), (0.0, 0.0)]\n",
      "  scalars: t, node_groups, mat_id\n",
      "  steps:   1\n",
      "/Library/Frameworks/Python.framework/Versions/3.7/lib/python3.7/site-packages/pyvista/core/pointset.py:206: PyVistaDeprecationWarning: You did not specify a value for `inplace` and the default value will be changing to `False` in future versions for point-based meshes (e.g., `PolyData`). Please make sure you are not assuming this to be an inplace operation.\n",
      "  warnings.warn(DEFAULT_INPLACE_WARNING, PyVistaDeprecationWarning)\n",
      "plot 0: t(step 0)\n",
      "2023-01-30 18:23:45.058 Python[23624:257603] ApplePersistenceIgnoreState: Existing state will not be touched. New state will be written to /var/folders/q3/h2wsqqfn5rzdq1_0t_1q3sj00000gn/T/org.python.python.savedState\n"
     ]
    }
   ],
   "source": []
  },
  {
   "cell_type": "code",
   "execution_count": null,
   "metadata": {},
   "outputs": [],
   "source": [
    "# from sfepy.postprocess.viewer import Viewer"
   ]
  },
  {
   "cell_type": "code",
   "execution_count": null,
   "metadata": {},
   "outputs": [],
   "source": [
    "# view = Viewer('mesh.vtk')\n",
    "# view() # view with default parameters\n",
    "# view(layout='col') # use column layout"
   ]
  },
  {
   "cell_type": "code",
   "execution_count": null,
   "metadata": {},
   "outputs": [],
   "source": [
    "# http://jsdokken.com/src/pygmsh_tutorial.html"
   ]
  },
  {
   "cell_type": "code",
   "execution_count": null,
   "metadata": {},
   "outputs": [],
   "source": [
    "# https://sfepy.org/doc-devel/primer.html#meshing"
   ]
  },
  {
   "cell_type": "code",
   "execution_count": null,
   "metadata": {},
   "outputs": [],
   "source": [
    "# https://sfepy.org/doc-devel/tutorial.html#invoking-from-command-line"
   ]
  },
  {
   "cell_type": "code",
   "execution_count": null,
   "metadata": {},
   "outputs": [],
   "source": [
    "# https://sfepy.org/doc-devel/examples/diffusion-darcy_flow_multicomp.html"
   ]
  },
  {
   "cell_type": "code",
   "execution_count": 59,
   "metadata": {},
   "outputs": [
    {
     "data": {
      "text/plain": [
       "4.8933333333333335"
      ]
     },
     "execution_count": 59,
     "metadata": {},
     "output_type": "execute_result"
    }
   ],
   "source": [
    "1835/(3000*5000)*200*200"
   ]
  },
  {
   "cell_type": "code",
   "execution_count": null,
   "metadata": {},
   "outputs": [],
   "source": []
  }
 ],
 "metadata": {
  "kernelspec": {
   "display_name": "Python 3",
   "language": "python",
   "name": "python3"
  },
  "language_info": {
   "codemirror_mode": {
    "name": "ipython",
    "version": 3
   },
   "file_extension": ".py",
   "mimetype": "text/x-python",
   "name": "python",
   "nbconvert_exporter": "python",
   "pygments_lexer": "ipython3",
   "version": "3.7.7"
  }
 },
 "nbformat": 4,
 "nbformat_minor": 4
}
