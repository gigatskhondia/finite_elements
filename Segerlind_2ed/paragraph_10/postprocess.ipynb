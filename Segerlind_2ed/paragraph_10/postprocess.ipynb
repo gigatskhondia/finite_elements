{
 "cells": [
  {
   "cell_type": "code",
   "execution_count": 9,
   "metadata": {},
   "outputs": [
    {
     "name": "stdout",
     "output_type": "stream",
     "text": [
      "mesh from p10_2.vtk:\n",
      "  points:  1735\n",
      "  cells:   3315\n",
      "  bounds:  [(0.0, 5000.0), (0.0, 3000.0), (0.0, 0.0)]\n",
      "  scalars: t, node_groups, mat_id\n",
      "  steps:   1\n",
      "/Library/Frameworks/Python.framework/Versions/3.7/lib/python3.7/site-packages/pyvista/core/pointset.py:206: PyVistaDeprecationWarning: You did not specify a value for `inplace` and the default value will be changing to `False` in future versions for point-based meshes (e.g., `PolyData`). Please make sure you are not assuming this to be an inplace operation.\n",
      "  warnings.warn(DEFAULT_INPLACE_WARNING, PyVistaDeprecationWarning)\n",
      "plot 0: t(step 0)\n",
      "2023-04-01 17:09:29.651 Python[5759:64243] ApplePersistenceIgnoreState: Existing state will not be touched. New state will be written to /var/folders/q3/h2wsqqfn5rzdq1_0t_1q3sj00000gn/T/org.python.python.savedState\n"
     ]
    }
   ],
   "source": [
    "!sfepy-view p10_2.vtk -2"
   ]
  },
  {
   "cell_type": "code",
   "execution_count": null,
   "metadata": {},
   "outputs": [],
   "source": []
  }
 ],
 "metadata": {
  "kernelspec": {
   "display_name": "Python 3",
   "language": "python",
   "name": "python3"
  },
  "language_info": {
   "codemirror_mode": {
    "name": "ipython",
    "version": 3
   },
   "file_extension": ".py",
   "mimetype": "text/x-python",
   "name": "python",
   "nbconvert_exporter": "python",
   "pygments_lexer": "ipython3",
   "version": "3.7.7"
  }
 },
 "nbformat": 4,
 "nbformat_minor": 4
}
