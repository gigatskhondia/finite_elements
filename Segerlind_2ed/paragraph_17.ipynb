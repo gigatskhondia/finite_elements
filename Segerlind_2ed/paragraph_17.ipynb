{
 "cells": [
  {
   "cell_type": "code",
   "execution_count": 1,
   "metadata": {},
   "outputs": [],
   "source": [
    "from sympy import *\n",
    "import math\n",
    "import numpy as np"
   ]
  },
  {
   "cell_type": "markdown",
   "metadata": {},
   "source": [
    "### 17.1"
   ]
  },
  {
   "cell_type": "code",
   "execution_count": 2,
   "metadata": {},
   "outputs": [],
   "source": [
    "A1=10\n",
    "A2=6\n",
    "dT=0\n",
    "L1=50\n",
    "L2=75\n",
    "E=20*1e6\n",
    "alp=11*1e-6\n",
    "P1=P3=0\n",
    "P2=15_000"
   ]
  },
  {
   "cell_type": "code",
   "execution_count": 3,
   "metadata": {},
   "outputs": [],
   "source": [
    "U1=Symbol('U1')\n",
    "U2=Symbol('U2')\n",
    "U3=Symbol('U3')"
   ]
  },
  {
   "cell_type": "code",
   "execution_count": 4,
   "metadata": {},
   "outputs": [],
   "source": [
    "def Л(Ui,Uj,A,E,L,alp,dT):\n",
    "    return A*E/(2*L)*(Ui**2-2*Ui*Uj+Uj**2)-A*E*alp*dT*(-Ui+Uj)"
   ]
  },
  {
   "cell_type": "code",
   "execution_count": 5,
   "metadata": {},
   "outputs": [],
   "source": [
    "Л1=Л(0, U2, A1, E, L1, alp, dT)\n",
    "Л2=Л(U2, 0, A2, E, L2, alp, dT)"
   ]
  },
  {
   "cell_type": "code",
   "execution_count": 6,
   "metadata": {},
   "outputs": [],
   "source": [
    "U1=0\n",
    "U3=0"
   ]
  },
  {
   "cell_type": "code",
   "execution_count": 7,
   "metadata": {},
   "outputs": [],
   "source": [
    "П=Л1+Л2-P1*U1-P2*U2-P3*U3"
   ]
  },
  {
   "cell_type": "code",
   "execution_count": 8,
   "metadata": {},
   "outputs": [
    {
     "data": {
      "text/plain": [
       "[{U2: 0.00267857142857143}]"
      ]
     },
     "execution_count": 8,
     "metadata": {},
     "output_type": "execute_result"
    }
   ],
   "source": [
    "solve([diff(П, U2)], [U2], dict=True)"
   ]
  },
  {
   "cell_type": "markdown",
   "metadata": {},
   "source": [
    "### 17.3"
   ]
  },
  {
   "cell_type": "code",
   "execution_count": 10,
   "metadata": {},
   "outputs": [],
   "source": [
    "A=5\n",
    "dT=10\n",
    "L1=50\n",
    "L2=50\n",
    "L3=50\n",
    "E=20*1e6\n",
    "alp=11*1e-6\n",
    "P2=P3=10_000\n",
    "P1=P4=0"
   ]
  },
  {
   "cell_type": "code",
   "execution_count": 11,
   "metadata": {},
   "outputs": [],
   "source": [
    "U1=Symbol('U1')\n",
    "U2=Symbol('U2')\n",
    "U3=Symbol('U3')\n",
    "U4=Symbol('U4')"
   ]
  },
  {
   "cell_type": "code",
   "execution_count": 12,
   "metadata": {},
   "outputs": [],
   "source": [
    "Л1=Л(0, U2, A, E, L1, alp, dT)\n",
    "Л2=Л(U2, U3, A, E, L2, alp, dT)\n",
    "Л3=Л(U3, 0, A, E, L3, alp, dT)"
   ]
  },
  {
   "cell_type": "code",
   "execution_count": 13,
   "metadata": {},
   "outputs": [],
   "source": [
    "U1=0\n",
    "U4=0"
   ]
  },
  {
   "cell_type": "code",
   "execution_count": 14,
   "metadata": {},
   "outputs": [],
   "source": [
    "П=Л1+Л2+Л3-P1*U1-P2*U2-P3*U3-P4*U4"
   ]
  },
  {
   "cell_type": "code",
   "execution_count": 15,
   "metadata": {},
   "outputs": [
    {
     "data": {
      "text/plain": [
       "[{U2: 0.00500000000000000, U3: 0.00500000000000000}]"
      ]
     },
     "execution_count": 15,
     "metadata": {},
     "output_type": "execute_result"
    }
   ],
   "source": [
    "solve([diff(П, U2),diff(П, U3)], [U2,U3], dict=True)"
   ]
  }
 ],
 "metadata": {
  "kernelspec": {
   "display_name": "Python 3",
   "language": "python",
   "name": "python3"
  },
  "language_info": {
   "codemirror_mode": {
    "name": "ipython",
    "version": 3
   },
   "file_extension": ".py",
   "mimetype": "text/x-python",
   "name": "python",
   "nbconvert_exporter": "python",
   "pygments_lexer": "ipython3",
   "version": "3.7.7"
  }
 },
 "nbformat": 4,
 "nbformat_minor": 4
}
