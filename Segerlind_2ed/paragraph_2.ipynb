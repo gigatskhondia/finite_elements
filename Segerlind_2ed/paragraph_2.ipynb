{
 "cells": [
  {
   "cell_type": "code",
   "execution_count": 1,
   "metadata": {},
   "outputs": [],
   "source": [
    "from sympy import *"
   ]
  },
  {
   "cell_type": "markdown",
   "metadata": {},
   "source": [
    "### 2.1"
   ]
  },
  {
   "cell_type": "code",
   "execution_count": 2,
   "metadata": {},
   "outputs": [],
   "source": [
    "def ф(x, Xi, Xj, Фi, Фj):\n",
    "    Ni=(Xj-x)/(Xj-Xi)\n",
    "    Nj=(x-Xi)/(Xj-Xi)\n",
    "    return Ni*Фi+Nj*Фj"
   ]
  },
  {
   "cell_type": "code",
   "execution_count": 3,
   "metadata": {},
   "outputs": [],
   "source": [
    "inpt=[[0.8,0.0,1.5,60,43],\n",
    "     [3.6,3.0,4.5,27,33],\n",
    "     [7.1,6.5,7.5,63,51],\n",
    "     [1.8,0.5,3.0,0,-15],\n",
    "     [2.2,1.0,3.0,60,67]]"
   ]
  },
  {
   "cell_type": "code",
   "execution_count": 4,
   "metadata": {},
   "outputs": [
    {
     "name": "stdout",
     "output_type": "stream",
     "text": [
      "50.93333333333333\n",
      "29.400000000000002\n",
      "55.800000000000004\n",
      "-7.800000000000001\n",
      "64.19999999999999\n"
     ]
    }
   ],
   "source": [
    "for item in inpt:\n",
    "    print(ф(*item))"
   ]
  },
  {
   "cell_type": "markdown",
   "metadata": {},
   "source": [
    "### 2.2"
   ]
  },
  {
   "cell_type": "code",
   "execution_count": 5,
   "metadata": {},
   "outputs": [],
   "source": [
    "x = Symbol('x')\n",
    "X_i = Symbol('X_i')\n",
    "X_j = Symbol('X_j')\n",
    "Фi = Symbol('Фi')\n",
    "Фj = Symbol('Фj')"
   ]
  },
  {
   "cell_type": "code",
   "execution_count": 6,
   "metadata": {},
   "outputs": [
    {
     "name": "stdout",
     "output_type": "stream",
     "text": [
      "-11.3333333333333\n",
      "4.00000000000000\n",
      "-12.0000000000000\n",
      "-6.00000000000000\n",
      "3.50000000000000\n"
     ]
    }
   ],
   "source": [
    "for item in inpt:\n",
    "    print(diff(ф(x, X_i, X_j, Фi, Фj),x).subs([*zip([x, X_i, X_j, Фi, Фj], item)]))"
   ]
  },
  {
   "cell_type": "markdown",
   "metadata": {},
   "source": [
    "### 2.5"
   ]
  },
  {
   "cell_type": "code",
   "execution_count": 15,
   "metadata": {},
   "outputs": [],
   "source": [
    "s = Symbol('s')\n",
    "a1 = Symbol('a1')\n",
    "a2 = Symbol('a2')"
   ]
  },
  {
   "cell_type": "code",
   "execution_count": 18,
   "metadata": {},
   "outputs": [],
   "source": [
    "L= Symbol('L')"
   ]
  },
  {
   "cell_type": "code",
   "execution_count": 19,
   "metadata": {},
   "outputs": [],
   "source": [
    "def ф(s,a1,a2):\n",
    "    return a1+a2*s"
   ]
  },
  {
   "cell_type": "code",
   "execution_count": 20,
   "metadata": {},
   "outputs": [
    {
     "data": {
      "text/plain": [
       "[{a1: Фi, a2: (-Фi + Фj)/L}]"
      ]
     },
     "execution_count": 20,
     "metadata": {},
     "output_type": "execute_result"
    }
   ],
   "source": [
    "solve([ф(0,a1,a2)-Фi, ф(L,a1,a2)-Фj], [a1, a2], dict=True)"
   ]
  },
  {
   "cell_type": "code",
   "execution_count": 22,
   "metadata": {},
   "outputs": [
    {
     "data": {
      "text/latex": [
       "$\\displaystyle Фi + \\frac{s \\left(- Фi + Фj\\right)}{L}$"
      ],
      "text/plain": [
       "Фi + s*(-Фi + Фj)/L"
      ]
     },
     "execution_count": 22,
     "metadata": {},
     "output_type": "execute_result"
    }
   ],
   "source": [
    "Фi+( Фj- Фi)/L*s"
   ]
  },
  {
   "cell_type": "code",
   "execution_count": 24,
   "metadata": {},
   "outputs": [
    {
     "data": {
      "text/plain": [
       "[(L - s)/L, s/L]"
      ]
     },
     "execution_count": 24,
     "metadata": {},
     "output_type": "execute_result"
    }
   ],
   "source": [
    "[(L-s)/L, s/L]"
   ]
  },
  {
   "cell_type": "markdown",
   "metadata": {},
   "source": [
    "### 2.8"
   ]
  },
  {
   "cell_type": "code",
   "execution_count": 28,
   "metadata": {},
   "outputs": [],
   "source": [
    "s = Symbol('s')\n",
    "t = Symbol('t')\n",
    "Фi = Symbol('Фi')\n",
    "Фj = Symbol('Фj')\n",
    "Фk = Symbol('Фk')\n",
    "Фm = Symbol('Фm')\n",
    "Lt = Symbol('Lt')\n",
    "Ls = Symbol('Ls')\n",
    "C1 = Symbol('C1')\n",
    "C2 = Symbol('C2')\n",
    "C3 = Symbol('C3')\n",
    "C4 = Symbol('C4')"
   ]
  },
  {
   "cell_type": "code",
   "execution_count": 29,
   "metadata": {},
   "outputs": [],
   "source": [
    "def ф(s,t,C1,C2,C3,C4):\n",
    "    return C1+C2*s+C3*t+C4*s*t"
   ]
  },
  {
   "cell_type": "code",
   "execution_count": 31,
   "metadata": {},
   "outputs": [
    {
     "data": {
      "text/plain": [
       "[{C1: Фi,\n",
       "  C2: (-Фi + Фj)/Ls,\n",
       "  C3: (-Фi + Фm)/Lt,\n",
       "  C4: (Фi - Фj + Фk - Фm)/(Ls*Lt)}]"
      ]
     },
     "execution_count": 31,
     "metadata": {},
     "output_type": "execute_result"
    }
   ],
   "source": [
    "solve([ф(0,0,C1,C2,C3,C4)-Фi, \n",
    "       ф(0,Lt,C1,C2,C3,C4)-Фm,\n",
    "      ф(Ls,Lt,C1,C2,C3,C4)-Фk,\n",
    "      ф(Ls,0,C1,C2,C3,C4)-Фj],\n",
    "      [C1, C2,C3,C4], dict=True)"
   ]
  },
  {
   "cell_type": "code",
   "execution_count": 34,
   "metadata": {},
   "outputs": [
    {
     "data": {
      "text/latex": [
       "$\\displaystyle Фi + \\frac{t \\left(- Фi + Фm\\right)}{Lt} + \\frac{s \\left(- Фi + Фj\\right)}{Ls} + \\frac{s t \\left(Фi - Фj + Фk - Фm\\right)}{Ls Lt}$"
      ],
      "text/plain": [
       "Фi + t*(-Фi + Фm)/Lt + s*(-Фi + Фj)/Ls + s*t*(Фi - Фj + Фk - Фm)/(Ls*Lt)"
      ]
     },
     "execution_count": 34,
     "metadata": {},
     "output_type": "execute_result"
    }
   ],
   "source": [
    "Фi+(-Фi + Фj)/Ls*s+(-Фi + Фm)/Lt*t+(Фi - Фj + Фk - Фm)/(Ls*Lt)*s*t"
   ]
  },
  {
   "cell_type": "code",
   "execution_count": 36,
   "metadata": {},
   "outputs": [
    {
     "data": {
      "text/plain": [
       "[1 - t/Lt - s/Ls + s*t/(Ls*Lt),\n",
       " s/Ls - s*t/(Ls*Lt),\n",
       " s*t/(Ls*Lt),\n",
       " t/Lt - s*t/(Ls*Lt)]"
      ]
     },
     "execution_count": 36,
     "metadata": {},
     "output_type": "execute_result"
    }
   ],
   "source": [
    "[1-s/Ls-t/Lt+(s*t)/(Ls*Lt), s/Ls-(s*t)/(Ls*Lt), (s*t)/(Ls*Lt), t/Lt-(s*t)/(Ls*Lt)]"
   ]
  },
  {
   "cell_type": "code",
   "execution_count": null,
   "metadata": {},
   "outputs": [],
   "source": []
  }
 ],
 "metadata": {
  "kernelspec": {
   "display_name": "Python 3",
   "language": "python",
   "name": "python3"
  },
  "language_info": {
   "codemirror_mode": {
    "name": "ipython",
    "version": 3
   },
   "file_extension": ".py",
   "mimetype": "text/x-python",
   "name": "python",
   "nbconvert_exporter": "python",
   "pygments_lexer": "ipython3",
   "version": "3.7.7"
  }
 },
 "nbformat": 4,
 "nbformat_minor": 4
}
