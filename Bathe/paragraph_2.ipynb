{
 "cells": [
  {
   "cell_type": "code",
   "execution_count": 1,
   "id": "f4327161",
   "metadata": {},
   "outputs": [],
   "source": [
    "import numpy as np"
   ]
  },
  {
   "cell_type": "markdown",
   "id": "f70b1c24",
   "metadata": {},
   "source": [
    "### 2.1"
   ]
  },
  {
   "cell_type": "code",
   "execution_count": 2,
   "id": "32067218",
   "metadata": {},
   "outputs": [],
   "source": [
    "# https://gist.github.com/hayesall/25d7ab12dcacf5988f577660c50d0bed"
   ]
  },
  {
   "cell_type": "code",
   "execution_count": null,
   "id": "2d6b7849",
   "metadata": {},
   "outputs": [],
   "source": []
  },
  {
   "cell_type": "code",
   "execution_count": 3,
   "id": "be6e09d4",
   "metadata": {},
   "outputs": [],
   "source": [
    "A = np.array([[3, 4, 1],\n",
    "            [4, 6, 2],\n",
    "            [1, 2, 3]])"
   ]
  },
  {
   "cell_type": "code",
   "execution_count": 4,
   "id": "9e85dffe",
   "metadata": {},
   "outputs": [],
   "source": [
    "B = np.array([1,2,3])\n",
    "B=B.reshape(B.shape[0],1)"
   ]
  },
  {
   "cell_type": "code",
   "execution_count": 5,
   "id": "86ea2532",
   "metadata": {},
   "outputs": [
    {
     "data": {
      "text/plain": [
       "(1, 3)"
      ]
     },
     "execution_count": 5,
     "metadata": {},
     "output_type": "execute_result"
    }
   ],
   "source": [
    "B.T.shape"
   ]
  },
  {
   "cell_type": "code",
   "execution_count": 6,
   "id": "b97819c5",
   "metadata": {},
   "outputs": [],
   "source": [
    "k = 4"
   ]
  },
  {
   "cell_type": "code",
   "execution_count": 7,
   "id": "f3c27c43",
   "metadata": {},
   "outputs": [],
   "source": [
    "C = np.array([[4, 1, -2],\n",
    "            [1, 8, -1],\n",
    "            [-2, -1, 6]])"
   ]
  },
  {
   "cell_type": "code",
   "execution_count": 8,
   "id": "9ad86d62",
   "metadata": {},
   "outputs": [],
   "source": [
    "def matrix_chain_order(p):\n",
    "    \"\"\"\n",
    "    Matrix-Chain-Order given a list of integers corresponding to the dimensions\n",
    "    of each pair of matrices forming a chain.\n",
    "    :param list p: A list of integers.\n",
    "    \n",
    "    >>> M, S = matrix_chain_order([2, 20, 4, 6])\n",
    "    >>> print(M)\n",
    "    {(1, 1): 0, (2, 2): 0, (3, 3): 0, (1, 2): 160, (2, 3): 480, (1, 3): 208}\n",
    "    >>> print(S)\n",
    "    {(1, 2): 1, (2, 3): 2, (1, 3): 2}\n",
    "    \"\"\"\n",
    "    s = {}\n",
    "    m = {}\n",
    "    n = len(p)\n",
    "    \n",
    "    for i in range(1, n):\n",
    "        m[tuple([i, i])] = 0\n",
    "    \n",
    "    for l in range(2, n):\n",
    "        for i in range(1, n - l + 1):\n",
    "            j = i + l - 1\n",
    "            m[tuple([i, j])] = float('inf')\n",
    "            for k in range(i, j):\n",
    "                q = m[tuple([i, k])] + m[tuple([k + 1, j])] + (p[i-1] * p[k] * p[j])\n",
    "                if q < m[tuple([i, j])]:\n",
    "                    m[tuple([i, j])] = q\n",
    "                    s[tuple([i, j])] = k\n",
    "    return m, s\n",
    "\n",
    "\n",
    "\n",
    "class PrintString:\n",
    "    def __init__(self):\n",
    "        self.st = ''\n",
    "\n",
    "        \n",
    "# for chain of length <=9\n",
    "def print_optimal_parens(s, i, j, ob):\n",
    "    \"\"\"\n",
    "    Print the optimal parentheses according to the S-matrix computed by the\n",
    "    matrix_chain_order function.\n",
    "    :param dict s: A dictionary of tuples corresponding to the minimum k\n",
    "                   values from each step of ``matrix_chain_order``.\n",
    "    :param int i: Starting index.\n",
    "    :param int j: End index.\n",
    "    Example (continued from previous function):\n",
    "    >>> M, S = matrix_chain_order([2, 20, 4, 6])\n",
    "    >>> print_optimal_parens(S, 1, 3)\n",
    "    ((A_1A_2)A_3)\n",
    "    General form:\n",
    "\n",
    "    >>> chain = [2, 20, 4, 6]\n",
    "    >>> M, S = matrix_chain_order(chain)\n",
    "    >>> print_optimal_parens(S, 1, len(S) - 1)\n",
    "    ((A_1A_2)A_3)\n",
    "    \"\"\"\n",
    "\n",
    "    if i == j:\n",
    "        ob.st+=\"{}\".format(i)\n",
    "    else:\n",
    "        ob.st+='('\n",
    "        print_optimal_parens(s, i, s[tuple([i, j])], ob)\n",
    "        print_optimal_parens(s, s[tuple([i, j])] + 1, j, ob)\n",
    "        ob.st+=')'\n",
    "       "
   ]
  },
  {
   "cell_type": "code",
   "execution_count": 9,
   "id": "27e35c3c",
   "metadata": {},
   "outputs": [],
   "source": [
    "cha = [B.T, A, k, C,B]\n",
    "chain = []\n",
    "const=1\n",
    "for it in cha:\n",
    "    if type(it)==type(np.zeros(3)):\n",
    "        chain.append(it)\n",
    "    else:\n",
    "        const*=it"
   ]
  },
  {
   "cell_type": "code",
   "execution_count": 10,
   "id": "e6f92462",
   "metadata": {},
   "outputs": [
    {
     "data": {
      "text/plain": [
       "[array([[1, 2, 3]]),\n",
       " array([[3, 4, 1],\n",
       "        [4, 6, 2],\n",
       "        [1, 2, 3]]),\n",
       " array([[ 4,  1, -2],\n",
       "        [ 1,  8, -1],\n",
       "        [-2, -1,  6]]),\n",
       " array([[1],\n",
       "        [2],\n",
       "        [3]])]"
      ]
     },
     "execution_count": 10,
     "metadata": {},
     "output_type": "execute_result"
    }
   ],
   "source": [
    "chain"
   ]
  },
  {
   "cell_type": "code",
   "execution_count": 11,
   "id": "b2cfa02c",
   "metadata": {},
   "outputs": [
    {
     "data": {
      "text/plain": [
       "4"
      ]
     },
     "execution_count": 11,
     "metadata": {},
     "output_type": "execute_result"
    }
   ],
   "source": [
    "const"
   ]
  },
  {
   "cell_type": "code",
   "execution_count": 12,
   "id": "4eb2bfa0",
   "metadata": {},
   "outputs": [
    {
     "data": {
      "text/plain": [
       "array([[2016]])"
      ]
     },
     "execution_count": 12,
     "metadata": {},
     "output_type": "execute_result"
    }
   ],
   "source": [
    "# check:\n",
    "np.dot(np.dot(np.dot(chain[0],chain[1]),chain[2]),chain[3])*const"
   ]
  },
  {
   "cell_type": "code",
   "execution_count": null,
   "id": "50190096",
   "metadata": {},
   "outputs": [],
   "source": []
  },
  {
   "cell_type": "code",
   "execution_count": 13,
   "id": "2438bfb5",
   "metadata": {},
   "outputs": [],
   "source": [
    "chain_dim=[chain[i].shape[0] for i in range(len(chain)-1)]"
   ]
  },
  {
   "cell_type": "code",
   "execution_count": 14,
   "id": "c5f2ce94",
   "metadata": {},
   "outputs": [],
   "source": [
    "chain_dim.append(chain[-1].shape[0])\n",
    "chain_dim.append(chain[-1].shape[1])"
   ]
  },
  {
   "cell_type": "code",
   "execution_count": 15,
   "id": "f23f9a77",
   "metadata": {},
   "outputs": [
    {
     "data": {
      "text/plain": [
       "[1, 3, 3, 3, 1]"
      ]
     },
     "execution_count": 15,
     "metadata": {},
     "output_type": "execute_result"
    }
   ],
   "source": [
    "chain_dim"
   ]
  },
  {
   "cell_type": "code",
   "execution_count": 16,
   "id": "4a6cc8e6",
   "metadata": {},
   "outputs": [],
   "source": [
    "ch=[chain[i].shape for i in range(len(chain))]"
   ]
  },
  {
   "cell_type": "code",
   "execution_count": 17,
   "id": "fcac0b8f",
   "metadata": {},
   "outputs": [
    {
     "data": {
      "text/plain": [
       "[(1, 3), (3, 3), (3, 3), (3, 1)]"
      ]
     },
     "execution_count": 17,
     "metadata": {},
     "output_type": "execute_result"
    }
   ],
   "source": [
    "ch"
   ]
  },
  {
   "cell_type": "code",
   "execution_count": 18,
   "id": "f9b76df8",
   "metadata": {},
   "outputs": [],
   "source": [
    "M, S = matrix_chain_order(chain_dim)"
   ]
  },
  {
   "cell_type": "code",
   "execution_count": 19,
   "id": "42304b9c",
   "metadata": {},
   "outputs": [
    {
     "data": {
      "text/plain": [
       "({(1, 1): 0,\n",
       "  (2, 2): 0,\n",
       "  (3, 3): 0,\n",
       "  (4, 4): 0,\n",
       "  (1, 2): 9,\n",
       "  (2, 3): 27,\n",
       "  (3, 4): 9,\n",
       "  (1, 3): 18,\n",
       "  (2, 4): 18,\n",
       "  (1, 4): 21},\n",
       " {(1, 2): 1, (2, 3): 2, (3, 4): 3, (1, 3): 2, (2, 4): 2, (1, 4): 1})"
      ]
     },
     "execution_count": 19,
     "metadata": {},
     "output_type": "execute_result"
    }
   ],
   "source": [
    "M, S"
   ]
  },
  {
   "cell_type": "code",
   "execution_count": 20,
   "id": "cc390b84",
   "metadata": {},
   "outputs": [],
   "source": [
    "A=PrintString()"
   ]
  },
  {
   "cell_type": "code",
   "execution_count": 21,
   "id": "b0da2a5f",
   "metadata": {},
   "outputs": [],
   "source": [
    "print_optimal_parens(S, 1, len(ch),A)"
   ]
  },
  {
   "cell_type": "code",
   "execution_count": 22,
   "id": "48a01ed6",
   "metadata": {},
   "outputs": [],
   "source": [
    "ans=A.st"
   ]
  },
  {
   "cell_type": "code",
   "execution_count": 23,
   "id": "cd1e2950",
   "metadata": {},
   "outputs": [
    {
     "data": {
      "text/plain": [
       "'(1(2(34)))'"
      ]
     },
     "execution_count": 23,
     "metadata": {},
     "output_type": "execute_result"
    }
   ],
   "source": [
    "ans"
   ]
  },
  {
   "cell_type": "code",
   "execution_count": 24,
   "id": "a7a9dda1",
   "metadata": {},
   "outputs": [],
   "source": [
    "count=0\n",
    "i=0\n",
    "stack = [ans[i]]\n",
    "prev = ans[i]\n",
    "\n",
    "while stack :\n",
    "    tmp = stack[-1]\n",
    "    if tmp==')':\n",
    "        stack.pop()\n",
    "        if count == 0:\n",
    "            b=chain[int(stack.pop())-1]\n",
    "            count+=1\n",
    "        a=chain[int(stack.pop())-1]\n",
    "        b=np.dot(a,b)\n",
    "        stack.pop()\n",
    "    else:\n",
    "        stack.append(ans[i])\n",
    "    if stack[-1]==')' and stack[-2]=='(':\n",
    "        break\n",
    "    if i < len(ans)-1:    \n",
    "        i+=1"
   ]
  },
  {
   "cell_type": "code",
   "execution_count": 25,
   "id": "acbb6153",
   "metadata": {},
   "outputs": [
    {
     "data": {
      "text/plain": [
       "array([[2016]])"
      ]
     },
     "execution_count": 25,
     "metadata": {},
     "output_type": "execute_result"
    }
   ],
   "source": [
    "b*const "
   ]
  },
  {
   "cell_type": "code",
   "execution_count": null,
   "id": "5ef20f37",
   "metadata": {},
   "outputs": [],
   "source": []
  },
  {
   "cell_type": "markdown",
   "id": "9903c315",
   "metadata": {},
   "source": [
    "### 2.2"
   ]
  },
  {
   "cell_type": "code",
   "execution_count": 26,
   "id": "2e69fc74",
   "metadata": {},
   "outputs": [
    {
     "data": {
      "text/plain": [
       "array([[0.4, 0.2],\n",
       "       [0.2, 0.6]])"
      ]
     },
     "execution_count": 26,
     "metadata": {},
     "output_type": "execute_result"
    }
   ],
   "source": [
    "np.linalg.inv(np.array([[3,-1],[-1,2]]))"
   ]
  },
  {
   "cell_type": "code",
   "execution_count": 27,
   "id": "0a500344",
   "metadata": {},
   "outputs": [
    {
     "data": {
      "text/plain": [
       "array([[ 0.66666667,  0.        , -0.33333333],\n",
       "       [ 0.        ,  0.25      ,  0.        ],\n",
       "       [-0.33333333,  0.        ,  0.66666667]])"
      ]
     },
     "execution_count": 27,
     "metadata": {},
     "output_type": "execute_result"
    }
   ],
   "source": [
    "np.linalg.inv(np.array([[2,0,1],[0,4,0],[1,0,2]]))"
   ]
  },
  {
   "cell_type": "code",
   "execution_count": null,
   "id": "86c0ffc4",
   "metadata": {},
   "outputs": [],
   "source": []
  },
  {
   "cell_type": "markdown",
   "id": "7ab41be0",
   "metadata": {},
   "source": [
    "### 2.3"
   ]
  },
  {
   "cell_type": "code",
   "execution_count": 28,
   "id": "48647948",
   "metadata": {},
   "outputs": [
    {
     "data": {
      "text/plain": [
       "3"
      ]
     },
     "execution_count": 28,
     "metadata": {},
     "output_type": "execute_result"
    }
   ],
   "source": [
    "np.linalg.matrix_rank(np.array([[1,3,4,-1,2],[4,1,-1,0,1],[-7,1,6,-1,-1]]))"
   ]
  },
  {
   "cell_type": "code",
   "execution_count": null,
   "id": "472fd025",
   "metadata": {},
   "outputs": [],
   "source": []
  }
 ],
 "metadata": {
  "kernelspec": {
   "display_name": "Python 3 (ipykernel)",
   "language": "python",
   "name": "python3"
  },
  "language_info": {
   "codemirror_mode": {
    "name": "ipython",
    "version": 3
   },
   "file_extension": ".py",
   "mimetype": "text/x-python",
   "name": "python",
   "nbconvert_exporter": "python",
   "pygments_lexer": "ipython3",
   "version": "3.9.6"
  }
 },
 "nbformat": 4,
 "nbformat_minor": 5
}
