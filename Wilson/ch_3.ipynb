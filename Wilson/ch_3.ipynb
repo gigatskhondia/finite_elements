{
 "cells": [
  {
   "cell_type": "code",
   "execution_count": 1,
   "id": "077d70e6",
   "metadata": {},
   "outputs": [],
   "source": [
    "# Not validated solutions"
   ]
  },
  {
   "cell_type": "markdown",
   "id": "33bce79d",
   "metadata": {},
   "source": [
    "### 3.1"
   ]
  },
  {
   "cell_type": "code",
   "execution_count": 2,
   "id": "07655d44",
   "metadata": {},
   "outputs": [],
   "source": [
    "import numpy as np"
   ]
  },
  {
   "cell_type": "code",
   "execution_count": 3,
   "id": "d28354a2",
   "metadata": {},
   "outputs": [],
   "source": [
    "# k*c=2*Pi/T"
   ]
  },
  {
   "cell_type": "code",
   "execution_count": 4,
   "id": "dde6fcd7",
   "metadata": {},
   "outputs": [],
   "source": [
    "# c =(g/k * tanh(k*d))**0.5"
   ]
  },
  {
   "cell_type": "code",
   "execution_count": 5,
   "id": "1acbca98",
   "metadata": {},
   "outputs": [],
   "source": [
    "# lambda = c*T"
   ]
  },
  {
   "cell_type": "code",
   "execution_count": 6,
   "id": "a59371d5",
   "metadata": {},
   "outputs": [],
   "source": [
    "# k=2*Pi/lambda"
   ]
  },
  {
   "cell_type": "code",
   "execution_count": 7,
   "id": "70380710",
   "metadata": {},
   "outputs": [],
   "source": [
    "# d/lambda > 0.5 |=> tanh(k*d)= tanh(2*Pi*d/lambda) ~ 1 |=> c=(g/k)**0.5 = (g*lambda/(2*Pi))**0.5"
   ]
  },
  {
   "cell_type": "code",
   "execution_count": 8,
   "id": "3a574e01",
   "metadata": {},
   "outputs": [],
   "source": [
    "# c**2 = g*lambda/(2*Pi) |=> lambda = c**2 * 2*Pi /g |=> T= c**2 * 2*Pi /(g*c)= 2*Pi*c/g"
   ]
  },
  {
   "cell_type": "code",
   "execution_count": 9,
   "id": "0796b303",
   "metadata": {},
   "outputs": [],
   "source": [
    "lambda_ = 512\n",
    "T=10"
   ]
  },
  {
   "cell_type": "code",
   "execution_count": 10,
   "id": "ec5cdca0",
   "metadata": {},
   "outputs": [],
   "source": [
    "c=lambda_/T"
   ]
  },
  {
   "cell_type": "code",
   "execution_count": 11,
   "id": "0ee3fef6",
   "metadata": {},
   "outputs": [
    {
     "data": {
      "text/plain": [
       "51.2"
      ]
     },
     "execution_count": 11,
     "metadata": {},
     "output_type": "execute_result"
    }
   ],
   "source": [
    "c"
   ]
  },
  {
   "cell_type": "code",
   "execution_count": 12,
   "id": "370abe01",
   "metadata": {},
   "outputs": [],
   "source": [
    "k=2*np.pi/lambda_"
   ]
  },
  {
   "cell_type": "code",
   "execution_count": 13,
   "id": "01d00dd0",
   "metadata": {},
   "outputs": [
    {
     "data": {
      "text/plain": [
       "0.01227184630308513"
      ]
     },
     "execution_count": 13,
     "metadata": {},
     "output_type": "execute_result"
    }
   ],
   "source": [
    "k"
   ]
  },
  {
   "cell_type": "code",
   "execution_count": 14,
   "id": "a2937233",
   "metadata": {},
   "outputs": [],
   "source": [
    "g=9.81*3.28084"
   ]
  },
  {
   "cell_type": "code",
   "execution_count": 15,
   "id": "d87f73cb",
   "metadata": {},
   "outputs": [
    {
     "data": {
      "text/plain": [
       "32.1850404"
      ]
     },
     "execution_count": 15,
     "metadata": {},
     "output_type": "execute_result"
    }
   ],
   "source": [
    "g"
   ]
  },
  {
   "cell_type": "code",
   "execution_count": 16,
   "id": "28fa307a",
   "metadata": {},
   "outputs": [],
   "source": [
    "d = np.arctanh(c**2*k/g)/k"
   ]
  },
  {
   "cell_type": "code",
   "execution_count": 17,
   "id": "30ca3653",
   "metadata": {},
   "outputs": [
    {
     "data": {
      "text/plain": [
       "340.4288907030657"
      ]
     },
     "execution_count": 17,
     "metadata": {},
     "output_type": "execute_result"
    }
   ],
   "source": [
    "d # ft"
   ]
  },
  {
   "cell_type": "code",
   "execution_count": null,
   "id": "3ac839bc",
   "metadata": {},
   "outputs": [],
   "source": []
  },
  {
   "cell_type": "markdown",
   "id": "493ac7d2",
   "metadata": {},
   "source": [
    "### 3.2"
   ]
  },
  {
   "cell_type": "code",
   "execution_count": 18,
   "id": "c7fef8de",
   "metadata": {},
   "outputs": [],
   "source": [
    "# d/lambda < 0.05 and k=2*Pi/lambda |=> tanh(k*d)= tanh(2*Pi*d/lambda) ~ 2*Pi*d/lambda |=>\n",
    "# |=> c=(g/k*2*Pi*d/lambda)**0.5 |=> c = (g*d)**0.5"
   ]
  },
  {
   "cell_type": "code",
   "execution_count": 19,
   "id": "5970a5e4",
   "metadata": {},
   "outputs": [],
   "source": [
    "lambda_ = 512"
   ]
  },
  {
   "cell_type": "code",
   "execution_count": 20,
   "id": "38c556da",
   "metadata": {},
   "outputs": [],
   "source": [
    "d=0.05*lambda_"
   ]
  },
  {
   "cell_type": "code",
   "execution_count": 21,
   "id": "ba08e974",
   "metadata": {},
   "outputs": [
    {
     "data": {
      "text/plain": [
       "25.6"
      ]
     },
     "execution_count": 21,
     "metadata": {},
     "output_type": "execute_result"
    }
   ],
   "source": [
    "d # ft"
   ]
  },
  {
   "cell_type": "code",
   "execution_count": null,
   "id": "8dce1365",
   "metadata": {},
   "outputs": [],
   "source": []
  },
  {
   "cell_type": "markdown",
   "id": "770212f7",
   "metadata": {},
   "source": [
    "### 3.3"
   ]
  },
  {
   "cell_type": "code",
   "execution_count": 22,
   "id": "7c5733c7",
   "metadata": {},
   "outputs": [],
   "source": [
    "import matplotlib.pyplot as plt"
   ]
  },
  {
   "cell_type": "code",
   "execution_count": 23,
   "id": "77aa0f3a",
   "metadata": {},
   "outputs": [],
   "source": [
    "# k*c=2*Pi/T and lambda = c*T |=> k= 2*Pi/lambda\n",
    "# c =(g/k * tanh(k*d))**0.5\n",
    "# |=> c = (g*lambda/(2*Pi) * tanh(2*Pi*d/lambda))**0.5"
   ]
  },
  {
   "cell_type": "code",
   "execution_count": 24,
   "id": "0a52331f",
   "metadata": {},
   "outputs": [],
   "source": [
    "d = [i*10 for i in range(3,34)]"
   ]
  },
  {
   "cell_type": "code",
   "execution_count": 25,
   "id": "46e4c681",
   "metadata": {},
   "outputs": [],
   "source": [
    "def celerity(d,lambda_):\n",
    "    return (g*lambda_/(2*np.pi) * np.tanh(2*np.pi*d/lambda_))**0.5"
   ]
  },
  {
   "cell_type": "code",
   "execution_count": 26,
   "id": "1e8117ce",
   "metadata": {},
   "outputs": [],
   "source": [
    "lambda_1=200\n",
    "c1 = [celerity(d[i],lambda_1) for i in range(len(d))]\n",
    "\n",
    "lambda_2=400\n",
    "c2 = [celerity(d[i],lambda_2) for i in range(len(d))]\n",
    "\n",
    "lambda_3=600\n",
    "c3 = [celerity(d[i],lambda_3) for i in range(len(d))]"
   ]
  },
  {
   "cell_type": "code",
   "execution_count": 27,
   "id": "5507410d",
   "metadata": {},
   "outputs": [
    {
     "data": {
      "image/png": "[encoded data removed]",
      "text/plain": [
       "<Figure size 640x480 with 1 Axes>"
      ]
     },
     "metadata": {},
     "output_type": "display_data"
    }
   ],
   "source": [
    "plt.plot(d, c1, label='lambda=200')\n",
    "plt.plot(d, c2, label='lambda=400')\n",
    "plt.plot(d, c3, label='lambda=600')\n",
    "plt.xlabel('d')\n",
    "plt.ylabel('celerity')\n",
    "plt.legend(loc='best')\n",
    "plt.show()"
   ]
  },
  {
   "cell_type": "code",
   "execution_count": null,
   "id": "452fc12a",
   "metadata": {},
   "outputs": [],
   "source": []
  },
  {
   "cell_type": "markdown",
   "id": "cbc72615",
   "metadata": {},
   "source": [
    "### 3.4"
   ]
  },
  {
   "cell_type": "code",
   "execution_count": 28,
   "id": "e32fa58e",
   "metadata": {},
   "outputs": [],
   "source": [
    "lambda_deep = 512\n",
    "H=20\n",
    "g=32.1850404"
   ]
  },
  {
   "cell_type": "code",
   "execution_count": 29,
   "id": "1a8d04b1",
   "metadata": {},
   "outputs": [],
   "source": [
    "# deepwater celerity - c\n",
    "# T = c**2 * 2*Pi /(g*c)  and lambda = T*c |=> c = sqrt(T*c*g/(2*Pi))= sqrt(lambda*g/(2*Pi))"
   ]
  },
  {
   "cell_type": "code",
   "execution_count": 30,
   "id": "3fd63429",
   "metadata": {},
   "outputs": [],
   "source": [
    "c = np.sqrt(lambda_deep*g/(2*np.pi))"
   ]
  },
  {
   "cell_type": "code",
   "execution_count": 31,
   "id": "bada8cbf",
   "metadata": {},
   "outputs": [
    {
     "data": {
      "text/plain": [
       "51.21203995073272"
      ]
     },
     "execution_count": 31,
     "metadata": {},
     "output_type": "execute_result"
    }
   ],
   "source": [
    "c"
   ]
  },
  {
   "cell_type": "code",
   "execution_count": 32,
   "id": "3ffa8e74",
   "metadata": {},
   "outputs": [],
   "source": [
    "# shallow water celerity - c0\n",
    "# c0 = sqrt(g*d)"
   ]
  },
  {
   "cell_type": "code",
   "execution_count": 33,
   "id": "d6487a69",
   "metadata": {},
   "outputs": [],
   "source": [
    "# lambda_shallow=c0*T"
   ]
  },
  {
   "cell_type": "code",
   "execution_count": null,
   "id": "23aa57e2",
   "metadata": {},
   "outputs": [],
   "source": []
  },
  {
   "cell_type": "code",
   "execution_count": 34,
   "id": "6d9a59d1",
   "metadata": {},
   "outputs": [],
   "source": [
    "T = lambda_deep/c"
   ]
  },
  {
   "cell_type": "code",
   "execution_count": 35,
   "id": "6c1df5b9",
   "metadata": {},
   "outputs": [
    {
     "data": {
      "text/plain": [
       "9.997648999972602"
      ]
     },
     "execution_count": 35,
     "metadata": {},
     "output_type": "execute_result"
    }
   ],
   "source": [
    "T"
   ]
  },
  {
   "cell_type": "code",
   "execution_count": 36,
   "id": "353e92e6",
   "metadata": {},
   "outputs": [],
   "source": [
    "def l_shallow(d, g, T):\n",
    "    return np.sqrt(g*d)*T"
   ]
  },
  {
   "cell_type": "code",
   "execution_count": 37,
   "id": "a2c56559",
   "metadata": {},
   "outputs": [],
   "source": [
    "def c_shallow(d,g):\n",
    "    return np.sqrt(g*d)"
   ]
  },
  {
   "cell_type": "code",
   "execution_count": null,
   "id": "bb6f491a",
   "metadata": {},
   "outputs": [],
   "source": []
  },
  {
   "cell_type": "code",
   "execution_count": 38,
   "id": "6d089530",
   "metadata": {},
   "outputs": [],
   "source": [
    "# for example:"
   ]
  },
  {
   "cell_type": "code",
   "execution_count": 39,
   "id": "7665e45c",
   "metadata": {},
   "outputs": [],
   "source": [
    "d = 40 "
   ]
  },
  {
   "cell_type": "code",
   "execution_count": 40,
   "id": "9db8792d",
   "metadata": {},
   "outputs": [
    {
     "data": {
      "text/plain": [
       "358.7194378494674"
      ]
     },
     "execution_count": 40,
     "metadata": {},
     "output_type": "execute_result"
    }
   ],
   "source": [
    "l_shallow(d, g, T)"
   ]
  },
  {
   "cell_type": "code",
   "execution_count": 41,
   "id": "1d7c175c",
   "metadata": {},
   "outputs": [
    {
     "data": {
      "text/plain": [
       "35.88037926220959"
      ]
     },
     "execution_count": 41,
     "metadata": {},
     "output_type": "execute_result"
    }
   ],
   "source": [
    "c_shallow(d,g)"
   ]
  },
  {
   "cell_type": "code",
   "execution_count": null,
   "id": "f2dfa095",
   "metadata": {},
   "outputs": [],
   "source": []
  },
  {
   "cell_type": "code",
   "execution_count": 42,
   "id": "18a64fc2",
   "metadata": {},
   "outputs": [],
   "source": [
    "d = 30 "
   ]
  },
  {
   "cell_type": "code",
   "execution_count": 43,
   "id": "604bd11e",
   "metadata": {},
   "outputs": [
    {
     "data": {
      "text/plain": [
       "310.66014600891185"
      ]
     },
     "execution_count": 43,
     "metadata": {},
     "output_type": "execute_result"
    }
   ],
   "source": [
    "l_shallow(d, g, T)"
   ]
  },
  {
   "cell_type": "code",
   "execution_count": 44,
   "id": "53afd792",
   "metadata": {},
   "outputs": [
    {
     "data": {
      "text/plain": [
       "31.07331993849386"
      ]
     },
     "execution_count": 44,
     "metadata": {},
     "output_type": "execute_result"
    }
   ],
   "source": [
    "c_shallow(d,g)"
   ]
  },
  {
   "cell_type": "code",
   "execution_count": null,
   "id": "b0df2a87",
   "metadata": {},
   "outputs": [],
   "source": []
  },
  {
   "cell_type": "code",
   "execution_count": 45,
   "id": "e529f361",
   "metadata": {},
   "outputs": [],
   "source": [
    "d=20"
   ]
  },
  {
   "cell_type": "code",
   "execution_count": 46,
   "id": "258fd8c3",
   "metadata": {},
   "outputs": [
    {
     "data": {
      "text/plain": [
       "253.65294704678465"
      ]
     },
     "execution_count": 46,
     "metadata": {},
     "output_type": "execute_result"
    }
   ],
   "source": [
    "l_shallow(d, g, T)"
   ]
  },
  {
   "cell_type": "code",
   "execution_count": 47,
   "id": "0610fd94",
   "metadata": {},
   "outputs": [
    {
     "data": {
      "text/plain": [
       "25.37125948785357"
      ]
     },
     "execution_count": 47,
     "metadata": {},
     "output_type": "execute_result"
    }
   ],
   "source": [
    "c_shallow(d,g)"
   ]
  },
  {
   "cell_type": "code",
   "execution_count": null,
   "id": "6b90935c",
   "metadata": {},
   "outputs": [],
   "source": []
  }
 ],
 "metadata": {
  "kernelspec": {
   "display_name": "Python 3 (ipykernel)",
   "language": "python",
   "name": "python3"
  },
  "language_info": {
   "codemirror_mode": {
    "name": "ipython",
    "version": 3
   },
   "file_extension": ".py",
   "mimetype": "text/x-python",
   "name": "python",
   "nbconvert_exporter": "python",
   "pygments_lexer": "ipython3",
   "version": "3.9.6"
  }
 },
 "nbformat": 4,
 "nbformat_minor": 5
}
