{
 "cells": [
  {
   "cell_type": "markdown",
   "id": "9ed96307",
   "metadata": {},
   "source": [
    "### 2.1"
   ]
  },
  {
   "cell_type": "markdown",
   "id": "aa1dd6b7",
   "metadata": {},
   "source": [
    "p.298-299, Fig. 5.3, Fluid Mechanics, Fourth Edition - Frank M. White"
   ]
  },
  {
   "cell_type": "markdown",
   "id": "e8269aa9",
   "metadata": {},
   "source": [
    "Figure 5.3b shows the effect of wall roughness for an infinitely long cylinder. The\n",
    "sharp drop in drag occurs at lower Re_d as roughness causes an earlier transition to a\n",
    "turbulent boundary layer on the surface of the body. Roughness has the same effect on\n",
    "sphere drag, a fact which is exploited in sports by deliberate dimpling of golf balls to\n",
    "give them less drag at their flight Re_d ~ 10^5\n",
    "."
   ]
  },
  {
   "cell_type": "markdown",
   "id": "b52fa0d8",
   "metadata": {},
   "source": [
    "### 2.2"
   ]
  },
  {
   "cell_type": "markdown",
   "id": "a79eeda4",
   "metadata": {},
   "source": [
    "https://escholarship.org/uc/item/2s77j2fd "
   ]
  },
  {
   "cell_type": "markdown",
   "id": "1e568497",
   "metadata": {},
   "source": [
    "Berge and Penzien's method for linearizing the equation of motion involves making specific statistical assumptions about the constant ( C_D ). Here's a summary of their approach and assumptions:\n",
    "\n",
    "Method:\n",
    "1. \n",
    "Nonlinear Equation of Motion: The original equation of motion includes a nonlinear term involving ( C_D ).\n",
    "2. \n",
    "Statistical Linearization: This method approximates the nonlinear term with an equivalent linear term by minimizing the mean square error between the nonlinear and linear representations.\n",
    "3. \n",
    "Equivalent Linear System: The nonlinear system is replaced with an equivalent linear system that has the same statistical properties as the original nonlinear system: the process is zero mean ergodic Gaussian process.\n",
    "\n",
    "Assumptions:\n",
    "The linearized output process is zero mean ergodic Gaussian process.\n",
    "\n",
    "\n",
    "By making these assumptions, Berge and Penzien were able to derive a linearized equation of motion that is easier to analyze and solve while still capturing the essential behavior of the original nonlinear system."
   ]
  },
  {
   "cell_type": "markdown",
   "id": "a6af67d0",
   "metadata": {},
   "source": [
    "### 2.3"
   ]
  },
  {
   "cell_type": "markdown",
   "id": "e71a0f88",
   "metadata": {},
   "source": [
    "#### a)."
   ]
  },
  {
   "cell_type": "code",
   "execution_count": 1,
   "id": "2fd20a2a",
   "metadata": {},
   "outputs": [],
   "source": [
    "gamma_t=85\n",
    "gamma_m=95\n",
    "gamma_w=64"
   ]
  },
  {
   "cell_type": "code",
   "execution_count": 2,
   "id": "83445a17",
   "metadata": {},
   "outputs": [],
   "source": [
    "# gamma_t*V=gamma_m*V_m+gamma_w*V_c"
   ]
  },
  {
   "cell_type": "code",
   "execution_count": 3,
   "id": "6f20a9b9",
   "metadata": {},
   "outputs": [],
   "source": [
    "# gamma_t=gamma_m*d/h+gamma_w*(h-d)/h"
   ]
  },
  {
   "cell_type": "code",
   "execution_count": 4,
   "id": "4a2861b9",
   "metadata": {},
   "outputs": [],
   "source": [
    "# d/h = (gamma_t-gamma_w)/(gamma_m-gamma_w)"
   ]
  },
  {
   "cell_type": "code",
   "execution_count": 5,
   "id": "0a688547",
   "metadata": {},
   "outputs": [
    {
     "data": {
      "text/plain": [
       "0.6774193548387096"
      ]
     },
     "execution_count": 5,
     "metadata": {},
     "output_type": "execute_result"
    }
   ],
   "source": [
    "(gamma_t-gamma_w)/(gamma_m-gamma_w)"
   ]
  },
  {
   "cell_type": "code",
   "execution_count": 6,
   "id": "5031ab78",
   "metadata": {},
   "outputs": [],
   "source": [
    "from sympy import *"
   ]
  },
  {
   "cell_type": "code",
   "execution_count": 7,
   "id": "a025dd65",
   "metadata": {},
   "outputs": [],
   "source": [
    "gamma_t=Symbol('gamma_t')"
   ]
  },
  {
   "cell_type": "code",
   "execution_count": 8,
   "id": "900f3406",
   "metadata": {},
   "outputs": [],
   "source": [
    "gamma_w=Symbol('gamma_w')"
   ]
  },
  {
   "cell_type": "code",
   "execution_count": 9,
   "id": "afd19cb3",
   "metadata": {},
   "outputs": [],
   "source": [
    "gamma_m=Symbol('gamma_m')"
   ]
  },
  {
   "cell_type": "code",
   "execution_count": 10,
   "id": "39c77873",
   "metadata": {},
   "outputs": [],
   "source": [
    "d=Symbol('d')"
   ]
  },
  {
   "cell_type": "code",
   "execution_count": 11,
   "id": "a5876c5a",
   "metadata": {},
   "outputs": [],
   "source": [
    "h=Symbol('h')"
   ]
  },
  {
   "cell_type": "code",
   "execution_count": 12,
   "id": "6a562d20",
   "metadata": {},
   "outputs": [],
   "source": [
    "eqns =[gamma_t*h-gamma_m*d-gamma_w*(h-d)]"
   ]
  },
  {
   "cell_type": "code",
   "execution_count": 13,
   "id": "b76df461",
   "metadata": {},
   "outputs": [],
   "source": [
    "ans_d=solve(eqns, [d])"
   ]
  },
  {
   "cell_type": "code",
   "execution_count": 14,
   "id": "2be7ce2e",
   "metadata": {},
   "outputs": [
    {
     "data": {
      "text/plain": [
       "{d: (gamma_t*h - gamma_w*h)/(gamma_m - gamma_w)}"
      ]
     },
     "execution_count": 14,
     "metadata": {},
     "output_type": "execute_result"
    }
   ],
   "source": [
    "ans_d"
   ]
  },
  {
   "cell_type": "code",
   "execution_count": 15,
   "id": "1e3894cb",
   "metadata": {},
   "outputs": [
    {
     "data": {
      "text/latex": [
       "$\\displaystyle \\frac{\\gamma_{t} - \\gamma_{w}}{\\gamma_{m} - \\gamma_{w}}$"
      ],
      "text/plain": [
       "(gamma_t - gamma_w)/(gamma_m - gamma_w)"
      ]
     },
     "execution_count": 15,
     "metadata": {},
     "output_type": "execute_result"
    }
   ],
   "source": [
    "simplify(ans_d[d]/h)"
   ]
  },
  {
   "cell_type": "code",
   "execution_count": null,
   "id": "9b4b5e0e",
   "metadata": {},
   "outputs": [],
   "source": []
  },
  {
   "cell_type": "markdown",
   "id": "96d26156",
   "metadata": {},
   "source": [
    "#### b)."
   ]
  },
  {
   "cell_type": "code",
   "execution_count": 16,
   "id": "c439e8ec",
   "metadata": {},
   "outputs": [],
   "source": [
    "D=8"
   ]
  },
  {
   "cell_type": "code",
   "execution_count": 17,
   "id": "d7119595",
   "metadata": {},
   "outputs": [],
   "source": [
    "h=10"
   ]
  },
  {
   "cell_type": "code",
   "execution_count": 18,
   "id": "0ba969ab",
   "metadata": {},
   "outputs": [],
   "source": [
    "Xc=D/2"
   ]
  },
  {
   "cell_type": "code",
   "execution_count": 19,
   "id": "8fdbde7e",
   "metadata": {},
   "outputs": [],
   "source": [
    "gamma_t=85\n",
    "gamma_m=95\n",
    "gamma_w=64"
   ]
  },
  {
   "cell_type": "code",
   "execution_count": 20,
   "id": "54227416",
   "metadata": {},
   "outputs": [],
   "source": [
    "d=(gamma_t-gamma_w)/(gamma_m-gamma_w)*h"
   ]
  },
  {
   "cell_type": "code",
   "execution_count": 21,
   "id": "e8457612",
   "metadata": {},
   "outputs": [],
   "source": [
    "Yc=(gamma_m*d**2+gamma_w*(h-d)**2)/(gamma_t*h)"
   ]
  },
  {
   "cell_type": "code",
   "execution_count": 22,
   "id": "4a14d3a6",
   "metadata": {},
   "outputs": [
    {
     "data": {
      "text/plain": [
       "(4.0, 5.912346207994124)"
      ]
     },
     "execution_count": 22,
     "metadata": {},
     "output_type": "execute_result"
    }
   ],
   "source": [
    "Xc, Yc"
   ]
  },
  {
   "cell_type": "code",
   "execution_count": null,
   "id": "f6659f14",
   "metadata": {},
   "outputs": [],
   "source": []
  },
  {
   "cell_type": "markdown",
   "id": "ecd5fdac",
   "metadata": {},
   "source": [
    "#### c)."
   ]
  },
  {
   "cell_type": "markdown",
   "id": "ba1b0a77",
   "metadata": {},
   "source": [
    "Center of buoyancy B needs to be above center of gravity G. Center of gravity G for small inclination angles is at the center of the cylinder in the upright position. Theta is inclination angle. Hence the formula:"
   ]
  },
  {
   "attachments": {
    "Screenshot%202024-09-19%20at%2006.05.55.png": {
     "image/png": "[encoded data removed]"
    }
   },
   "cell_type": "markdown",
   "id": "0359ad90",
   "metadata": {},
   "source": [
    "![Screenshot%202024-09-19%20at%2006.05.55.png](attachment:Screenshot%202024-09-19%20at%2006.05.55.png)"
   ]
  },
  {
   "cell_type": "markdown",
   "id": "e1306a18",
   "metadata": {},
   "source": [
    "(d-h/2)*tg(Theta) = leg"
   ]
  },
  {
   "cell_type": "markdown",
   "id": "4a58307e",
   "metadata": {},
   "source": [
    "for small Theta: tg(Theta)~Theta"
   ]
  },
  {
   "cell_type": "markdown",
   "id": "07efd68d",
   "metadata": {},
   "source": [
    "2d-h = 2*(leg/Theta)"
   ]
  },
  {
   "cell_type": "markdown",
   "id": "5d2fb1a4",
   "metadata": {},
   "source": [
    "from a): d=21/31*h "
   ]
  },
  {
   "cell_type": "markdown",
   "id": "3444f6f3",
   "metadata": {},
   "source": [
    "2*(21/31*h)-h=2(leg/Theta)"
   ]
  },
  {
   "cell_type": "markdown",
   "id": "328605d5",
   "metadata": {},
   "source": [
    "h*11/31=2(leg/Theta)"
   ]
  },
  {
   "cell_type": "markdown",
   "id": "723a4d18",
   "metadata": {},
   "source": [
    "for small Theta: Theta~ leg'/(D/2) ~2*leg'/D"
   ]
  },
  {
   "cell_type": "markdown",
   "id": "1420357b",
   "metadata": {},
   "source": [
    "h*11/31=2(leg/(2*leg'/D))=D"
   ]
  },
  {
   "cell_type": "markdown",
   "id": "dd68a56d",
   "metadata": {},
   "source": [
    "leg ~ leg' ~ 0 "
   ]
  },
  {
   "cell_type": "code",
   "execution_count": 23,
   "id": "181628ad",
   "metadata": {},
   "outputs": [],
   "source": [
    "h=31/11*D"
   ]
  },
  {
   "cell_type": "code",
   "execution_count": 24,
   "id": "d0a57f8e",
   "metadata": {},
   "outputs": [
    {
     "data": {
      "text/plain": [
       "22.545454545454547"
      ]
     },
     "execution_count": 24,
     "metadata": {},
     "output_type": "execute_result"
    }
   ],
   "source": [
    "h"
   ]
  },
  {
   "cell_type": "code",
   "execution_count": null,
   "id": "d9cff94d",
   "metadata": {},
   "outputs": [],
   "source": []
  },
  {
   "cell_type": "markdown",
   "id": "bdc07164",
   "metadata": {},
   "source": [
    "### 2.4"
   ]
  },
  {
   "cell_type": "markdown",
   "id": "49bb8f22",
   "metadata": {},
   "source": [
    "#### a)."
   ]
  },
  {
   "cell_type": "markdown",
   "id": "111db9b6",
   "metadata": {},
   "source": [
    "Archimedes' principle"
   ]
  },
  {
   "cell_type": "markdown",
   "id": "c55aae87",
   "metadata": {},
   "source": [
    "apparent immersed weight = weight of object in air - weight of displaced fluid"
   ]
  },
  {
   "cell_type": "code",
   "execution_count": 25,
   "id": "d2d3c77d",
   "metadata": {},
   "outputs": [],
   "source": [
    "deck_mass=1.5*1e7\n",
    "cassion_filled_mass=2*1e8\n",
    "concrete_density=2500\n",
    "sea_water_density=1025"
   ]
  },
  {
   "cell_type": "code",
   "execution_count": 26,
   "id": "d796c6ad",
   "metadata": {},
   "outputs": [],
   "source": [
    "weight_of_object_in_air =(cassion_filled_mass+130*3.14*(12.5**2-12**2)*concrete_density+\n",
    "                         deck_mass +  100*3.14*12**2* sea_water_density)                 "
   ]
  },
  {
   "cell_type": "code",
   "execution_count": 27,
   "id": "6d918062",
   "metadata": {},
   "outputs": [],
   "source": [
    "weight_of_displaced_fluid =(100*3.14*12.5**2+3.14*40**2*60)* sea_water_density"
   ]
  },
  {
   "cell_type": "code",
   "execution_count": 28,
   "id": "83577d41",
   "metadata": {},
   "outputs": [],
   "source": [
    "apparent_immersed_weight = weight_of_object_in_air - weight_of_displaced_fluid"
   ]
  },
  {
   "cell_type": "code",
   "execution_count": 29,
   "id": "4383fd02",
   "metadata": {},
   "outputs": [
    {
     "data": {
      "text/plain": [
       "-85417537.5"
      ]
     },
     "execution_count": 29,
     "metadata": {},
     "output_type": "execute_result"
    }
   ],
   "source": [
    "apparent_immersed_weight"
   ]
  },
  {
   "cell_type": "code",
   "execution_count": 30,
   "id": "40915884",
   "metadata": {},
   "outputs": [],
   "source": [
    "min_deck_mass_to_keep_structure_from_floating = deck_mass + abs(apparent_immersed_weight)"
   ]
  },
  {
   "cell_type": "code",
   "execution_count": 31,
   "id": "9d8ceb70",
   "metadata": {},
   "outputs": [
    {
     "data": {
      "text/plain": [
       "100417537.5"
      ]
     },
     "execution_count": 31,
     "metadata": {},
     "output_type": "execute_result"
    }
   ],
   "source": [
    "min_deck_mass_to_keep_structure_from_floating"
   ]
  },
  {
   "cell_type": "code",
   "execution_count": null,
   "id": "63e2b6f1",
   "metadata": {},
   "outputs": [],
   "source": []
  },
  {
   "cell_type": "markdown",
   "id": "c5aa5851",
   "metadata": {},
   "source": [
    "#### b)."
   ]
  },
  {
   "cell_type": "code",
   "execution_count": 32,
   "id": "777c9d73",
   "metadata": {},
   "outputs": [],
   "source": [
    "Gy = ((cassion_filled_mass*60/2+130*3.14*(12.5**2-12**2)*concrete_density*(60+130/2)\n",
    "        +100*3.14*12**2*sea_water_density*(60+100/2)+\n",
    "   min_deck_mass_to_keep_structure_from_floating*(130+60))/\n",
    "   (cassion_filled_mass+130*3.14*(12.5**2-12**2)*concrete_density+\n",
    "   100*3.14*12**2* sea_water_density+min_deck_mass_to_keep_structure_from_floating))"
   ]
  },
  {
   "cell_type": "code",
   "execution_count": 33,
   "id": "c22dd6ba",
   "metadata": {},
   "outputs": [
    {
     "data": {
      "text/plain": [
       "88.34724013833102"
      ]
     },
     "execution_count": 33,
     "metadata": {},
     "output_type": "execute_result"
    }
   ],
   "source": [
    "Gy"
   ]
  },
  {
   "cell_type": "code",
   "execution_count": 34,
   "id": "ce18a231",
   "metadata": {},
   "outputs": [],
   "source": [
    "By = ((cassion_filled_mass*60/2+100*3.14*(12.5**2-12**2)*concrete_density*(60+100/2)\n",
    "        +100*3.14*12**2*sea_water_density*(60+100/2))/(weight_of_displaced_fluid))"
   ]
  },
  {
   "cell_type": "code",
   "execution_count": 35,
   "id": "9e077fea",
   "metadata": {},
   "outputs": [
    {
     "data": {
      "text/plain": [
       "33.83544009376086"
      ]
     },
     "execution_count": 35,
     "metadata": {},
     "output_type": "execute_result"
    }
   ],
   "source": [
    "By"
   ]
  },
  {
   "cell_type": "code",
   "execution_count": null,
   "id": "dbca9fa5",
   "metadata": {},
   "outputs": [],
   "source": []
  },
  {
   "cell_type": "markdown",
   "id": "39d97ac7",
   "metadata": {},
   "source": [
    "#### c)."
   ]
  },
  {
   "cell_type": "markdown",
   "id": "64cacca4",
   "metadata": {},
   "source": [
    "The structure in mud might be not stable as By < Gy"
   ]
  },
  {
   "cell_type": "code",
   "execution_count": null,
   "id": "61328955",
   "metadata": {},
   "outputs": [],
   "source": []
  },
  {
   "cell_type": "markdown",
   "id": "9dcd48cf",
   "metadata": {},
   "source": [
    "### 2.5"
   ]
  },
  {
   "cell_type": "markdown",
   "id": "21a70607",
   "metadata": {},
   "source": [
    "https://www.mecaenterprises.com/fastest-mile-wind-speed/"
   ]
  },
  {
   "cell_type": "code",
   "execution_count": null,
   "id": "5a383144",
   "metadata": {},
   "outputs": [],
   "source": []
  },
  {
   "cell_type": "markdown",
   "id": "00324841",
   "metadata": {},
   "source": [
    "### 2.6"
   ]
  },
  {
   "cell_type": "code",
   "execution_count": 36,
   "id": "4ff99c25",
   "metadata": {},
   "outputs": [],
   "source": [
    "import matplotlib.pyplot as plt"
   ]
  },
  {
   "cell_type": "code",
   "execution_count": 37,
   "id": "8220756f",
   "metadata": {},
   "outputs": [],
   "source": [
    "x = [i/100 for i in range(100)]"
   ]
  },
  {
   "cell_type": "code",
   "execution_count": 38,
   "id": "b8f92958",
   "metadata": {},
   "outputs": [],
   "source": [
    "def wind(x, n):\n",
    "    return x**(1/n)"
   ]
  },
  {
   "cell_type": "code",
   "execution_count": 39,
   "id": "96b10b45",
   "metadata": {},
   "outputs": [],
   "source": [
    "# rough costal areaas\n",
    "y1=[]\n",
    "for i in range(len(x)):\n",
    "    y1.append(wind(x[i], 3))\n",
    "\n",
    "# unobstructed sea    \n",
    "y2=[]\n",
    "for i in range(len(x)):\n",
    "    y2.append(wind(x[i], 8))\n",
    "\n",
    "# gust    \n",
    "y3=[]\n",
    "for i in range(len(x)):\n",
    "    y3.append(wind(x[i], 13))    "
   ]
  },
  {
   "cell_type": "code",
   "execution_count": 40,
   "id": "4b429b67",
   "metadata": {},
   "outputs": [
    {
     "data": {
      "image/png": "[encoded data removed]",
      "text/plain": [
       "<Figure size 640x480 with 1 Axes>"
      ]
     },
     "metadata": {},
     "output_type": "display_data"
    }
   ],
   "source": [
    "plt.plot(x, y1, label='Rough costal areaas')\n",
    "plt.plot(x, y2, label='Unobstructed sea')\n",
    "plt.plot(x, y3, label='Gust')\n",
    "plt.xlabel('z/h')\n",
    "plt.ylabel('u(z)/u(h)')\n",
    "plt.title('Normalized horizontal wind velocity')\n",
    "plt.legend(loc='best')\n",
    "plt.show()"
   ]
  },
  {
   "cell_type": "code",
   "execution_count": 41,
   "id": "a37d57ba",
   "metadata": {},
   "outputs": [],
   "source": [
    "# Gust has the highest wind velocity"
   ]
  },
  {
   "cell_type": "code",
   "execution_count": null,
   "id": "6793bffe",
   "metadata": {},
   "outputs": [],
   "source": []
  },
  {
   "cell_type": "markdown",
   "id": "90285d08",
   "metadata": {},
   "source": [
    "### 2.7"
   ]
  },
  {
   "cell_type": "markdown",
   "id": "b25011e9",
   "metadata": {},
   "source": [
    "Fairings work by streamlining the flow of water around large-diameter tubulars, thereby minimizing vortex shedding forces. In addition to reducing riser and wellhead fatigue, fairings also lower top and bottom angles in strong currents. Fairings have been used to suppress the vortex-induced vibrations(VIV) of deep water cylinders in the offshore and marine engineering applications. When properly functioning, they can reduce both the cylinder oscillation amplitude in the cross-flow direction and the fluid drag force in the in-line direction."
   ]
  },
  {
   "cell_type": "code",
   "execution_count": null,
   "id": "af828f15",
   "metadata": {},
   "outputs": [],
   "source": []
  },
  {
   "cell_type": "markdown",
   "id": "2398ae6a",
   "metadata": {},
   "source": [
    "A tuned mass damper (TMD), also known as a harmonic absorber or seismic damper, is a device mounted in structures to reduce mechanical vibrations, consisting of a mass mounted on one or more damped springs. Its oscillation frequency is tuned to be similar to the resonant frequency of the object it is mounted to, and reduces the object's maximum amplitude while weighing much less than it."
   ]
  },
  {
   "cell_type": "code",
   "execution_count": null,
   "id": "09a95ac1",
   "metadata": {},
   "outputs": [],
   "source": []
  },
  {
   "cell_type": "markdown",
   "id": "721a61e5",
   "metadata": {},
   "source": [
    "A Stockbridge damper is a tuned mass damper used to suppress wind-induced vibrations on slender structures such as overhead power lines, long cantilevered signs and cable-stayed bridges. The dumbbell-shaped device consists of two masses at the ends of a short length of cable or flexible rod, which is clamped at its middle to the main cable. The damper is designed to dissipate the energy of oscillations in the main cable to an acceptable level."
   ]
  },
  {
   "cell_type": "code",
   "execution_count": null,
   "id": "96cf9820",
   "metadata": {},
   "outputs": [],
   "source": []
  },
  {
   "cell_type": "markdown",
   "id": "92b31c0c",
   "metadata": {},
   "source": [
    "### 2.8"
   ]
  },
  {
   "cell_type": "code",
   "execution_count": 42,
   "id": "769849b6",
   "metadata": {},
   "outputs": [],
   "source": [
    "z = [ -i for i in range(101)]"
   ]
  },
  {
   "cell_type": "code",
   "execution_count": 43,
   "id": "3d4b70fd",
   "metadata": {},
   "outputs": [],
   "source": [
    "d = 100"
   ]
  },
  {
   "cell_type": "code",
   "execution_count": 44,
   "id": "0addb273",
   "metadata": {},
   "outputs": [],
   "source": [
    "def normalized_tidal_current(z,d):\n",
    "    return (1+z/d)**(1/7)"
   ]
  },
  {
   "cell_type": "code",
   "execution_count": 45,
   "id": "ae322e2b",
   "metadata": {},
   "outputs": [],
   "source": [
    "def normalized_wind_stress_current(z,d): \n",
    "    return (1+z/d)"
   ]
  },
  {
   "cell_type": "code",
   "execution_count": 46,
   "id": "fb6aa82d",
   "metadata": {},
   "outputs": [
    {
     "data": {
      "image/png": "[encoded data removed]",
      "text/plain": [
       "<Figure size 640x480 with 1 Axes>"
      ]
     },
     "metadata": {},
     "output_type": "display_data"
    }
   ],
   "source": [
    "plt.plot(z, [normalized_tidal_current(i,d) for i in z],\n",
    "         label='Tidal Current')\n",
    "plt.plot(z, [normalized_wind_stress_current(i,d) for i in z],\n",
    "         label='Wind Stress Current')\n",
    "\n",
    "plt.xlabel('z')\n",
    "plt.ylabel('u(z)/u(0)')\n",
    "plt.title('Normalized velocity')\n",
    "\n",
    "plt.legend(loc='best')\n",
    "plt.show()"
   ]
  },
  {
   "cell_type": "code",
   "execution_count": 47,
   "id": "0e42dfb5",
   "metadata": {},
   "outputs": [],
   "source": [
    "# norm_tidal_current_with_offset = (1+z/d)**(1/7)*cos(theta)"
   ]
  },
  {
   "cell_type": "code",
   "execution_count": null,
   "id": "0df58bd3",
   "metadata": {},
   "outputs": [],
   "source": []
  }
 ],
 "metadata": {
  "kernelspec": {
   "display_name": "Python 3 (ipykernel)",
   "language": "python",
   "name": "python3"
  },
  "language_info": {
   "codemirror_mode": {
    "name": "ipython",
    "version": 3
   },
   "file_extension": ".py",
   "mimetype": "text/x-python",
   "name": "python",
   "nbconvert_exporter": "python",
   "pygments_lexer": "ipython3",
   "version": "3.9.6"
  }
 },
 "nbformat": 4,
 "nbformat_minor": 5
}
