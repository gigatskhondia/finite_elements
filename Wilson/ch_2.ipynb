{
 "cells": [
  {
   "cell_type": "markdown",
   "id": "9ed96307",
   "metadata": {},
   "source": [
    "### 2.1"
   ]
  },
  {
   "cell_type": "markdown",
   "id": "aa1dd6b7",
   "metadata": {},
   "source": [
    "p.298-299, Fig. 5.3, Fluid Mechanics, Fourth Edition - Frank M. White"
   ]
  },
  {
   "cell_type": "markdown",
   "id": "e8269aa9",
   "metadata": {},
   "source": [
    "Figure 5.3b shows the effect of wall roughness for an infinitely long cylinder. The\n",
    "sharp drop in drag occurs at lower Re_d as roughness causes an earlier transition to a\n",
    "turbulent boundary layer on the surface of the body. Roughness has the same effect on\n",
    "sphere drag, a fact which is exploited in sports by deliberate dimpling of golf balls to\n",
    "give them less drag at their flight Re_d ~ 10^5\n",
    "."
   ]
  },
  {
   "cell_type": "markdown",
   "id": "b52fa0d8",
   "metadata": {},
   "source": [
    "### 2.2"
   ]
  },
  {
   "cell_type": "markdown",
   "id": "a79eeda4",
   "metadata": {},
   "source": [
    "https://escholarship.org/uc/item/2s77j2fd "
   ]
  },
  {
   "cell_type": "markdown",
   "id": "1e568497",
   "metadata": {},
   "source": [
    "Berge and Penzien's method for linearizing the equation of motion involves making specific statistical assumptions about the constant ( C_D ). Here's a summary of their approach and assumptions:\n",
    "\n",
    "Method:\n",
    "1. \n",
    "Nonlinear Equation of Motion: The original equation of motion includes a nonlinear term involving ( C_D ).\n",
    "2. \n",
    "Statistical Linearization: This method approximates the nonlinear term with an equivalent linear term by minimizing the mean square error between the nonlinear and linear representations.\n",
    "3. \n",
    "Equivalent Linear System: The nonlinear system is replaced with an equivalent linear system that has the same statistical properties as the original nonlinear system: the process is zero mean ergodic Gaussian process.\n",
    "\n",
    "Assumptions:\n",
    "The linearized output process is zero mean ergodic Gaussian process.\n",
    "\n",
    "\n",
    "By making these assumptions, Berge and Penzien were able to derive a linearized equation of motion that is easier to analyze and solve while still capturing the essential behavior of the original nonlinear system."
   ]
  },
  {
   "cell_type": "markdown",
   "id": "a6af67d0",
   "metadata": {},
   "source": [
    "### 2.3"
   ]
  },
  {
   "cell_type": "markdown",
   "id": "e71a0f88",
   "metadata": {},
   "source": [
    "#### a)."
   ]
  },
  {
   "cell_type": "code",
   "execution_count": 1,
   "id": "2fd20a2a",
   "metadata": {},
   "outputs": [],
   "source": [
    "gamma_t=85\n",
    "gamma_m=95\n",
    "gamma_w=64"
   ]
  },
  {
   "cell_type": "code",
   "execution_count": 2,
   "id": "83445a17",
   "metadata": {},
   "outputs": [],
   "source": [
    "# gamma_t*V=gamma_m*V_m+gamma_w*V_c"
   ]
  },
  {
   "cell_type": "code",
   "execution_count": 3,
   "id": "6f20a9b9",
   "metadata": {},
   "outputs": [],
   "source": [
    "# gamma_t=gamma_m*d/h+gamma_w*(h-d)/h"
   ]
  },
  {
   "cell_type": "code",
   "execution_count": 4,
   "id": "4a2861b9",
   "metadata": {},
   "outputs": [],
   "source": [
    "# d/h = (gamma_t-gamma_w)/(gamma_m-gamma_w)"
   ]
  },
  {
   "cell_type": "code",
   "execution_count": 5,
   "id": "0a688547",
   "metadata": {},
   "outputs": [
    {
     "data": {
      "text/plain": [
       "0.6774193548387096"
      ]
     },
     "execution_count": 5,
     "metadata": {},
     "output_type": "execute_result"
    }
   ],
   "source": [
    "(gamma_t-gamma_w)/(gamma_m-gamma_w)"
   ]
  },
  {
   "cell_type": "code",
   "execution_count": 6,
   "id": "5031ab78",
   "metadata": {},
   "outputs": [],
   "source": [
    "from sympy import *"
   ]
  },
  {
   "cell_type": "code",
   "execution_count": 7,
   "id": "a025dd65",
   "metadata": {},
   "outputs": [],
   "source": [
    "gamma_t=Symbol('gamma_t')"
   ]
  },
  {
   "cell_type": "code",
   "execution_count": 8,
   "id": "900f3406",
   "metadata": {},
   "outputs": [],
   "source": [
    "gamma_w=Symbol('gamma_w')"
   ]
  },
  {
   "cell_type": "code",
   "execution_count": 9,
   "id": "afd19cb3",
   "metadata": {},
   "outputs": [],
   "source": [
    "gamma_m=Symbol('gamma_m')"
   ]
  },
  {
   "cell_type": "code",
   "execution_count": 10,
   "id": "39c77873",
   "metadata": {},
   "outputs": [],
   "source": [
    "d=Symbol('d')"
   ]
  },
  {
   "cell_type": "code",
   "execution_count": 11,
   "id": "a5876c5a",
   "metadata": {},
   "outputs": [],
   "source": [
    "h=Symbol('h')"
   ]
  },
  {
   "cell_type": "code",
   "execution_count": 12,
   "id": "6a562d20",
   "metadata": {},
   "outputs": [],
   "source": [
    "eqns =[gamma_t*h-gamma_m*d-gamma_w*(h-d)]"
   ]
  },
  {
   "cell_type": "code",
   "execution_count": 13,
   "id": "b76df461",
   "metadata": {},
   "outputs": [],
   "source": [
    "ans_d=solve(eqns, [d])"
   ]
  },
  {
   "cell_type": "code",
   "execution_count": 14,
   "id": "2be7ce2e",
   "metadata": {},
   "outputs": [
    {
     "data": {
      "text/plain": [
       "{d: (gamma_t*h - gamma_w*h)/(gamma_m - gamma_w)}"
      ]
     },
     "execution_count": 14,
     "metadata": {},
     "output_type": "execute_result"
    }
   ],
   "source": [
    "ans_d"
   ]
  },
  {
   "cell_type": "code",
   "execution_count": 15,
   "id": "1e3894cb",
   "metadata": {},
   "outputs": [
    {
     "data": {
      "text/latex": [
       "$\\displaystyle \\frac{\\gamma_{t} - \\gamma_{w}}{\\gamma_{m} - \\gamma_{w}}$"
      ],
      "text/plain": [
       "(gamma_t - gamma_w)/(gamma_m - gamma_w)"
      ]
     },
     "execution_count": 15,
     "metadata": {},
     "output_type": "execute_result"
    }
   ],
   "source": [
    "simplify(ans_d[d]/h)"
   ]
  },
  {
   "cell_type": "code",
   "execution_count": null,
   "id": "9b4b5e0e",
   "metadata": {},
   "outputs": [],
   "source": []
  },
  {
   "cell_type": "markdown",
   "id": "96d26156",
   "metadata": {},
   "source": [
    "#### b)."
   ]
  },
  {
   "cell_type": "code",
   "execution_count": 16,
   "id": "c439e8ec",
   "metadata": {},
   "outputs": [],
   "source": [
    "D=8"
   ]
  },
  {
   "cell_type": "code",
   "execution_count": 17,
   "id": "d7119595",
   "metadata": {},
   "outputs": [],
   "source": [
    "h=10"
   ]
  },
  {
   "cell_type": "code",
   "execution_count": 18,
   "id": "0ba969ab",
   "metadata": {},
   "outputs": [],
   "source": [
    "Xc=D/2"
   ]
  },
  {
   "cell_type": "code",
   "execution_count": 19,
   "id": "8fdbde7e",
   "metadata": {},
   "outputs": [],
   "source": [
    "gamma_t=85\n",
    "gamma_m=95\n",
    "gamma_w=64"
   ]
  },
  {
   "cell_type": "code",
   "execution_count": 20,
   "id": "54227416",
   "metadata": {},
   "outputs": [],
   "source": [
    "d=(gamma_t-gamma_w)/(gamma_m-gamma_w)*h"
   ]
  },
  {
   "cell_type": "code",
   "execution_count": 21,
   "id": "e8457612",
   "metadata": {},
   "outputs": [],
   "source": [
    "Yc=(gamma_m*d**2+gamma_w*(h-d)**2)/(gamma_t*h)"
   ]
  },
  {
   "cell_type": "code",
   "execution_count": 22,
   "id": "4a14d3a6",
   "metadata": {},
   "outputs": [
    {
     "data": {
      "text/plain": [
       "(4.0, 5.912346207994124)"
      ]
     },
     "execution_count": 22,
     "metadata": {},
     "output_type": "execute_result"
    }
   ],
   "source": [
    "Xc, Yc"
   ]
  },
  {
   "cell_type": "code",
   "execution_count": null,
   "id": "f6659f14",
   "metadata": {},
   "outputs": [],
   "source": []
  },
  {
   "cell_type": "markdown",
   "id": "ecd5fdac",
   "metadata": {},
   "source": [
    "#### c)."
   ]
  },
  {
   "cell_type": "markdown",
   "id": "ba1b0a77",
   "metadata": {},
   "source": [
    "Center of buoyancy B needs to be above center of gravity G. Center of gravity G for small inclination angles is at the center of the cylinder in the upright position. Theta is inclination angle. Hence the formula:"
   ]
  },
  {
   "attachments": {
    "Screenshot%202024-09-19%20at%2006.05.55.png": {
     "image/png": "[encoded data removed]"
    }
   },
   "cell_type": "markdown",
   "id": "0359ad90",
   "metadata": {},
   "source": [
    "![Screenshot%202024-09-19%20at%2006.05.55.png](attachment:Screenshot%202024-09-19%20at%2006.05.55.png)"
   ]
  },
  {
   "cell_type": "markdown",
   "id": "e1306a18",
   "metadata": {},
   "source": [
    "(d-h/2)*tg(Theta) = leg"
   ]
  },
  {
   "cell_type": "markdown",
   "id": "4a58307e",
   "metadata": {},
   "source": [
    "for small Theta: tg(Theta)~Theta"
   ]
  },
  {
   "cell_type": "markdown",
   "id": "07efd68d",
   "metadata": {},
   "source": [
    "2d-h = 2*(leg/Theta)"
   ]
  },
  {
   "cell_type": "markdown",
   "id": "5d2fb1a4",
   "metadata": {},
   "source": [
    "from a): d=21/31*h "
   ]
  },
  {
   "cell_type": "markdown",
   "id": "3444f6f3",
   "metadata": {},
   "source": [
    "2*(21/31*h)-h=2(leg/Theta)"
   ]
  },
  {
   "cell_type": "markdown",
   "id": "328605d5",
   "metadata": {},
   "source": [
    "h*11/31=2(leg/Theta)"
   ]
  },
  {
   "cell_type": "markdown",
   "id": "723a4d18",
   "metadata": {},
   "source": [
    "for small Theta: Theta~ leg'/(D/2) ~2*leg'/D"
   ]
  },
  {
   "cell_type": "markdown",
   "id": "1420357b",
   "metadata": {},
   "source": [
    "h*11/31=2(leg/(2*leg'/D))=D"
   ]
  },
  {
   "cell_type": "markdown",
   "id": "dd68a56d",
   "metadata": {},
   "source": [
    "leg ~ leg' "
   ]
  },
  {
   "cell_type": "code",
   "execution_count": 23,
   "id": "181628ad",
   "metadata": {},
   "outputs": [],
   "source": [
    "h=31/11*D"
   ]
  },
  {
   "cell_type": "code",
   "execution_count": 24,
   "id": "d0a57f8e",
   "metadata": {},
   "outputs": [
    {
     "data": {
      "text/plain": [
       "22.545454545454547"
      ]
     },
     "execution_count": 24,
     "metadata": {},
     "output_type": "execute_result"
    }
   ],
   "source": [
    "h"
   ]
  }
 ],
 "metadata": {
  "kernelspec": {
   "display_name": "Python 3 (ipykernel)",
   "language": "python",
   "name": "python3"
  },
  "language_info": {
   "codemirror_mode": {
    "name": "ipython",
    "version": 3
   },
   "file_extension": ".py",
   "mimetype": "text/x-python",
   "name": "python",
   "nbconvert_exporter": "python",
   "pygments_lexer": "ipython3",
   "version": "3.9.6"
  }
 },
 "nbformat": 4,
 "nbformat_minor": 5
}
