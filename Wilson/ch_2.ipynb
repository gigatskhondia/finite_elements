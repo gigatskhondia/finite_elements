{
 "cells": [
  {
   "cell_type": "code",
   "execution_count": 1,
   "id": "e614fc67",
   "metadata": {},
   "outputs": [],
   "source": [
    "# Not validated solutions"
   ]
  },
  {
   "cell_type": "markdown",
   "id": "9ed96307",
   "metadata": {},
   "source": [
    "### 2.1"
   ]
  },
  {
   "cell_type": "markdown",
   "id": "aa1dd6b7",
   "metadata": {},
   "source": [
    "p.298-299, Fig. 5.3, Fluid Mechanics, Fourth Edition - Frank M. White"
   ]
  },
  {
   "cell_type": "markdown",
   "id": "e8269aa9",
   "metadata": {},
   "source": [
    "Figure 5.3b shows the effect of wall roughness for an infinitely long cylinder. The\n",
    "sharp drop in drag occurs at lower Re_d as roughness causes an earlier transition to a\n",
    "turbulent boundary layer on the surface of the body. Roughness has the same effect on\n",
    "sphere drag, a fact which is exploited in sports by deliberate dimpling of golf balls to\n",
    "give them less drag at their flight Re_d ~ 10^5\n",
    "."
   ]
  },
  {
   "cell_type": "markdown",
   "id": "b52fa0d8",
   "metadata": {},
   "source": [
    "### 2.2"
   ]
  },
  {
   "cell_type": "markdown",
   "id": "a79eeda4",
   "metadata": {},
   "source": [
    "https://escholarship.org/uc/item/2s77j2fd "
   ]
  },
  {
   "cell_type": "markdown",
   "id": "1e568497",
   "metadata": {},
   "source": [
    "Berge and Penzien's method for linearizing the equation of motion involves making specific statistical assumptions about the constant ( C_D ). Here's a summary of their approach and assumptions:\n",
    "\n",
    "Method:\n",
    "1. \n",
    "Nonlinear Equation of Motion: The original equation of motion includes a nonlinear term involving ( C_D ).\n",
    "2. \n",
    "Statistical Linearization: This method approximates the nonlinear term with an equivalent linear term by minimizing the mean square error between the nonlinear and linear representations.\n",
    "3. \n",
    "Equivalent Linear System: The nonlinear system is replaced with an equivalent linear system that has the same statistical properties as the original nonlinear system: the process is zero mean ergodic Gaussian process.\n",
    "\n",
    "Assumptions:\n",
    "The linearized output process is zero mean ergodic Gaussian process.\n",
    "\n",
    "\n",
    "By making these assumptions, Berge and Penzien were able to derive a linearized equation of motion that is easier to analyze and solve while still capturing the essential behavior of the original nonlinear system."
   ]
  },
  {
   "cell_type": "markdown",
   "id": "a6af67d0",
   "metadata": {},
   "source": [
    "### 2.3"
   ]
  },
  {
   "cell_type": "markdown",
   "id": "e71a0f88",
   "metadata": {},
   "source": [
    "#### a)."
   ]
  },
  {
   "cell_type": "code",
   "execution_count": 2,
   "id": "2fd20a2a",
   "metadata": {},
   "outputs": [],
   "source": [
    "gamma_t=85\n",
    "gamma_m=95\n",
    "gamma_w=64"
   ]
  },
  {
   "cell_type": "code",
   "execution_count": 3,
   "id": "83445a17",
   "metadata": {},
   "outputs": [],
   "source": [
    "# gamma_t*V=gamma_m*V_m+gamma_w*V_c"
   ]
  },
  {
   "cell_type": "code",
   "execution_count": 4,
   "id": "6f20a9b9",
   "metadata": {},
   "outputs": [],
   "source": [
    "# gamma_t=gamma_m*d/h+gamma_w*(h-d)/h"
   ]
  },
  {
   "cell_type": "code",
   "execution_count": 5,
   "id": "4a2861b9",
   "metadata": {},
   "outputs": [],
   "source": [
    "# d/h = (gamma_t-gamma_w)/(gamma_m-gamma_w)"
   ]
  },
  {
   "cell_type": "code",
   "execution_count": 6,
   "id": "0a688547",
   "metadata": {},
   "outputs": [
    {
     "data": {
      "text/plain": [
       "0.6774193548387096"
      ]
     },
     "execution_count": 6,
     "metadata": {},
     "output_type": "execute_result"
    }
   ],
   "source": [
    "(gamma_t-gamma_w)/(gamma_m-gamma_w)"
   ]
  },
  {
   "cell_type": "code",
   "execution_count": 7,
   "id": "5031ab78",
   "metadata": {},
   "outputs": [],
   "source": [
    "from sympy import *"
   ]
  },
  {
   "cell_type": "code",
   "execution_count": 8,
   "id": "a025dd65",
   "metadata": {},
   "outputs": [],
   "source": [
    "gamma_t=Symbol('gamma_t')"
   ]
  },
  {
   "cell_type": "code",
   "execution_count": 9,
   "id": "900f3406",
   "metadata": {},
   "outputs": [],
   "source": [
    "gamma_w=Symbol('gamma_w')"
   ]
  },
  {
   "cell_type": "code",
   "execution_count": 10,
   "id": "afd19cb3",
   "metadata": {},
   "outputs": [],
   "source": [
    "gamma_m=Symbol('gamma_m')"
   ]
  },
  {
   "cell_type": "code",
   "execution_count": 11,
   "id": "39c77873",
   "metadata": {},
   "outputs": [],
   "source": [
    "d=Symbol('d')"
   ]
  },
  {
   "cell_type": "code",
   "execution_count": 12,
   "id": "a5876c5a",
   "metadata": {},
   "outputs": [],
   "source": [
    "h=Symbol('h')"
   ]
  },
  {
   "cell_type": "code",
   "execution_count": 13,
   "id": "6a562d20",
   "metadata": {},
   "outputs": [],
   "source": [
    "eqns =[gamma_t*h-gamma_m*d-gamma_w*(h-d)]"
   ]
  },
  {
   "cell_type": "code",
   "execution_count": 14,
   "id": "b76df461",
   "metadata": {},
   "outputs": [],
   "source": [
    "ans_d=solve(eqns, [d])"
   ]
  },
  {
   "cell_type": "code",
   "execution_count": 15,
   "id": "2be7ce2e",
   "metadata": {},
   "outputs": [
    {
     "data": {
      "text/plain": [
       "{d: (gamma_t*h - gamma_w*h)/(gamma_m - gamma_w)}"
      ]
     },
     "execution_count": 15,
     "metadata": {},
     "output_type": "execute_result"
    }
   ],
   "source": [
    "ans_d"
   ]
  },
  {
   "cell_type": "code",
   "execution_count": 16,
   "id": "1e3894cb",
   "metadata": {},
   "outputs": [
    {
     "data": {
      "text/latex": [
       "$\\displaystyle \\frac{\\gamma_{t} - \\gamma_{w}}{\\gamma_{m} - \\gamma_{w}}$"
      ],
      "text/plain": [
       "(gamma_t - gamma_w)/(gamma_m - gamma_w)"
      ]
     },
     "execution_count": 16,
     "metadata": {},
     "output_type": "execute_result"
    }
   ],
   "source": [
    "simplify(ans_d[d]/h)"
   ]
  },
  {
   "cell_type": "code",
   "execution_count": null,
   "id": "9b4b5e0e",
   "metadata": {},
   "outputs": [],
   "source": []
  },
  {
   "cell_type": "markdown",
   "id": "96d26156",
   "metadata": {},
   "source": [
    "#### b)."
   ]
  },
  {
   "cell_type": "code",
   "execution_count": 17,
   "id": "c439e8ec",
   "metadata": {},
   "outputs": [],
   "source": [
    "D=8"
   ]
  },
  {
   "cell_type": "code",
   "execution_count": 18,
   "id": "d7119595",
   "metadata": {},
   "outputs": [],
   "source": [
    "h=10"
   ]
  },
  {
   "cell_type": "code",
   "execution_count": 19,
   "id": "0ba969ab",
   "metadata": {},
   "outputs": [],
   "source": [
    "Xc=D/2"
   ]
  },
  {
   "cell_type": "code",
   "execution_count": 20,
   "id": "8fdbde7e",
   "metadata": {},
   "outputs": [],
   "source": [
    "gamma_t=85\n",
    "gamma_m=95\n",
    "gamma_w=64"
   ]
  },
  {
   "cell_type": "code",
   "execution_count": 21,
   "id": "54227416",
   "metadata": {},
   "outputs": [],
   "source": [
    "d=(gamma_t-gamma_w)/(gamma_m-gamma_w)*h"
   ]
  },
  {
   "cell_type": "code",
   "execution_count": 22,
   "id": "e8457612",
   "metadata": {},
   "outputs": [],
   "source": [
    "Yc=(gamma_m*d**2+gamma_w*(h-d)**2)/(gamma_t*h)"
   ]
  },
  {
   "cell_type": "code",
   "execution_count": 23,
   "id": "4a14d3a6",
   "metadata": {},
   "outputs": [
    {
     "data": {
      "text/plain": [
       "(4.0, 5.912346207994124)"
      ]
     },
     "execution_count": 23,
     "metadata": {},
     "output_type": "execute_result"
    }
   ],
   "source": [
    "Xc, Yc"
   ]
  },
  {
   "cell_type": "code",
   "execution_count": null,
   "id": "f6659f14",
   "metadata": {},
   "outputs": [],
   "source": []
  },
  {
   "cell_type": "markdown",
   "id": "ecd5fdac",
   "metadata": {},
   "source": [
    "#### c)."
   ]
  },
  {
   "cell_type": "markdown",
   "id": "ba1b0a77",
   "metadata": {},
   "source": [
    "Center of buoyancy B needs to be above center of gravity G. Center of gravity G for small inclination angles is at the center of the cylinder in the upright position. Theta is inclination angle. Hence the formula:"
   ]
  },
  {
   "attachments": {
    "Screenshot%202024-09-19%20at%2006.05.55.png": {
     "image/png": "[encoded data removed]"
    }
   },
   "cell_type": "markdown",
   "id": "0359ad90",
   "metadata": {},
   "source": [
    "![Screenshot%202024-09-19%20at%2006.05.55.png](attachment:Screenshot%202024-09-19%20at%2006.05.55.png)"
   ]
  },
  {
   "cell_type": "markdown",
   "id": "e1306a18",
   "metadata": {},
   "source": [
    "(d-h/2)*tg(Theta) = leg"
   ]
  },
  {
   "cell_type": "markdown",
   "id": "4a58307e",
   "metadata": {},
   "source": [
    "for small Theta: tg(Theta)~Theta"
   ]
  },
  {
   "cell_type": "markdown",
   "id": "07efd68d",
   "metadata": {},
   "source": [
    "2d-h = 2*(leg/Theta)"
   ]
  },
  {
   "cell_type": "markdown",
   "id": "5d2fb1a4",
   "metadata": {},
   "source": [
    "from a): d=21/31*h "
   ]
  },
  {
   "cell_type": "markdown",
   "id": "3444f6f3",
   "metadata": {},
   "source": [
    "2*(21/31*h)-h=2(leg/Theta)"
   ]
  },
  {
   "cell_type": "markdown",
   "id": "328605d5",
   "metadata": {},
   "source": [
    "h*11/31=2(leg/Theta)"
   ]
  },
  {
   "cell_type": "markdown",
   "id": "723a4d18",
   "metadata": {},
   "source": [
    "for small Theta: Theta~ leg'/(D/2) ~2*leg'/D"
   ]
  },
  {
   "cell_type": "markdown",
   "id": "1420357b",
   "metadata": {},
   "source": [
    "h*11/31=2(leg/(2*leg'/D))=D"
   ]
  },
  {
   "cell_type": "markdown",
   "id": "dd68a56d",
   "metadata": {},
   "source": [
    "leg ~ leg' ~ 0 "
   ]
  },
  {
   "cell_type": "code",
   "execution_count": 24,
   "id": "181628ad",
   "metadata": {},
   "outputs": [],
   "source": [
    "h=31/11*D"
   ]
  },
  {
   "cell_type": "code",
   "execution_count": 25,
   "id": "d0a57f8e",
   "metadata": {},
   "outputs": [
    {
     "data": {
      "text/plain": [
       "22.545454545454547"
      ]
     },
     "execution_count": 25,
     "metadata": {},
     "output_type": "execute_result"
    }
   ],
   "source": [
    "h"
   ]
  },
  {
   "cell_type": "code",
   "execution_count": null,
   "id": "d9cff94d",
   "metadata": {},
   "outputs": [],
   "source": []
  },
  {
   "cell_type": "markdown",
   "id": "bdc07164",
   "metadata": {},
   "source": [
    "### 2.4"
   ]
  },
  {
   "cell_type": "markdown",
   "id": "49bb8f22",
   "metadata": {},
   "source": [
    "#### a)."
   ]
  },
  {
   "cell_type": "markdown",
   "id": "111db9b6",
   "metadata": {},
   "source": [
    "Archimedes' principle"
   ]
  },
  {
   "cell_type": "markdown",
   "id": "c55aae87",
   "metadata": {},
   "source": [
    "apparent immersed weight = weight of object in air - weight of displaced fluid"
   ]
  },
  {
   "cell_type": "code",
   "execution_count": 26,
   "id": "d2d3c77d",
   "metadata": {},
   "outputs": [],
   "source": [
    "deck_mass=1.5*1e7\n",
    "cassion_filled_mass=2*1e8\n",
    "concrete_density=2500\n",
    "sea_water_density=1025"
   ]
  },
  {
   "cell_type": "code",
   "execution_count": 27,
   "id": "d796c6ad",
   "metadata": {},
   "outputs": [],
   "source": [
    "weight_of_object_in_air =(cassion_filled_mass+130*3.14*(12.5**2-12**2)*concrete_density+\n",
    "                         deck_mass +  100*3.14*12**2* sea_water_density)                 "
   ]
  },
  {
   "cell_type": "code",
   "execution_count": 28,
   "id": "6d918062",
   "metadata": {},
   "outputs": [],
   "source": [
    "weight_of_displaced_fluid =(100*3.14*12.5**2+3.14*40**2*60)* sea_water_density"
   ]
  },
  {
   "cell_type": "code",
   "execution_count": 29,
   "id": "83577d41",
   "metadata": {},
   "outputs": [],
   "source": [
    "apparent_immersed_weight = weight_of_object_in_air - weight_of_displaced_fluid"
   ]
  },
  {
   "cell_type": "code",
   "execution_count": 30,
   "id": "4383fd02",
   "metadata": {},
   "outputs": [
    {
     "data": {
      "text/plain": [
       "-85417537.5"
      ]
     },
     "execution_count": 30,
     "metadata": {},
     "output_type": "execute_result"
    }
   ],
   "source": [
    "apparent_immersed_weight"
   ]
  },
  {
   "cell_type": "code",
   "execution_count": 31,
   "id": "40915884",
   "metadata": {},
   "outputs": [],
   "source": [
    "min_deck_mass_to_keep_structure_from_floating = deck_mass + abs(apparent_immersed_weight)"
   ]
  },
  {
   "cell_type": "code",
   "execution_count": 32,
   "id": "9d8ceb70",
   "metadata": {},
   "outputs": [
    {
     "data": {
      "text/plain": [
       "100417537.5"
      ]
     },
     "execution_count": 32,
     "metadata": {},
     "output_type": "execute_result"
    }
   ],
   "source": [
    "min_deck_mass_to_keep_structure_from_floating"
   ]
  },
  {
   "cell_type": "code",
   "execution_count": null,
   "id": "63e2b6f1",
   "metadata": {},
   "outputs": [],
   "source": []
  },
  {
   "cell_type": "markdown",
   "id": "c5aa5851",
   "metadata": {},
   "source": [
    "#### b)."
   ]
  },
  {
   "cell_type": "code",
   "execution_count": 33,
   "id": "777c9d73",
   "metadata": {},
   "outputs": [],
   "source": [
    "Gy = ((cassion_filled_mass*60/2+130*3.14*(12.5**2-12**2)*concrete_density*(60+130/2)\n",
    "        +100*3.14*12**2*sea_water_density*(60+100/2)+\n",
    "   min_deck_mass_to_keep_structure_from_floating*(130+60))/\n",
    "   (cassion_filled_mass+130*3.14*(12.5**2-12**2)*concrete_density+\n",
    "   100*3.14*12**2* sea_water_density+min_deck_mass_to_keep_structure_from_floating))"
   ]
  },
  {
   "cell_type": "code",
   "execution_count": 34,
   "id": "c22dd6ba",
   "metadata": {},
   "outputs": [
    {
     "data": {
      "text/plain": [
       "88.34724013833102"
      ]
     },
     "execution_count": 34,
     "metadata": {},
     "output_type": "execute_result"
    }
   ],
   "source": [
    "Gy"
   ]
  },
  {
   "cell_type": "code",
   "execution_count": 35,
   "id": "ce18a231",
   "metadata": {},
   "outputs": [],
   "source": [
    "By = ((cassion_filled_mass*60/2+100*3.14*(12.5**2-12**2)*concrete_density*(60+100/2)\n",
    "        +100*3.14*12**2*sea_water_density*(60+100/2))/(weight_of_displaced_fluid))"
   ]
  },
  {
   "cell_type": "code",
   "execution_count": 36,
   "id": "9e077fea",
   "metadata": {},
   "outputs": [
    {
     "data": {
      "text/plain": [
       "33.83544009376086"
      ]
     },
     "execution_count": 36,
     "metadata": {},
     "output_type": "execute_result"
    }
   ],
   "source": [
    "By"
   ]
  },
  {
   "cell_type": "code",
   "execution_count": null,
   "id": "dbca9fa5",
   "metadata": {},
   "outputs": [],
   "source": []
  },
  {
   "cell_type": "markdown",
   "id": "39d97ac7",
   "metadata": {},
   "source": [
    "#### c)."
   ]
  },
  {
   "cell_type": "markdown",
   "id": "64cacca4",
   "metadata": {},
   "source": [
    "The structure in mud might be not stable as By < Gy"
   ]
  },
  {
   "cell_type": "code",
   "execution_count": null,
   "id": "61328955",
   "metadata": {},
   "outputs": [],
   "source": []
  },
  {
   "cell_type": "markdown",
   "id": "9dcd48cf",
   "metadata": {},
   "source": [
    "### 2.5"
   ]
  },
  {
   "cell_type": "markdown",
   "id": "21a70607",
   "metadata": {},
   "source": [
    "https://www.mecaenterprises.com/fastest-mile-wind-speed/"
   ]
  },
  {
   "cell_type": "code",
   "execution_count": null,
   "id": "5a383144",
   "metadata": {},
   "outputs": [],
   "source": []
  },
  {
   "cell_type": "markdown",
   "id": "00324841",
   "metadata": {},
   "source": [
    "### 2.6"
   ]
  },
  {
   "cell_type": "code",
   "execution_count": 37,
   "id": "4ff99c25",
   "metadata": {},
   "outputs": [],
   "source": [
    "import matplotlib.pyplot as plt"
   ]
  },
  {
   "cell_type": "code",
   "execution_count": 38,
   "id": "8220756f",
   "metadata": {},
   "outputs": [],
   "source": [
    "x = [i/100 for i in range(100)]"
   ]
  },
  {
   "cell_type": "code",
   "execution_count": 39,
   "id": "b8f92958",
   "metadata": {},
   "outputs": [],
   "source": [
    "def wind(x, n):\n",
    "    return x**(1/n)"
   ]
  },
  {
   "cell_type": "code",
   "execution_count": 40,
   "id": "96b10b45",
   "metadata": {},
   "outputs": [],
   "source": [
    "# rough costal areaas\n",
    "y1=[]\n",
    "for i in range(len(x)):\n",
    "    y1.append(wind(x[i], 3))\n",
    "\n",
    "# unobstructed sea    \n",
    "y2=[]\n",
    "for i in range(len(x)):\n",
    "    y2.append(wind(x[i], 8))\n",
    "\n",
    "# gust    \n",
    "y3=[]\n",
    "for i in range(len(x)):\n",
    "    y3.append(wind(x[i], 13))    "
   ]
  },
  {
   "cell_type": "code",
   "execution_count": 41,
   "id": "4b429b67",
   "metadata": {},
   "outputs": [
    {
     "data": {
      "image/png": "[encoded data removed]",
      "text/plain": [
       "<Figure size 640x480 with 1 Axes>"
      ]
     },
     "metadata": {},
     "output_type": "display_data"
    }
   ],
   "source": [
    "plt.plot(x, y1, label='Rough costal areaas')\n",
    "plt.plot(x, y2, label='Unobstructed sea')\n",
    "plt.plot(x, y3, label='Gust')\n",
    "plt.xlabel('z/h')\n",
    "plt.ylabel('u(z)/u(h)')\n",
    "plt.title('Normalized horizontal wind velocity')\n",
    "plt.legend(loc='best')\n",
    "plt.show()"
   ]
  },
  {
   "cell_type": "code",
   "execution_count": 42,
   "id": "a37d57ba",
   "metadata": {},
   "outputs": [],
   "source": [
    "# Gust has the highest wind velocity"
   ]
  },
  {
   "cell_type": "code",
   "execution_count": null,
   "id": "6793bffe",
   "metadata": {},
   "outputs": [],
   "source": []
  },
  {
   "cell_type": "markdown",
   "id": "90285d08",
   "metadata": {},
   "source": [
    "### 2.7"
   ]
  },
  {
   "cell_type": "markdown",
   "id": "b25011e9",
   "metadata": {},
   "source": [
    "Fairings work by streamlining the flow of water around large-diameter tubulars, thereby minimizing vortex shedding forces. In addition to reducing riser and wellhead fatigue, fairings also lower top and bottom angles in strong currents. Fairings have been used to suppress the vortex-induced vibrations(VIV) of deep water cylinders in the offshore and marine engineering applications. When properly functioning, they can reduce both the cylinder oscillation amplitude in the cross-flow direction and the fluid drag force in the in-line direction."
   ]
  },
  {
   "cell_type": "code",
   "execution_count": null,
   "id": "af828f15",
   "metadata": {},
   "outputs": [],
   "source": []
  },
  {
   "cell_type": "markdown",
   "id": "2398ae6a",
   "metadata": {},
   "source": [
    "A tuned mass damper (TMD), also known as a harmonic absorber or seismic damper, is a device mounted in structures to reduce mechanical vibrations, consisting of a mass mounted on one or more damped springs. Its oscillation frequency is tuned to be similar to the resonant frequency of the object it is mounted to, and reduces the object's maximum amplitude while weighing much less than it."
   ]
  },
  {
   "cell_type": "code",
   "execution_count": null,
   "id": "09a95ac1",
   "metadata": {},
   "outputs": [],
   "source": []
  },
  {
   "cell_type": "markdown",
   "id": "721a61e5",
   "metadata": {},
   "source": [
    "A Stockbridge damper is a tuned mass damper used to suppress wind-induced vibrations on slender structures such as overhead power lines, long cantilevered signs and cable-stayed bridges. The dumbbell-shaped device consists of two masses at the ends of a short length of cable or flexible rod, which is clamped at its middle to the main cable. The damper is designed to dissipate the energy of oscillations in the main cable to an acceptable level."
   ]
  },
  {
   "cell_type": "code",
   "execution_count": null,
   "id": "96cf9820",
   "metadata": {},
   "outputs": [],
   "source": []
  },
  {
   "cell_type": "markdown",
   "id": "92b31c0c",
   "metadata": {},
   "source": [
    "### 2.8"
   ]
  },
  {
   "cell_type": "code",
   "execution_count": 43,
   "id": "769849b6",
   "metadata": {},
   "outputs": [],
   "source": [
    "z = [ -i for i in range(101)]"
   ]
  },
  {
   "cell_type": "code",
   "execution_count": 44,
   "id": "3d4b70fd",
   "metadata": {},
   "outputs": [],
   "source": [
    "d = 100"
   ]
  },
  {
   "cell_type": "code",
   "execution_count": 45,
   "id": "0addb273",
   "metadata": {},
   "outputs": [],
   "source": [
    "def normalized_tidal_current(z,d):\n",
    "    return (1+z/d)**(1/7)"
   ]
  },
  {
   "cell_type": "code",
   "execution_count": 46,
   "id": "ae322e2b",
   "metadata": {},
   "outputs": [],
   "source": [
    "def normalized_wind_stress_current(z,d): \n",
    "    return (1+z/d)"
   ]
  },
  {
   "cell_type": "code",
   "execution_count": 47,
   "id": "fb6aa82d",
   "metadata": {},
   "outputs": [
    {
     "data": {
      "image/png": "[encoded data removed]",
      "text/plain": [
       "<Figure size 640x480 with 1 Axes>"
      ]
     },
     "metadata": {},
     "output_type": "display_data"
    }
   ],
   "source": [
    "plt.plot(z, [normalized_tidal_current(i,d) for i in z],\n",
    "         label='Tidal Current')\n",
    "plt.plot(z, [normalized_wind_stress_current(i,d) for i in z],\n",
    "         label='Wind Stress Current')\n",
    "\n",
    "plt.xlabel('z')\n",
    "plt.ylabel('u(z)/u(0)')\n",
    "plt.title('Normalized velocity')\n",
    "\n",
    "plt.legend(loc='best')\n",
    "plt.show()"
   ]
  },
  {
   "cell_type": "code",
   "execution_count": 48,
   "id": "0e42dfb5",
   "metadata": {},
   "outputs": [],
   "source": [
    "# norm_tidal_current_with_offset = (1+z/d)**(1/7)*cos(theta)"
   ]
  },
  {
   "cell_type": "code",
   "execution_count": null,
   "id": "0df58bd3",
   "metadata": {},
   "outputs": [],
   "source": []
  },
  {
   "cell_type": "markdown",
   "id": "3ff814c8",
   "metadata": {},
   "source": [
    "### 2.9"
   ]
  },
  {
   "cell_type": "code",
   "execution_count": 49,
   "id": "39ce3cd5",
   "metadata": {},
   "outputs": [],
   "source": [
    "# F_d = 0.5 * C_d * rho * A * (v**2)"
   ]
  },
  {
   "cell_type": "code",
   "execution_count": 50,
   "id": "149c771e",
   "metadata": {},
   "outputs": [],
   "source": [
    "# C_d  is the drag coefficient, which depends on the shape of the object and the flow conditions"
   ]
  },
  {
   "cell_type": "code",
   "execution_count": 51,
   "id": "402c03e2",
   "metadata": {},
   "outputs": [],
   "source": [
    "# rho is the density of the fluid"
   ]
  },
  {
   "cell_type": "code",
   "execution_count": 52,
   "id": "f57a6ef2",
   "metadata": {},
   "outputs": [],
   "source": [
    "# A is the cross-sectional area of the cylinder perpendicular to the flow direction"
   ]
  },
  {
   "cell_type": "code",
   "execution_count": 53,
   "id": "b6992cc5",
   "metadata": {},
   "outputs": [],
   "source": [
    "# v is the velocity of the fluid relative to the object"
   ]
  },
  {
   "cell_type": "code",
   "execution_count": 54,
   "id": "0a15ddea",
   "metadata": {},
   "outputs": [],
   "source": [
    "C_d = 1.2 # - for a long, smooth cylinder in cross-flow\n",
    "rho = 1025\n",
    "D = 0.3\n",
    "R = D/2\n",
    "A = 3.14*R**2\n",
    "v = 0.514444*4"
   ]
  },
  {
   "cell_type": "code",
   "execution_count": 55,
   "id": "15fd4622",
   "metadata": {},
   "outputs": [],
   "source": [
    "F_d = 0.5 * C_d * rho * A * (v**2)"
   ]
  },
  {
   "cell_type": "code",
   "execution_count": 56,
   "id": "d1a9f26f",
   "metadata": {},
   "outputs": [
    {
     "data": {
      "text/plain": [
       "183.98544916483067"
      ]
     },
     "execution_count": 56,
     "metadata": {},
     "output_type": "execute_result"
    }
   ],
   "source": [
    "F_d"
   ]
  },
  {
   "cell_type": "markdown",
   "id": "18cf4745",
   "metadata": {},
   "source": [
    "Assumptions:\n",
    "1. The flow is steady and uniform.\n",
    "2. The pile is smooth and vertical.\n",
    "3. The drag coefficient ( C_d ) is constant and appropriate for the given conditions.\n",
    "4. The density of seawater is taken as 1025 kg/m^3 ."
   ]
  },
  {
   "cell_type": "code",
   "execution_count": null,
   "id": "4e2d0710",
   "metadata": {},
   "outputs": [],
   "source": []
  },
  {
   "cell_type": "markdown",
   "id": "301d05c0",
   "metadata": {},
   "source": [
    "### 2.10"
   ]
  },
  {
   "cell_type": "markdown",
   "id": "bde6eb46",
   "metadata": {},
   "source": [
    "- Seismic waves behave differently in marine environments compared to onshore settings due to differences in geological formations and water layers. This can lead to inaccuracies if onshore data is directly applied to offshore conditions.\n",
    "- The seabed conditions offshore can be significantly different from onshore conditions. Using onshore data might not account for these variations, potentially leading to underestimation or overestimation of seismic forces."
   ]
  },
  {
   "cell_type": "code",
   "execution_count": null,
   "id": "09b028b0",
   "metadata": {},
   "outputs": [],
   "source": []
  },
  {
   "cell_type": "markdown",
   "id": "bd9c7ddd",
   "metadata": {},
   "source": [
    "### 2.11"
   ]
  },
  {
   "cell_type": "markdown",
   "id": "976e09b1",
   "metadata": {},
   "source": [
    "The variability in the coefficient ( C_i ), used to predict the horizontal impact of ice on offshore structures, can be attributed to several physical factors:\n",
    "\n",
    "1. Ice Properties\n",
    "- Ice Strength and Salinity: The mechanical properties of ice, such as its strength and salinity, can vary significantly. Ice with higher salinity tends to be weaker, affecting the impact force on structures.\n",
    "\n",
    "- Ice Temperature: Colder ice is generally stronger and more brittle, leading to different impact characteristics compared to warmer, more ductile ice.\n",
    "\n",
    "2. Ice Failure Modes\n",
    "- Crushing, Bending, and Shearing: Ice can fail in different modes depending on the interaction with the structure. Crushing, bending, and shearing failures each produce different forces.\n",
    "\n",
    "- Rate of Loading: The speed at which ice impacts the structure can change the failure mode. Faster impacts tend to cause brittle failure, while slower impacts may result in ductile failure.\n",
    "\n",
    "3. Environmental Conditions\n",
    "- Water Temperature and Salinity: The surrounding water conditions can influence the ice properties and its interaction with the structure.\n",
    "\n",
    "- Wave and Current Actions: Dynamic environmental conditions, such as waves and currents, can alter the impact forces by changing the relative motion between the ice and the structure.\n",
    "\n",
    "4. Structural Characteristics\n",
    "- Shape and Orientation: The geometry and orientation of the offshore structure can affect how ice impacts it. Structures with different shapes will experience varying force distributions.\n",
    "\n",
    "- Material and Damping Properties: The material properties and damping characteristics of the structure itself can influence how it responds to ice impacts."
   ]
  },
  {
   "cell_type": "code",
   "execution_count": null,
   "id": "6eb5b642",
   "metadata": {},
   "outputs": [],
   "source": []
  },
  {
   "cell_type": "markdown",
   "id": "026e42d3",
   "metadata": {},
   "source": [
    "### 2.12"
   ]
  },
  {
   "cell_type": "markdown",
   "id": "8e3ed866",
   "metadata": {},
   "source": [
    "Offshore platforms in different regions face unique environmental challenges that influence their design. This report compares the design features of offshore platforms near Alaska, which are built to resist ice hazards, with jacket-template structures commonly used in the Gulf of Mexico.\n",
    "\n",
    "Design Features of Offshore Platforms Near Alaska\n",
    "1. Ice-Resistant Structures:\n",
    "- Ice-Strengthened Hulls: Platforms are designed with reinforced hulls to withstand the impact and pressure of moving ice. This includes thicker steel plating and additional bracing.\n",
    "\n",
    "- Conical Shapes: Some platforms use conical or sloped shapes to deflect ice and reduce the horizontal forces exerted by ice floes.\n",
    "\n",
    "2. Gravity-Based Structures (GBS):\n",
    "- Heavy Foundations: Gravity-based structures are used to provide stability against ice forces. These structures rely on their massive weight to remain anchored to the seabed.\n",
    "\n",
    "- Ice Walls: GBS platforms often feature vertical ice walls designed to break and manage ice loads effectively.\n",
    "\n",
    "3. Dynamic Positioning Systems:\n",
    "- Mobility: Some platforms are equipped with dynamic positioning systems that allow them to move slightly to avoid large ice masses.\n",
    "\n",
    "4. Environmental Monitoring:\n",
    "- Ice Detection Systems: Advanced radar and sonar systems are used to monitor ice movement and thickness, allowing for proactive measures to mitigate ice impact.\n",
    "\n",
    "\n",
    "\n",
    "Design Features of Jacket-Template Structures in the Gulf of Mexico\n",
    "1. Fixed Jacket Structures:\n",
    "- Piled Foundations: Jacket structures are fixed to the seabed using piles driven deep into the ocean floor, providing stability against waves and currents.\n",
    "\n",
    "- Open Framework: The open lattice design reduces hydrodynamic forces by allowing water to flow through the structure, minimizing drag and wave impact.\n",
    "\n",
    "2. Corrosion Protection:\n",
    "- Cathodic Protection: Jacket structures are equipped with cathodic protection systems to prevent corrosion in the saltwater environment.\n",
    "\n",
    "- Coatings: Special coatings are applied to steel components to enhance durability and reduce maintenance.\n",
    "\n",
    "3. Wave and Wind Resistance:\n",
    "- Wave Bracing: Additional bracing is used to withstand the forces from waves and wind, which are the primary environmental challenges in the Gulf of Mexico.\n",
    "\n",
    "- Elevated Decks: Decks are elevated above the highest expected wave crests to prevent wave impact on operational areas."
   ]
  },
  {
   "cell_type": "code",
   "execution_count": null,
   "id": "5f004862",
   "metadata": {},
   "outputs": [],
   "source": []
  },
  {
   "cell_type": "markdown",
   "id": "aadc771c",
   "metadata": {},
   "source": [
    "### 2.13"
   ]
  },
  {
   "cell_type": "code",
   "execution_count": 57,
   "id": "3c750c15",
   "metadata": {},
   "outputs": [],
   "source": [
    "from scipy.optimize import curve_fit\n",
    "import numpy as np\n",
    "from matplotlib import pyplot"
   ]
  },
  {
   "cell_type": "code",
   "execution_count": 58,
   "id": "295320ab",
   "metadata": {},
   "outputs": [
    {
     "name": "stdout",
     "output_type": "stream",
     "text": [
      "y = -0.21 + 2.33*v^3\n"
     ]
    },
    {
     "data": {
      "image/png": "[encoded data removed]",
      "text/plain": [
       "<Figure size 640x480 with 1 Axes>"
      ]
     },
     "metadata": {},
     "output_type": "display_data"
    }
   ],
   "source": [
    "def Fx_hat(v, k1, k3):\n",
    "    return k1+k3*v**3\n",
    " \n",
    "# data\n",
    "v = np.arange(-3/2, 3/2, 0.1)\n",
    "data = [np.tan(v[i]) for i in range(len(v))]\n",
    "\n",
    "# curve fit\n",
    "popt, _ = curve_fit(Fx_hat, v, data)\n",
    "\n",
    "k1, k3 = popt\n",
    "print('y = %.2f + %.2f*v^3' % (k1, k3))\n",
    "\n",
    "pyplot.scatter(v, data)\n",
    "\n",
    "x_line = np.arange(min(v), max(v), 0.1)\n",
    "y_line = [Fx_hat(x_line[i], k1, k3) for i in range(len(x_line))]\n",
    "pyplot.plot(x_line, y_line, '--', color='red')\n",
    "pyplot.show()"
   ]
  },
  {
   "cell_type": "code",
   "execution_count": 59,
   "id": "c555df75",
   "metadata": {},
   "outputs": [
    {
     "data": {
      "image/png": "[encoded data removed]",
      "text/plain": [
       "<Figure size 640x480 with 1 Axes>"
      ]
     },
     "metadata": {},
     "output_type": "display_data"
    }
   ],
   "source": [
    "# q(v)=2*w*z0*Fx_hat\n",
    "\n",
    "w=39\n",
    "z0=1000\n",
    "\n",
    "x_line = np.arange(min(v), max(v), 0.1)\n",
    "# calculate the output for the range\n",
    "y_line = [2*Fx_hat(x_line[i], k1, k3)/(w*z0) for i in range(len(x_line))]\n",
    "# create a line plot for the mapping function\n",
    "pyplot.plot(x_line, y_line, '--', color='green')\n",
    "pyplot.show()"
   ]
  },
  {
   "cell_type": "code",
   "execution_count": null,
   "id": "2fad5892",
   "metadata": {},
   "outputs": [],
   "source": []
  },
  {
   "cell_type": "code",
   "execution_count": 60,
   "id": "be2c50b5",
   "metadata": {},
   "outputs": [
    {
     "data": {
      "text/plain": [
       "14.966761510999541"
      ]
     },
     "execution_count": 60,
     "metadata": {},
     "output_type": "execute_result"
    }
   ],
   "source": [
    "v_=0.05*z0\n",
    "2*Fx_hat(v_, k1, k3)/(w*z0)"
   ]
  },
  {
   "cell_type": "code",
   "execution_count": null,
   "id": "0be9575e",
   "metadata": {},
   "outputs": [],
   "source": []
  },
  {
   "cell_type": "markdown",
   "id": "5f46c20f",
   "metadata": {},
   "source": [
    "### 2.14"
   ]
  },
  {
   "cell_type": "markdown",
   "id": "1806ef08",
   "metadata": {},
   "source": [
    "To analyze the restoring force for a floating structure supported by four identical, symmetrically arranged cables, we break down the problem as follows:\n",
    "\n",
    "1. Assumptions and Setup:\n",
    "- The structure is supported by four cables, each 90 degrees apart.\n",
    "- The motion is horizontal and along the line of two opposing cables.\n",
    "- The cables perpendicular to the direction of motion contribute very little resistance.\n",
    "\n",
    "2. Restoring Force Calculation:\n",
    "- Let the deflection in the horizontal direction be: x .\n",
    "- The tension in the cables along the direction of motion will change due to this deflection.\n",
    "- The cables perpendicular to the motion will have minimal change in tension and thus contribute little to the restoring force.\n",
    "\n",
    "3. Force Analysis:\n",
    "- For small deflections, the horizontal component of the tension in the cables along the direction of motion can be approximated as linear.\n",
    "\n",
    "4. Restoring Force Expression:\n",
    "- If  k  is the stiffness of each cable, the change in tension in each cable is  about k * x/2 .\n",
    "\n",
    "- The restoring force  F  is then k * x/2 * cos(theta), where theta  is the angle of deflection."
   ]
  },
  {
   "cell_type": "code",
   "execution_count": 61,
   "id": "9a8055e8",
   "metadata": {},
   "outputs": [],
   "source": [
    "z0=1000\n",
    "x=0.05*z0\n",
    "k=12000"
   ]
  },
  {
   "cell_type": "code",
   "execution_count": 62,
   "id": "1a047df6",
   "metadata": {},
   "outputs": [
    {
     "data": {
      "text/plain": [
       "13.384261948310378"
      ]
     },
     "execution_count": 62,
     "metadata": {},
     "output_type": "execute_result"
    }
   ],
   "source": [
    "# For what range of initial angles is this approximation not good one ? For more than:\n",
    "np.rad2deg(np.arccos(2*Fx_hat(x, k1, k3)/(k*x)))"
   ]
  },
  {
   "cell_type": "code",
   "execution_count": null,
   "id": "ddad9e30",
   "metadata": {},
   "outputs": [],
   "source": []
  },
  {
   "cell_type": "markdown",
   "id": "ca04fb34",
   "metadata": {},
   "source": [
    "### 2.15"
   ]
  },
  {
   "cell_type": "code",
   "execution_count": 63,
   "id": "9a6c2153",
   "metadata": {},
   "outputs": [
    {
     "data": {
      "image/png": "[encoded data removed]",
      "text/plain": [
       "<Figure size 640x480 with 1 Axes>"
      ]
     },
     "metadata": {},
     "output_type": "display_data"
    }
   ],
   "source": [
    "y_line = [2*Fx_hat(x_line[i]*(1+2*np.cos(3.14/6)+2*np.cos(2*3.14/6)), k1, k3)/(w*z0) for i in range(len(x_line))]\n",
    "pyplot.plot(x_line, y_line, '--', color='brown')\n",
    "pyplot.show()"
   ]
  },
  {
   "cell_type": "code",
   "execution_count": null,
   "id": "86b9b939",
   "metadata": {},
   "outputs": [],
   "source": []
  },
  {
   "cell_type": "markdown",
   "id": "8f46380a",
   "metadata": {},
   "source": [
    "### 2.16"
   ]
  },
  {
   "cell_type": "code",
   "execution_count": 64,
   "id": "012c1d90",
   "metadata": {},
   "outputs": [],
   "source": [
    "D = 4\n",
    "E=3000*144\n",
    "N0=14*2.2046226218488\n",
    "l=30"
   ]
  },
  {
   "cell_type": "code",
   "execution_count": 65,
   "id": "b7f040a1",
   "metadata": {},
   "outputs": [],
   "source": [
    "EI = E*3.14/64*D**4"
   ]
  },
  {
   "cell_type": "code",
   "execution_count": 66,
   "id": "b7375a2d",
   "metadata": {},
   "outputs": [],
   "source": [
    "lu=(102.9*EI/N0)**(1/5)"
   ]
  },
  {
   "cell_type": "code",
   "execution_count": 67,
   "id": "9068e5b9",
   "metadata": {},
   "outputs": [],
   "source": [
    "le=lu*(0.4+1.353*(l/lu)+1.875*(l/lu)**2+(l/lu)**3)**(1/3)"
   ]
  },
  {
   "cell_type": "code",
   "execution_count": 68,
   "id": "b3226360",
   "metadata": {},
   "outputs": [
    {
     "data": {
      "text/plain": [
       "48.80268502057538"
      ]
     },
     "execution_count": 68,
     "metadata": {},
     "output_type": "execute_result"
    }
   ],
   "source": [
    "le"
   ]
  },
  {
   "cell_type": "code",
   "execution_count": null,
   "id": "4a1902e5",
   "metadata": {},
   "outputs": [],
   "source": []
  }
 ],
 "metadata": {
  "kernelspec": {
   "display_name": "Python 3 (ipykernel)",
   "language": "python",
   "name": "python3"
  },
  "language_info": {
   "codemirror_mode": {
    "name": "ipython",
    "version": 3
   },
   "file_extension": ".py",
   "mimetype": "text/x-python",
   "name": "python",
   "nbconvert_exporter": "python",
   "pygments_lexer": "ipython3",
   "version": "3.9.6"
  }
 },
 "nbformat": 4,
 "nbformat_minor": 5
}
